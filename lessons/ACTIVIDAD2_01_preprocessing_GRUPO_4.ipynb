{
  "cells": [
    {
      "cell_type": "markdown",
      "id": "d3e7ea21-6437-48e8-a9e4-3bdc05f709c9",
      "metadata": {
        "id": "d3e7ea21-6437-48e8-a9e4-3bdc05f709c9"
      },
      "source": [
        "# Python Text Analysis: Preprocessing\n",
        "\n",
        "* * *\n",
        "\n",
        "<div class=\"alert alert-success\">  \n",
        "    \n",
        "### Learning Objectives\n",
        "    \n",
        "* Learn common steps for preprocessing text data, as well as specific operations for preprocessing Twitter data.\n",
        "* Know commonly used NLP packages and what they are capable of.\n",
        "* Understand tokenizers, and how they have changed since the advent of Large Language Models.\n",
        "</div>\n",
        "\n",
        "### Icons Used in This Notebook\n",
        "🔔 **Question**: A quick question to help you understand what's going on.<br>\n",
        "🥊 **Challenge**: Interactive excersise. We'll work through these in the workshop!<br>\n",
        "⚠️ **Warning:** Heads-up about tricky stuff or common mistakes.<br>\n",
        "🎬 **Demo**: Showing off something more advanced – so you know what Python can be used for!<br>\n",
        "\n",
        "### Sections\n",
        "1. [Preprocessing](#section1)\n",
        "2. [Tokenization](#section2)\n",
        "\n",
        "In this three-part workshop series, we'll learn the building blocks for performing text analysis in Python. These techniques lie in the domain of Natural Language Processing (NLP). NLP is a field that deals with identifying and extracting patterns of language, primarily in written texts. Throughout the workshop series, we'll interact with various packages for performing text analysis: starting from simple string methods to specific NLP packages, such as `nltk`, `spaCy`, and more recent ones on Large Language Models (`BERT`).\n",
        "\n",
        "Now, let's have these packages properly installed before diving into the materials."
      ]
    },
    {
      "cell_type": "code",
      "execution_count": 332,
      "id": "d442e4c7-e926-493d-a64e-516616ad915a",
      "metadata": {
        "id": "d442e4c7-e926-493d-a64e-516616ad915a"
      },
      "outputs": [],
      "source": [
        "# Uncomment the following lines to install packages/model\n",
        "# %pip install NLTK\n",
        "# %pip install transformers\n",
        "# %pip install spaCy\n",
        "# !python -m spacy download en_core_web_sm"
      ]
    },
    {
      "cell_type": "markdown",
      "id": "df5b8f8e-4e69-426e-a202-ec48b325e89a",
      "metadata": {
        "id": "df5b8f8e-4e69-426e-a202-ec48b325e89a"
      },
      "source": [
        "<a id='section1'></a>\n",
        "\n",
        "# Preprocessing\n",
        "\n",
        "In Part 1 of this workshop, we'll address the first step of text analysis. Our goal is to convert the raw, messy text data into a consistent format. This process is often called **preprocessing**, **text cleaning**, or **text normalization**.\n",
        "\n",
        "You'll notice that at the end of preprocessing, our data is still in a format that we can read and understand. In Parts 2 and 3, we will begin our foray into converting the text data into a numerical representation—a format that can be more readily handled by computers.\n",
        "\n",
        "🔔 **Question**: Let's pause for a minute to reflect on **your** previous experiences working on text data.\n",
        "- What is the format of the text data you have interacted with (plain text, CSV, or XML)?\n",
        "- Where does it come from (structured corpus, scraped from the web, survey data)?\n",
        "- Is it messy (i.e., is the data formatted consistently)?"
      ]
    },
    {
      "cell_type": "markdown",
      "id": "4b35911a-3b3f-4a48-a7d1-9882aab04851",
      "metadata": {
        "id": "4b35911a-3b3f-4a48-a7d1-9882aab04851"
      },
      "source": [
        "## Common Processes\n",
        "\n",
        "Preprocessing is not something we can accomplish with a single line of code. We often start by familiarizing ourselves with the data, and along the way, we gain a clearer understanding of the granularity of preprocessing we want to apply.\n",
        "\n",
        "Typically, we begin by applying a set of commonly used processes to clean the data. These operations don't substantially alter the form or meaning of the data; they serve as a standardized procedure to reshape the data into a consistent format.\n",
        "\n",
        "The following processes, for examples, are commonly applied to preprocess English texts of various genres. These operations can be done using built-in Python functions, such as `string` methods, and Regular Expressions.\n",
        "- Lowercase the text\n",
        "- Remove punctuation marks\n",
        "- Remove extra whitespace characters\n",
        "- Remove stop words\n",
        "\n",
        "After the initial processing, we may choose to perform task-specific processes, the specifics of which often depend on the downstream task we want to perform and the nature of the text data (i.e., its stylistic and linguistic features).  \n",
        "\n",
        "Before we jump into these operations, let's take a look at our data!"
      ]
    },
    {
      "cell_type": "markdown",
      "id": "ec5d7350-9a1e-4db9-b828-a87fe1676d8d",
      "metadata": {
        "id": "ec5d7350-9a1e-4db9-b828-a87fe1676d8d"
      },
      "source": [
        "### Import the Text Data\n",
        "\n",
        "The text data we'll be working with is a CSV file. It contains tweets about U.S. airlines, scrapped from Feb 2015.\n",
        "\n",
        "Let's read the file `airline_tweets.csv` into dataframe with `pandas`."
      ]
    },
    {
      "cell_type": "code",
      "execution_count": 333,
      "id": "3d1ff64b-53ad-4eca-b846-3fda20085c43",
      "metadata": {
        "id": "3d1ff64b-53ad-4eca-b846-3fda20085c43"
      },
      "outputs": [],
      "source": [
        "# Import pandas\n",
        "import pandas as pd\n",
        "\n",
        "# File path to data\n",
        "csv_path = 'ejercicio1/data/airline_tweets.csv'\n",
        "\n",
        "# Specify the separator\n",
        "tweets = pd.read_csv(csv_path, sep=',')\n",
        "# Este fragmento de código importa la librería pandas, define la ruta de un archivo CSV que contiene tuits de aerolíneas,\n",
        "# y luego carga ese archivo en un DataFrame llamado 'tweets' para su posterior análisis.\n"
      ]
    },
    {
      "cell_type": "code",
      "source": [
        "!git clone https://github.com/dlab-berkeley/Python-Text-Analysis.git\n",
        "# Este comando clona (descarga) el repositorio de GitHub 'Python-Text-Analysis' en el entorno local,\n",
        "# permitiéndote acceder a todos los archivos y materiales contenidos en él.\n"
      ],
      "metadata": {
        "colab": {
          "base_uri": "https://localhost:8080/"
        },
        "id": "HHeTNtRfeD2P",
        "outputId": "c53c20e4-108c-4de7-b3df-543ce544a64f"
      },
      "id": "HHeTNtRfeD2P",
      "execution_count": 334,
      "outputs": [
        {
          "output_type": "stream",
          "name": "stdout",
          "text": [
            "fatal: destination path 'Python-Text-Analysis' already exists and is not an empty directory.\n"
          ]
        }
      ]
    },
    {
      "cell_type": "code",
      "source": [
        "from google.colab import drive\n",
        "drive.mount('/content/drive')\n",
        "# Este código importa el módulo 'drive' de Google Colab y monta tu Google Drive en la ruta '/content/drive',\n",
        "# lo que permite acceder a tus archivos de Drive directamente desde el entorno de Colab.\n"
      ],
      "metadata": {
        "colab": {
          "base_uri": "https://localhost:8080/"
        },
        "id": "b3Xm7HbDd0Nz",
        "outputId": "c029e6db-67de-484d-b590-f729caed6dcc"
      },
      "id": "b3Xm7HbDd0Nz",
      "execution_count": 335,
      "outputs": [
        {
          "output_type": "stream",
          "name": "stdout",
          "text": [
            "Drive already mounted at /content/drive; to attempt to forcibly remount, call drive.mount(\"/content/drive\", force_remount=True).\n"
          ]
        }
      ]
    },
    {
      "cell_type": "code",
      "execution_count": 336,
      "id": "e397ac6a-c2ba-4cce-8700-b36b38026c9d",
      "metadata": {
        "id": "e397ac6a-c2ba-4cce-8700-b36b38026c9d",
        "colab": {
          "base_uri": "https://localhost:8080/",
          "height": 451
        },
        "outputId": "175a201d-b3cb-47bf-c16c-e2ca9bdd4bb9"
      },
      "outputs": [
        {
          "output_type": "execute_result",
          "data": {
            "text/plain": [
              "             tweet_id airline_sentiment  airline_sentiment_confidence  \\\n",
              "0  570306133677760513           neutral                        1.0000   \n",
              "1  570301130888122368          positive                        0.3486   \n",
              "2  570301083672813571           neutral                        0.6837   \n",
              "3  570301031407624196          negative                        1.0000   \n",
              "4  570300817074462722          negative                        1.0000   \n",
              "\n",
              "  negativereason  negativereason_confidence         airline  \\\n",
              "0            NaN                        NaN  Virgin America   \n",
              "1            NaN                     0.0000  Virgin America   \n",
              "2            NaN                        NaN  Virgin America   \n",
              "3     Bad Flight                     0.7033  Virgin America   \n",
              "4     Can't Tell                     1.0000  Virgin America   \n",
              "\n",
              "  airline_sentiment_gold        name negativereason_gold  retweet_count  \\\n",
              "0                    NaN     cairdin                 NaN              0   \n",
              "1                    NaN    jnardino                 NaN              0   \n",
              "2                    NaN  yvonnalynn                 NaN              0   \n",
              "3                    NaN    jnardino                 NaN              0   \n",
              "4                    NaN    jnardino                 NaN              0   \n",
              "\n",
              "                                                text tweet_coord  \\\n",
              "0                @VirginAmerica What @dhepburn said.         NaN   \n",
              "1  @VirginAmerica plus you've added commercials t...         NaN   \n",
              "2  @VirginAmerica I didn't today... Must mean I n...         NaN   \n",
              "3  @VirginAmerica it's really aggressive to blast...         NaN   \n",
              "4  @VirginAmerica and it's a really big bad thing...         NaN   \n",
              "\n",
              "               tweet_created tweet_location               user_timezone  \n",
              "0  2015-02-24 11:35:52 -0800            NaN  Eastern Time (US & Canada)  \n",
              "1  2015-02-24 11:15:59 -0800            NaN  Pacific Time (US & Canada)  \n",
              "2  2015-02-24 11:15:48 -0800      Lets Play  Central Time (US & Canada)  \n",
              "3  2015-02-24 11:15:36 -0800            NaN  Pacific Time (US & Canada)  \n",
              "4  2015-02-24 11:14:45 -0800            NaN  Pacific Time (US & Canada)  "
            ],
            "text/html": [
              "\n",
              "  <div id=\"df-f9e94ba1-0d2b-4613-b48a-44db8b0c6da6\" class=\"colab-df-container\">\n",
              "    <div>\n",
              "<style scoped>\n",
              "    .dataframe tbody tr th:only-of-type {\n",
              "        vertical-align: middle;\n",
              "    }\n",
              "\n",
              "    .dataframe tbody tr th {\n",
              "        vertical-align: top;\n",
              "    }\n",
              "\n",
              "    .dataframe thead th {\n",
              "        text-align: right;\n",
              "    }\n",
              "</style>\n",
              "<table border=\"1\" class=\"dataframe\">\n",
              "  <thead>\n",
              "    <tr style=\"text-align: right;\">\n",
              "      <th></th>\n",
              "      <th>tweet_id</th>\n",
              "      <th>airline_sentiment</th>\n",
              "      <th>airline_sentiment_confidence</th>\n",
              "      <th>negativereason</th>\n",
              "      <th>negativereason_confidence</th>\n",
              "      <th>airline</th>\n",
              "      <th>airline_sentiment_gold</th>\n",
              "      <th>name</th>\n",
              "      <th>negativereason_gold</th>\n",
              "      <th>retweet_count</th>\n",
              "      <th>text</th>\n",
              "      <th>tweet_coord</th>\n",
              "      <th>tweet_created</th>\n",
              "      <th>tweet_location</th>\n",
              "      <th>user_timezone</th>\n",
              "    </tr>\n",
              "  </thead>\n",
              "  <tbody>\n",
              "    <tr>\n",
              "      <th>0</th>\n",
              "      <td>570306133677760513</td>\n",
              "      <td>neutral</td>\n",
              "      <td>1.0000</td>\n",
              "      <td>NaN</td>\n",
              "      <td>NaN</td>\n",
              "      <td>Virgin America</td>\n",
              "      <td>NaN</td>\n",
              "      <td>cairdin</td>\n",
              "      <td>NaN</td>\n",
              "      <td>0</td>\n",
              "      <td>@VirginAmerica What @dhepburn said.</td>\n",
              "      <td>NaN</td>\n",
              "      <td>2015-02-24 11:35:52 -0800</td>\n",
              "      <td>NaN</td>\n",
              "      <td>Eastern Time (US &amp; Canada)</td>\n",
              "    </tr>\n",
              "    <tr>\n",
              "      <th>1</th>\n",
              "      <td>570301130888122368</td>\n",
              "      <td>positive</td>\n",
              "      <td>0.3486</td>\n",
              "      <td>NaN</td>\n",
              "      <td>0.0000</td>\n",
              "      <td>Virgin America</td>\n",
              "      <td>NaN</td>\n",
              "      <td>jnardino</td>\n",
              "      <td>NaN</td>\n",
              "      <td>0</td>\n",
              "      <td>@VirginAmerica plus you've added commercials t...</td>\n",
              "      <td>NaN</td>\n",
              "      <td>2015-02-24 11:15:59 -0800</td>\n",
              "      <td>NaN</td>\n",
              "      <td>Pacific Time (US &amp; Canada)</td>\n",
              "    </tr>\n",
              "    <tr>\n",
              "      <th>2</th>\n",
              "      <td>570301083672813571</td>\n",
              "      <td>neutral</td>\n",
              "      <td>0.6837</td>\n",
              "      <td>NaN</td>\n",
              "      <td>NaN</td>\n",
              "      <td>Virgin America</td>\n",
              "      <td>NaN</td>\n",
              "      <td>yvonnalynn</td>\n",
              "      <td>NaN</td>\n",
              "      <td>0</td>\n",
              "      <td>@VirginAmerica I didn't today... Must mean I n...</td>\n",
              "      <td>NaN</td>\n",
              "      <td>2015-02-24 11:15:48 -0800</td>\n",
              "      <td>Lets Play</td>\n",
              "      <td>Central Time (US &amp; Canada)</td>\n",
              "    </tr>\n",
              "    <tr>\n",
              "      <th>3</th>\n",
              "      <td>570301031407624196</td>\n",
              "      <td>negative</td>\n",
              "      <td>1.0000</td>\n",
              "      <td>Bad Flight</td>\n",
              "      <td>0.7033</td>\n",
              "      <td>Virgin America</td>\n",
              "      <td>NaN</td>\n",
              "      <td>jnardino</td>\n",
              "      <td>NaN</td>\n",
              "      <td>0</td>\n",
              "      <td>@VirginAmerica it's really aggressive to blast...</td>\n",
              "      <td>NaN</td>\n",
              "      <td>2015-02-24 11:15:36 -0800</td>\n",
              "      <td>NaN</td>\n",
              "      <td>Pacific Time (US &amp; Canada)</td>\n",
              "    </tr>\n",
              "    <tr>\n",
              "      <th>4</th>\n",
              "      <td>570300817074462722</td>\n",
              "      <td>negative</td>\n",
              "      <td>1.0000</td>\n",
              "      <td>Can't Tell</td>\n",
              "      <td>1.0000</td>\n",
              "      <td>Virgin America</td>\n",
              "      <td>NaN</td>\n",
              "      <td>jnardino</td>\n",
              "      <td>NaN</td>\n",
              "      <td>0</td>\n",
              "      <td>@VirginAmerica and it's a really big bad thing...</td>\n",
              "      <td>NaN</td>\n",
              "      <td>2015-02-24 11:14:45 -0800</td>\n",
              "      <td>NaN</td>\n",
              "      <td>Pacific Time (US &amp; Canada)</td>\n",
              "    </tr>\n",
              "  </tbody>\n",
              "</table>\n",
              "</div>\n",
              "    <div class=\"colab-df-buttons\">\n",
              "\n",
              "  <div class=\"colab-df-container\">\n",
              "    <button class=\"colab-df-convert\" onclick=\"convertToInteractive('df-f9e94ba1-0d2b-4613-b48a-44db8b0c6da6')\"\n",
              "            title=\"Convert this dataframe to an interactive table.\"\n",
              "            style=\"display:none;\">\n",
              "\n",
              "  <svg xmlns=\"http://www.w3.org/2000/svg\" height=\"24px\" viewBox=\"0 -960 960 960\">\n",
              "    <path d=\"M120-120v-720h720v720H120Zm60-500h600v-160H180v160Zm220 220h160v-160H400v160Zm0 220h160v-160H400v160ZM180-400h160v-160H180v160Zm440 0h160v-160H620v160ZM180-180h160v-160H180v160Zm440 0h160v-160H620v160Z\"/>\n",
              "  </svg>\n",
              "    </button>\n",
              "\n",
              "  <style>\n",
              "    .colab-df-container {\n",
              "      display:flex;\n",
              "      gap: 12px;\n",
              "    }\n",
              "\n",
              "    .colab-df-convert {\n",
              "      background-color: #E8F0FE;\n",
              "      border: none;\n",
              "      border-radius: 50%;\n",
              "      cursor: pointer;\n",
              "      display: none;\n",
              "      fill: #1967D2;\n",
              "      height: 32px;\n",
              "      padding: 0 0 0 0;\n",
              "      width: 32px;\n",
              "    }\n",
              "\n",
              "    .colab-df-convert:hover {\n",
              "      background-color: #E2EBFA;\n",
              "      box-shadow: 0px 1px 2px rgba(60, 64, 67, 0.3), 0px 1px 3px 1px rgba(60, 64, 67, 0.15);\n",
              "      fill: #174EA6;\n",
              "    }\n",
              "\n",
              "    .colab-df-buttons div {\n",
              "      margin-bottom: 4px;\n",
              "    }\n",
              "\n",
              "    [theme=dark] .colab-df-convert {\n",
              "      background-color: #3B4455;\n",
              "      fill: #D2E3FC;\n",
              "    }\n",
              "\n",
              "    [theme=dark] .colab-df-convert:hover {\n",
              "      background-color: #434B5C;\n",
              "      box-shadow: 0px 1px 3px 1px rgba(0, 0, 0, 0.15);\n",
              "      filter: drop-shadow(0px 1px 2px rgba(0, 0, 0, 0.3));\n",
              "      fill: #FFFFFF;\n",
              "    }\n",
              "  </style>\n",
              "\n",
              "    <script>\n",
              "      const buttonEl =\n",
              "        document.querySelector('#df-f9e94ba1-0d2b-4613-b48a-44db8b0c6da6 button.colab-df-convert');\n",
              "      buttonEl.style.display =\n",
              "        google.colab.kernel.accessAllowed ? 'block' : 'none';\n",
              "\n",
              "      async function convertToInteractive(key) {\n",
              "        const element = document.querySelector('#df-f9e94ba1-0d2b-4613-b48a-44db8b0c6da6');\n",
              "        const dataTable =\n",
              "          await google.colab.kernel.invokeFunction('convertToInteractive',\n",
              "                                                    [key], {});\n",
              "        if (!dataTable) return;\n",
              "\n",
              "        const docLinkHtml = 'Like what you see? Visit the ' +\n",
              "          '<a target=\"_blank\" href=https://colab.research.google.com/notebooks/data_table.ipynb>data table notebook</a>'\n",
              "          + ' to learn more about interactive tables.';\n",
              "        element.innerHTML = '';\n",
              "        dataTable['output_type'] = 'display_data';\n",
              "        await google.colab.output.renderOutput(dataTable, element);\n",
              "        const docLink = document.createElement('div');\n",
              "        docLink.innerHTML = docLinkHtml;\n",
              "        element.appendChild(docLink);\n",
              "      }\n",
              "    </script>\n",
              "  </div>\n",
              "\n",
              "\n",
              "    <div id=\"df-f10a0646-50af-4762-99b7-2cbeaf39f1d0\">\n",
              "      <button class=\"colab-df-quickchart\" onclick=\"quickchart('df-f10a0646-50af-4762-99b7-2cbeaf39f1d0')\"\n",
              "                title=\"Suggest charts\"\n",
              "                style=\"display:none;\">\n",
              "\n",
              "<svg xmlns=\"http://www.w3.org/2000/svg\" height=\"24px\"viewBox=\"0 0 24 24\"\n",
              "     width=\"24px\">\n",
              "    <g>\n",
              "        <path d=\"M19 3H5c-1.1 0-2 .9-2 2v14c0 1.1.9 2 2 2h14c1.1 0 2-.9 2-2V5c0-1.1-.9-2-2-2zM9 17H7v-7h2v7zm4 0h-2V7h2v10zm4 0h-2v-4h2v4z\"/>\n",
              "    </g>\n",
              "</svg>\n",
              "      </button>\n",
              "\n",
              "<style>\n",
              "  .colab-df-quickchart {\n",
              "      --bg-color: #E8F0FE;\n",
              "      --fill-color: #1967D2;\n",
              "      --hover-bg-color: #E2EBFA;\n",
              "      --hover-fill-color: #174EA6;\n",
              "      --disabled-fill-color: #AAA;\n",
              "      --disabled-bg-color: #DDD;\n",
              "  }\n",
              "\n",
              "  [theme=dark] .colab-df-quickchart {\n",
              "      --bg-color: #3B4455;\n",
              "      --fill-color: #D2E3FC;\n",
              "      --hover-bg-color: #434B5C;\n",
              "      --hover-fill-color: #FFFFFF;\n",
              "      --disabled-bg-color: #3B4455;\n",
              "      --disabled-fill-color: #666;\n",
              "  }\n",
              "\n",
              "  .colab-df-quickchart {\n",
              "    background-color: var(--bg-color);\n",
              "    border: none;\n",
              "    border-radius: 50%;\n",
              "    cursor: pointer;\n",
              "    display: none;\n",
              "    fill: var(--fill-color);\n",
              "    height: 32px;\n",
              "    padding: 0;\n",
              "    width: 32px;\n",
              "  }\n",
              "\n",
              "  .colab-df-quickchart:hover {\n",
              "    background-color: var(--hover-bg-color);\n",
              "    box-shadow: 0 1px 2px rgba(60, 64, 67, 0.3), 0 1px 3px 1px rgba(60, 64, 67, 0.15);\n",
              "    fill: var(--button-hover-fill-color);\n",
              "  }\n",
              "\n",
              "  .colab-df-quickchart-complete:disabled,\n",
              "  .colab-df-quickchart-complete:disabled:hover {\n",
              "    background-color: var(--disabled-bg-color);\n",
              "    fill: var(--disabled-fill-color);\n",
              "    box-shadow: none;\n",
              "  }\n",
              "\n",
              "  .colab-df-spinner {\n",
              "    border: 2px solid var(--fill-color);\n",
              "    border-color: transparent;\n",
              "    border-bottom-color: var(--fill-color);\n",
              "    animation:\n",
              "      spin 1s steps(1) infinite;\n",
              "  }\n",
              "\n",
              "  @keyframes spin {\n",
              "    0% {\n",
              "      border-color: transparent;\n",
              "      border-bottom-color: var(--fill-color);\n",
              "      border-left-color: var(--fill-color);\n",
              "    }\n",
              "    20% {\n",
              "      border-color: transparent;\n",
              "      border-left-color: var(--fill-color);\n",
              "      border-top-color: var(--fill-color);\n",
              "    }\n",
              "    30% {\n",
              "      border-color: transparent;\n",
              "      border-left-color: var(--fill-color);\n",
              "      border-top-color: var(--fill-color);\n",
              "      border-right-color: var(--fill-color);\n",
              "    }\n",
              "    40% {\n",
              "      border-color: transparent;\n",
              "      border-right-color: var(--fill-color);\n",
              "      border-top-color: var(--fill-color);\n",
              "    }\n",
              "    60% {\n",
              "      border-color: transparent;\n",
              "      border-right-color: var(--fill-color);\n",
              "    }\n",
              "    80% {\n",
              "      border-color: transparent;\n",
              "      border-right-color: var(--fill-color);\n",
              "      border-bottom-color: var(--fill-color);\n",
              "    }\n",
              "    90% {\n",
              "      border-color: transparent;\n",
              "      border-bottom-color: var(--fill-color);\n",
              "    }\n",
              "  }\n",
              "</style>\n",
              "\n",
              "      <script>\n",
              "        async function quickchart(key) {\n",
              "          const quickchartButtonEl =\n",
              "            document.querySelector('#' + key + ' button');\n",
              "          quickchartButtonEl.disabled = true;  // To prevent multiple clicks.\n",
              "          quickchartButtonEl.classList.add('colab-df-spinner');\n",
              "          try {\n",
              "            const charts = await google.colab.kernel.invokeFunction(\n",
              "                'suggestCharts', [key], {});\n",
              "          } catch (error) {\n",
              "            console.error('Error during call to suggestCharts:', error);\n",
              "          }\n",
              "          quickchartButtonEl.classList.remove('colab-df-spinner');\n",
              "          quickchartButtonEl.classList.add('colab-df-quickchart-complete');\n",
              "        }\n",
              "        (() => {\n",
              "          let quickchartButtonEl =\n",
              "            document.querySelector('#df-f10a0646-50af-4762-99b7-2cbeaf39f1d0 button');\n",
              "          quickchartButtonEl.style.display =\n",
              "            google.colab.kernel.accessAllowed ? 'block' : 'none';\n",
              "        })();\n",
              "      </script>\n",
              "    </div>\n",
              "\n",
              "    </div>\n",
              "  </div>\n"
            ],
            "application/vnd.google.colaboratory.intrinsic+json": {
              "type": "dataframe",
              "variable_name": "tweets",
              "summary": "{\n  \"name\": \"tweets\",\n  \"rows\": 14640,\n  \"fields\": [\n    {\n      \"column\": \"tweet_id\",\n      \"properties\": {\n        \"dtype\": \"number\",\n        \"std\": 779111158481836,\n        \"min\": 567588278875213824,\n        \"max\": 570310600460525568,\n        \"num_unique_values\": 14485,\n        \"samples\": [\n          567917894144770049,\n          567813976492417024,\n          569243676594941953\n        ],\n        \"semantic_type\": \"\",\n        \"description\": \"\"\n      }\n    },\n    {\n      \"column\": \"airline_sentiment\",\n      \"properties\": {\n        \"dtype\": \"category\",\n        \"num_unique_values\": 3,\n        \"samples\": [\n          \"neutral\",\n          \"positive\",\n          \"negative\"\n        ],\n        \"semantic_type\": \"\",\n        \"description\": \"\"\n      }\n    },\n    {\n      \"column\": \"airline_sentiment_confidence\",\n      \"properties\": {\n        \"dtype\": \"number\",\n        \"std\": 0.1628299590986659,\n        \"min\": 0.335,\n        \"max\": 1.0,\n        \"num_unique_values\": 1023,\n        \"samples\": [\n          0.6723,\n          0.3551,\n          0.6498\n        ],\n        \"semantic_type\": \"\",\n        \"description\": \"\"\n      }\n    },\n    {\n      \"column\": \"negativereason\",\n      \"properties\": {\n        \"dtype\": \"category\",\n        \"num_unique_values\": 10,\n        \"samples\": [\n          \"Damaged Luggage\",\n          \"Can't Tell\",\n          \"Lost Luggage\"\n        ],\n        \"semantic_type\": \"\",\n        \"description\": \"\"\n      }\n    },\n    {\n      \"column\": \"negativereason_confidence\",\n      \"properties\": {\n        \"dtype\": \"number\",\n        \"std\": 0.3304397596377413,\n        \"min\": 0.0,\n        \"max\": 1.0,\n        \"num_unique_values\": 1410,\n        \"samples\": [\n          0.6677,\n          0.6622,\n          0.6905\n        ],\n        \"semantic_type\": \"\",\n        \"description\": \"\"\n      }\n    },\n    {\n      \"column\": \"airline\",\n      \"properties\": {\n        \"dtype\": \"category\",\n        \"num_unique_values\": 6,\n        \"samples\": [\n          \"Virgin America\",\n          \"United\",\n          \"American\"\n        ],\n        \"semantic_type\": \"\",\n        \"description\": \"\"\n      }\n    },\n    {\n      \"column\": \"airline_sentiment_gold\",\n      \"properties\": {\n        \"dtype\": \"category\",\n        \"num_unique_values\": 3,\n        \"samples\": [\n          \"negative\",\n          \"neutral\",\n          \"positive\"\n        ],\n        \"semantic_type\": \"\",\n        \"description\": \"\"\n      }\n    },\n    {\n      \"column\": \"name\",\n      \"properties\": {\n        \"dtype\": \"string\",\n        \"num_unique_values\": 7701,\n        \"samples\": [\n          \"smckenna719\",\n          \"thisAnneM\",\n          \"jmspool\"\n        ],\n        \"semantic_type\": \"\",\n        \"description\": \"\"\n      }\n    },\n    {\n      \"column\": \"negativereason_gold\",\n      \"properties\": {\n        \"dtype\": \"category\",\n        \"num_unique_values\": 13,\n        \"samples\": [\n          \"Customer Service Issue\\nLost Luggage\",\n          \"Late Flight\\nCancelled Flight\",\n          \"Late Flight\\nFlight Attendant Complaints\"\n        ],\n        \"semantic_type\": \"\",\n        \"description\": \"\"\n      }\n    },\n    {\n      \"column\": \"retweet_count\",\n      \"properties\": {\n        \"dtype\": \"number\",\n        \"std\": 0,\n        \"min\": 0,\n        \"max\": 44,\n        \"num_unique_values\": 18,\n        \"samples\": [\n          0,\n          1,\n          6\n        ],\n        \"semantic_type\": \"\",\n        \"description\": \"\"\n      }\n    },\n    {\n      \"column\": \"text\",\n      \"properties\": {\n        \"dtype\": \"string\",\n        \"num_unique_values\": 14427,\n        \"samples\": [\n          \"@JetBlue so technically I could drive to JFK now and put in. Request for tomorrow's flight?\",\n          \"@united why I won't check my carry on. Watched a handler throw this bag -- miss the conveyer belt -- sat there 10 min http://t.co/lyoocx5mSH\",\n          \"@SouthwestAir you guys are so clever \\ud83d\\ude03 http://t.co/qn5odUGFqK\"\n        ],\n        \"semantic_type\": \"\",\n        \"description\": \"\"\n      }\n    },\n    {\n      \"column\": \"tweet_coord\",\n      \"properties\": {\n        \"dtype\": \"category\",\n        \"num_unique_values\": 832,\n        \"samples\": [\n          \"[40.04915451, -75.10364317]\",\n          \"[32.97609561, -96.53349238]\",\n          \"[26.37852293, -81.78472152]\"\n        ],\n        \"semantic_type\": \"\",\n        \"description\": \"\"\n      }\n    },\n    {\n      \"column\": \"tweet_created\",\n      \"properties\": {\n        \"dtype\": \"object\",\n        \"num_unique_values\": 14247,\n        \"samples\": [\n          \"2015-02-23 07:40:55 -0800\",\n          \"2015-02-21 16:20:09 -0800\",\n          \"2015-02-21 21:33:21 -0800\"\n        ],\n        \"semantic_type\": \"\",\n        \"description\": \"\"\n      }\n    },\n    {\n      \"column\": \"tweet_location\",\n      \"properties\": {\n        \"dtype\": \"category\",\n        \"num_unique_values\": 3081,\n        \"samples\": [\n          \"Oakland, California\",\n          \"Beverly Hills, CA\",\n          \"Austin, TX/NY, NY\"\n        ],\n        \"semantic_type\": \"\",\n        \"description\": \"\"\n      }\n    },\n    {\n      \"column\": \"user_timezone\",\n      \"properties\": {\n        \"dtype\": \"category\",\n        \"num_unique_values\": 85,\n        \"samples\": [\n          \"Helsinki\",\n          \"Eastern Time (US & Canada)\",\n          \"America/Detroit\"\n        ],\n        \"semantic_type\": \"\",\n        \"description\": \"\"\n      }\n    }\n  ]\n}"
            }
          },
          "metadata": {},
          "execution_count": 336
        }
      ],
      "source": [
        "# Muestra las primeras cinco filas del DataFrame 'tweets',\n",
        "# lo que permite obtener una vista preliminar de los datos cargados desde el archivo CSV.\n",
        "tweets.head()\n"
      ]
    },
    {
      "cell_type": "markdown",
      "id": "ae3b339f-45cf-465d-931c-05f9096fd510",
      "metadata": {
        "id": "ae3b339f-45cf-465d-931c-05f9096fd510"
      },
      "source": [
        "The dataframe has one row per tweet. The text of tweet is shown in the `text` column.\n",
        "- `text` (`str`): the text of the tweet.\n",
        "\n",
        "Other metadata we are interested in include:\n",
        "- `airline_sentiment` (`str`): the sentiment of the tweet, labeled as \"neutral,\" \"positive,\" or \"negative.\"\n",
        "- `airline` (`str`): the airline that is tweeted about.\n",
        "- `retweet count` (`int`): how many times the tweet was retweeted."
      ]
    },
    {
      "cell_type": "markdown",
      "id": "302c695b-4bd1-4151-9cb9-ef5253eb16df",
      "metadata": {
        "id": "302c695b-4bd1-4151-9cb9-ef5253eb16df"
      },
      "source": [
        "Let's take a look at some of the tweets:"
      ]
    },
    {
      "cell_type": "code",
      "execution_count": 337,
      "id": "b690daab-7be5-4b8f-8af0-a91fdec4ec4f",
      "metadata": {
        "id": "b690daab-7be5-4b8f-8af0-a91fdec4ec4f",
        "colab": {
          "base_uri": "https://localhost:8080/"
        },
        "outputId": "320c2030-fd56-42dd-827e-ff1e21dc80f8"
      },
      "outputs": [
        {
          "output_type": "stream",
          "name": "stdout",
          "text": [
            "@VirginAmerica What @dhepburn said.\n",
            "@VirginAmerica plus you've added commercials to the experience... tacky.\n",
            "@VirginAmerica I didn't today... Must mean I need to take another trip!\n"
          ]
        }
      ],
      "source": [
        "# Imprime en pantalla los textos de los tres primeros tuits (filas 0, 1 y 2) de la columna 'text' del DataFrame 'tweets',\n",
        "# permitiendo observar directamente el contenido textual de los mensajes.\n",
        "print(tweets['text'].iloc[0])\n",
        "print(tweets['text'].iloc[1])\n",
        "print(tweets['text'].iloc[2])\n"
      ]
    },
    {
      "cell_type": "markdown",
      "id": "8adc05fa-ad30-4402-ab56-086bcb09a166",
      "metadata": {
        "id": "8adc05fa-ad30-4402-ab56-086bcb09a166"
      },
      "source": [
        "🔔 **Question**: What have you noticed? What are the stylistic features of tweets?"
      ]
    },
    {
      "cell_type": "markdown",
      "id": "c3460393-00a6-461c-b02a-9e98f9b5d1af",
      "metadata": {
        "id": "c3460393-00a6-461c-b02a-9e98f9b5d1af"
      },
      "source": [
        "### Lowercasing\n",
        "\n",
        "While we acknowledge that a word's casing is informative, we often don't work in contexts where we can properly utilize this information.\n",
        "\n",
        "More often, the subsequent analysis we perform is **case-insensitive**. For instance, in frequency analysis, we want to account for various forms of the same word. Lowercasing the text data aids in this process and simplifies our analysis.\n",
        "\n",
        "We can easily achieve lowercasing with the string method [`.lower()`](https://docs.python.org/3/library/stdtypes.html#str.lower); see [documentation](https://docs.python.org/3/library/stdtypes.html#string-methods) for more useful functions.\n",
        "\n",
        "Let's apply it to the following example:"
      ]
    },
    {
      "cell_type": "code",
      "execution_count": 338,
      "id": "58a95d90-3ef1-4bff-9cfe-d447ed99f252",
      "metadata": {
        "id": "58a95d90-3ef1-4bff-9cfe-d447ed99f252",
        "colab": {
          "base_uri": "https://localhost:8080/"
        },
        "outputId": "da8a93fb-9ae6-4c4b-a71c-9a2470bbe424"
      },
      "outputs": [
        {
          "output_type": "stream",
          "name": "stdout",
          "text": [
            "@VirginAmerica I was scheduled for SFO 2 DAL flight 714 today. Changed to 24th due weather. Looks like flight still on?\n"
          ]
        }
      ],
      "source": [
        "# Asigna a la variable 'first_example' el contenido del tuit en la posición 108 de la columna 'text',\n",
        "# y luego lo imprime para visualizar ese ejemplo específico.\n",
        "first_example = tweets['text'][108]\n",
        "print(first_example)\n"
      ]
    },
    {
      "cell_type": "code",
      "execution_count": 339,
      "id": "c66d91c0-6eed-4591-95fc-cd2eae2e0d41",
      "metadata": {
        "id": "c66d91c0-6eed-4591-95fc-cd2eae2e0d41",
        "colab": {
          "base_uri": "https://localhost:8080/"
        },
        "outputId": "9587c3f1-eed2-47a9-fe78-51dd84d5d070"
      },
      "outputs": [
        {
          "output_type": "stream",
          "name": "stdout",
          "text": [
            "False\n",
            "==================================================\n",
            "@virginamerica i was scheduled for sfo 2 dal flight 714 today. changed to 24th due weather. looks like flight still on?\n",
            "==================================================\n",
            "@VIRGINAMERICA I WAS SCHEDULED FOR SFO 2 DAL FLIGHT 714 TODAY. CHANGED TO 24TH DUE WEATHER. LOOKS LIKE FLIGHT STILL ON?\n"
          ]
        }
      ],
      "source": [
        "# Verifica si todos los caracteres del tuit almacenado en 'first_example' están en minúsculas (devuelve True o False).\n",
        "print(first_example.islower())\n",
        "print(f\"{'=' * 50}\")  # Imprime una línea divisoria de 50 signos '=' para separar visualmente los resultados.\n",
        "\n",
        "# Convierte todo el texto del tuit a minúsculas y lo imprime.\n",
        "print(first_example.lower())\n",
        "print(f\"{'=' * 50}\")  # Otra línea divisoria para claridad.\n",
        "\n",
        "# Convierte todo el texto del tuit a mayúsculas y lo imprime.\n",
        "print(first_example.upper())\n"
      ]
    },
    {
      "cell_type": "markdown",
      "id": "7bf0d8c8-bd6c-47ef-b305-09ac61d07d4d",
      "metadata": {
        "id": "7bf0d8c8-bd6c-47ef-b305-09ac61d07d4d"
      },
      "source": [
        "### Remove Extra Whitespace Characters\n",
        "\n",
        "Sometimes we might come across texts with extraneous whitespace, such as spaces, tabs, and newline characters, which is particularly common when the text is scrapped from web pages. Before we dive into the details, let's briefly introduce Regular Expressions (regex) and the `re` package.\n",
        "\n",
        "Regular expressions are a powerful way of searching for specific string patterns in large corpora. They have an infamously steep learning curve, but they can be very efficient when we get a handle on them. Many NLP packages heavily rely on regex under the hood. Regex testers, such as [regex101](https://regex101.com), are useful tools in both understanding and creating regex expressions.\n",
        "\n",
        "Our goal in this workshop is not to provide a deep (or even shallow) dive into regex; instead, we want to expose you to them so that you are better prepared to do deep dives in the future!\n",
        "\n",
        "The following example is a poem by William Wordsworth. Like many poems, the text may contain extra line breaks (i.e., newline characters, `\\n`) that we want to remove."
      ]
    },
    {
      "cell_type": "code",
      "execution_count": 340,
      "id": "d1bd73f1-a30f-4269-a05e-47cfff7b496f",
      "metadata": {
        "id": "d1bd73f1-a30f-4269-a05e-47cfff7b496f"
      },
      "outputs": [],
      "source": [
        "# Define la ruta del archivo de texto que contiene un poema (en este caso, 'poem_wordsworth.txt').\n",
        "text_path = 'ejercicio1/data/poem_wordsworth.txt'\n",
        "\n",
        "# Abre el archivo en modo lectura ('r'), lee todo su contenido y lo guarda en la variable 'text'.\n",
        "# Luego cierra el archivo para liberar recursos.\n",
        "with open(text_path, 'r') as file:\n",
        "    text = file.read()\n",
        "    file.close()"
      ]
    },
    {
      "cell_type": "markdown",
      "id": "7a693dd9-9706-40b3-863f-f568020245f7",
      "metadata": {
        "id": "7a693dd9-9706-40b3-863f-f568020245f7"
      },
      "source": [
        "As you can see, the poem is formatted as a continuous string of text with line breaks placed at the end of each line, making it difficult to read."
      ]
    },
    {
      "cell_type": "code",
      "execution_count": 341,
      "id": "7e78a75a-8e15-4bcb-a416-783aa7f60ef3",
      "metadata": {
        "id": "7e78a75a-8e15-4bcb-a416-783aa7f60ef3",
        "colab": {
          "base_uri": "https://localhost:8080/",
          "height": 140
        },
        "outputId": "a7c86a81-3765-4c26-9db9-8531bdbc7016"
      },
      "outputs": [
        {
          "output_type": "execute_result",
          "data": {
            "text/plain": [
              "\"I wandered lonely as a cloud\\n\\n\\nI wandered lonely as a cloud\\nThat floats on high o'er vales and hills,\\nWhen all at once I saw a crowd,\\nA host, of golden daffodils;\\nBeside the lake, beneath the trees,\\nFluttering and dancing in the breeze.\\n\\nContinuous as the stars that shine\\nAnd twinkle on the milky way,\\nThey stretched in never-ending line\\nAlong the margin of a bay:\\nTen thousand saw I at a glance,\\nTossing their heads in sprightly dance.\\n\\nThe waves beside them danced; but they\\nOut-did the sparkling waves in glee:\\nA poet could not but be gay,\\nIn such a jocund company:\\nI gazed—and gazed—but little thought\\nWhat wealth the show to me had brought:\\n\\nFor oft, when on my couch I lie\\nIn vacant or in pensive mood,\\nThey flash upon that inward eye\\nWhich is the bliss of solitude;\\nAnd then my heart with pleasure fills,\\nAnd dances with the daffodils.\""
            ],
            "application/vnd.google.colaboratory.intrinsic+json": {
              "type": "string"
            }
          },
          "metadata": {},
          "execution_count": 341
        }
      ],
      "source": [
        "text"
      ]
    },
    {
      "cell_type": "markdown",
      "id": "47cce993-c315-4aaa-87fe-149de8607f65",
      "metadata": {
        "id": "47cce993-c315-4aaa-87fe-149de8607f65"
      },
      "source": [
        "One handy function we can use to display the poem properly is `.splitlines()`. As the name suggests, it splits a long text sequence into a list of lines whenever there is a newline character.   "
      ]
    },
    {
      "cell_type": "code",
      "execution_count": 342,
      "id": "ddeade7a-065d-49e6-bdd3-87a8ea8f6e6e",
      "metadata": {
        "id": "ddeade7a-065d-49e6-bdd3-87a8ea8f6e6e",
        "colab": {
          "base_uri": "https://localhost:8080/"
        },
        "outputId": "39185858-9072-49d2-9312-c13010dcd575"
      },
      "outputs": [
        {
          "output_type": "execute_result",
          "data": {
            "text/plain": [
              "['I wandered lonely as a cloud',\n",
              " '',\n",
              " '',\n",
              " 'I wandered lonely as a cloud',\n",
              " \"That floats on high o'er vales and hills,\",\n",
              " 'When all at once I saw a crowd,',\n",
              " 'A host, of golden daffodils;',\n",
              " 'Beside the lake, beneath the trees,',\n",
              " 'Fluttering and dancing in the breeze.',\n",
              " '',\n",
              " 'Continuous as the stars that shine',\n",
              " 'And twinkle on the milky way,',\n",
              " 'They stretched in never-ending line',\n",
              " 'Along the margin of a bay:',\n",
              " 'Ten thousand saw I at a glance,',\n",
              " 'Tossing their heads in sprightly dance.',\n",
              " '',\n",
              " 'The waves beside them danced; but they',\n",
              " 'Out-did the sparkling waves in glee:',\n",
              " 'A poet could not but be gay,',\n",
              " 'In such a jocund company:',\n",
              " 'I gazed—and gazed—but little thought',\n",
              " 'What wealth the show to me had brought:',\n",
              " '',\n",
              " 'For oft, when on my couch I lie',\n",
              " 'In vacant or in pensive mood,',\n",
              " 'They flash upon that inward eye',\n",
              " 'Which is the bliss of solitude;',\n",
              " 'And then my heart with pleasure fills,',\n",
              " 'And dances with the daffodils.']"
            ]
          },
          "metadata": {},
          "execution_count": 342
        }
      ],
      "source": [
        "# Divide la cadena completa almacenada en 'text' en una lista de líneas,\n",
        "# separando el texto original por saltos de línea.\n",
        "text.splitlines()\n"
      ]
    },
    {
      "cell_type": "markdown",
      "id": "44d3825b-0857-44e1-bf6a-d8c7a9032704",
      "metadata": {
        "id": "44d3825b-0857-44e1-bf6a-d8c7a9032704"
      },
      "source": [
        "Let's return to our tweet data for an example."
      ]
    },
    {
      "cell_type": "code",
      "execution_count": 343,
      "id": "53a81ea9-65c4-474a-8530-35393555d1be",
      "metadata": {
        "id": "53a81ea9-65c4-474a-8530-35393555d1be",
        "colab": {
          "base_uri": "https://localhost:8080/",
          "height": 36
        },
        "outputId": "0ccb312a-6791-4bed-fd86-5a87f4dde73e"
      },
      "outputs": [
        {
          "output_type": "execute_result",
          "data": {
            "text/plain": [
              "\"@VirginAmerica seriously would pay $30 a flight for seats that didn't have this playing.\\nit's really the only bad thing about flying VA\""
            ],
            "application/vnd.google.colaboratory.intrinsic+json": {
              "type": "string"
            }
          },
          "metadata": {},
          "execution_count": 343
        }
      ],
      "source": [
        "# Asigna a la variable 'second_example' el texto del tuit en la posición 5 de la columna 'text' del DataFrame 'tweets',\n",
        "# y muestra su contenido para visualizar ese segundo ejemplo específico.\n",
        "second_example = tweets['text'][5]\n",
        "second_example\n"
      ]
    },
    {
      "cell_type": "markdown",
      "id": "aef55865-36fd-4c06-a765-530cf3b53096",
      "metadata": {
        "id": "aef55865-36fd-4c06-a765-530cf3b53096"
      },
      "source": [
        "In this case, we don't really want to split the tweet into a list of strings. We still expect a single string of text but would like to remove the line break completely from the string.\n",
        "\n",
        "The string method `.strip()` effectively does the job of stripping away spaces at both ends of the text. However, it won't work in our example as the newline character is in the middle of the string."
      ]
    },
    {
      "cell_type": "code",
      "execution_count": 344,
      "id": "b933503b-4370-4dc4-b287-6dc2f9cdb1d4",
      "metadata": {
        "id": "b933503b-4370-4dc4-b287-6dc2f9cdb1d4",
        "colab": {
          "base_uri": "https://localhost:8080/",
          "height": 36
        },
        "outputId": "6b2db553-b0c8-430d-85aa-cf368d069474"
      },
      "outputs": [
        {
          "output_type": "execute_result",
          "data": {
            "text/plain": [
              "\"@VirginAmerica seriously would pay $30 a flight for seats that didn't have this playing.\\nit's really the only bad thing about flying VA\""
            ],
            "application/vnd.google.colaboratory.intrinsic+json": {
              "type": "string"
            }
          },
          "metadata": {},
          "execution_count": 344
        }
      ],
      "source": [
        "# Elimina los espacios en blanco al principio y al final del texto contenido en 'second_example',\n",
        "# dejando intactos los espacios internos.\n",
        "second_example.strip()\n"
      ]
    },
    {
      "cell_type": "markdown",
      "id": "b99b80b4-804f-460f-a2d5-adbd654902b3",
      "metadata": {
        "id": "b99b80b4-804f-460f-a2d5-adbd654902b3"
      },
      "source": [
        "This is where regex could be really helpful."
      ]
    },
    {
      "cell_type": "code",
      "execution_count": 345,
      "id": "ceac9714-7053-4b2e-affb-71f8c3d2dcd9",
      "metadata": {
        "id": "ceac9714-7053-4b2e-affb-71f8c3d2dcd9"
      },
      "outputs": [],
      "source": [
        "# Importa el módulo 're' de Python, que permite trabajar con expresiones regulares para buscar,\n",
        "# manipular y procesar texto de forma avanzada.\n",
        "import re\n"
      ]
    },
    {
      "cell_type": "markdown",
      "id": "d5f08d20-ba81-4e48-9e2a-5728148005b3",
      "metadata": {
        "id": "d5f08d20-ba81-4e48-9e2a-5728148005b3"
      },
      "source": [
        "Now, with regex, we are essentially calling it to match a pattern that we have identified in the text data, and we want to do some operations to the matched part—extract it, replace it with something else, or remove it completely. Therefore, the way regex works could be unpacked into the following steps:\n",
        "\n",
        "- Identify and write the pattern in regex (`r'PATTERN'`)\n",
        "- Write the replacement for the pattern (`'REPLACEMENT'`)\n",
        "- Call the specific regex function (e.g., `re.sub()`)\n",
        "\n",
        "In our example, the pattern we are looking for is `\\s`, which is the regex short name for any whitespace character (`\\n` and `\\t` included). We also add a quantifier `+` to the end: `\\s+`. It means we'd like to capture one or more occurences of the whitespace character."
      ]
    },
    {
      "cell_type": "code",
      "execution_count": 346,
      "id": "1248d227-1149-4014-94a5-c05592a27a7e",
      "metadata": {
        "id": "1248d227-1149-4014-94a5-c05592a27a7e"
      },
      "outputs": [],
      "source": [
        "# Define un patrón de expresión regular llamado 'blankspace_pattern' que coincide con uno o más espacios en blanco consecutivos.\n",
        "blankspace_pattern = r'\\s+'\n"
      ]
    },
    {
      "cell_type": "markdown",
      "id": "cc075c2e-1a1d-4393-a3ea-8ad7c118364b",
      "metadata": {
        "id": "cc075c2e-1a1d-4393-a3ea-8ad7c118364b"
      },
      "source": [
        "The replacement for one or more whitespace characters is exactly one single whitespace, which is the canonical word boundary in English. Any additional whitespace will be reduced to a single whitespace."
      ]
    },
    {
      "cell_type": "code",
      "execution_count": 347,
      "id": "c55cb2f1-f4ca-4b79-900c-f65ec303ddac",
      "metadata": {
        "id": "c55cb2f1-f4ca-4b79-900c-f65ec303ddac"
      },
      "outputs": [],
      "source": [
        "# Define el texto de reemplazo para el patrón de espacios en blanco,\n",
        "# en este caso un solo espacio, que se usará para sustituir secuencias de espacios múltiples.\n",
        "blankspace_repl = ' '\n"
      ]
    },
    {
      "cell_type": "markdown",
      "id": "bc12e3d1-728a-429b-9c83-4dcc88590bc4",
      "metadata": {
        "id": "bc12e3d1-728a-429b-9c83-4dcc88590bc4"
      },
      "source": [
        "Lastly, let's put everything together using the function [`re.sub()`](https://docs.python.org/3.11/library/re.html#re.sub), which means we want to substitute a pattern with a replacement. The function takes in three arguments—the pattern, the replacement, and the string to which we want to apply the function."
      ]
    },
    {
      "cell_type": "code",
      "execution_count": 348,
      "id": "5249b24b-7111-4569-be29-c40efa5e148e",
      "metadata": {
        "id": "5249b24b-7111-4569-be29-c40efa5e148e",
        "colab": {
          "base_uri": "https://localhost:8080/"
        },
        "outputId": "452e7865-683d-40ca-9ac1-068fca97aa5b"
      },
      "outputs": [
        {
          "output_type": "stream",
          "name": "stdout",
          "text": [
            "@VirginAmerica seriously would pay $30 a flight for seats that didn't have this playing. it's really the only bad thing about flying VA\n"
          ]
        }
      ],
      "source": [
        "# Reemplaza todas las ocurrencias de uno o más espacios en blanco consecutivos en 'second_example'\n",
        "# por un solo espacio, utilizando la expresión regular definida.\n",
        "# Luego imprime el texto resultante con los espacios limpios y uniformes.\n",
        "clean_text = re.sub(pattern = blankspace_pattern,\n",
        "                    repl = blankspace_repl,\n",
        "                    string = second_example)\n",
        "print(clean_text)\n"
      ]
    },
    {
      "cell_type": "markdown",
      "id": "a895fbe3-a034-4124-94af-72a528913c51",
      "metadata": {
        "id": "a895fbe3-a034-4124-94af-72a528913c51"
      },
      "source": [
        "Ta-da! The newline character is no longer there."
      ]
    },
    {
      "cell_type": "markdown",
      "id": "7087dc0c-5fef-4f1c-8662-7cbc8a978f34",
      "metadata": {
        "id": "7087dc0c-5fef-4f1c-8662-7cbc8a978f34"
      },
      "source": [
        "### Remove Punctuation Marks\n",
        "\n",
        "Sometimes we are only interested in analyzing **alphanumeric characters** (i.e., the letters and numbers), in which case we might want to remove punctuation marks.\n",
        "\n",
        "The `string` module contains a list of predefined punctuation marks. Let's print them out."
      ]
    },
    {
      "cell_type": "code",
      "execution_count": 349,
      "id": "70e8502b-b703-45e0-8852-0c3210363440",
      "metadata": {
        "id": "70e8502b-b703-45e0-8852-0c3210363440",
        "outputId": "f7a1bc81-2bb7-4e57-b690-52813883ffbc",
        "colab": {
          "base_uri": "https://localhost:8080/"
        }
      },
      "outputs": [
        {
          "output_type": "stream",
          "name": "stdout",
          "text": [
            "!\"#$%&'()*+,-./:;<=>?@[\\]^_`{|}~\n"
          ]
        }
      ],
      "source": [
        "# Importa la lista predefinida de signos de puntuación desde el módulo 'string' de Python,\n",
        "# y luego imprime esa lista para mostrar todos los caracteres de puntuación estándar.\n",
        "from string import punctuation\n",
        "print(punctuation)\n"
      ]
    },
    {
      "cell_type": "markdown",
      "id": "91119c9e-431c-42cb-afea-f7e607698929",
      "metadata": {
        "id": "91119c9e-431c-42cb-afea-f7e607698929"
      },
      "source": [
        "In practice, to remove these punctuation characters, we can simply iterate over the text and remove characters found in the list, such as shown below in the `remove_punct` function."
      ]
    },
    {
      "cell_type": "code",
      "execution_count": 350,
      "id": "237d868d-339d-4bbe-9a3b-20fa5fbdf231",
      "metadata": {
        "id": "237d868d-339d-4bbe-9a3b-20fa5fbdf231"
      },
      "outputs": [],
      "source": [
        "def remove_punct(text):\n",
        "    '''Remove punctuation marks in input text'''\n",
        "\n",
        "    # Recorre cada carácter del texto y selecciona solo aquellos que no son signos de puntuación.\n",
        "    no_punct = []\n",
        "    for char in text:\n",
        "        if char not in punctuation:\n",
        "            no_punct.append(char)\n",
        "\n",
        "    # Une los caracteres filtrados en una nueva cadena sin signos de puntuación.\n",
        "    text_no_punct = ''.join(no_punct)\n",
        "\n",
        "    # Devuelve el texto limpio de puntuación.\n",
        "    return text_no_punct\n",
        "# Esta función elimina todos los signos de puntuación de un texto dado,\n",
        "# devolviendo una versión limpia sin caracteres de puntuación para facilitar el análisis textual.\n"
      ]
    },
    {
      "cell_type": "markdown",
      "id": "d4fc768b-c2dd-4386-8212-483c4485e4be",
      "metadata": {
        "id": "d4fc768b-c2dd-4386-8212-483c4485e4be"
      },
      "source": [
        "Let's apply the function to the example below."
      ]
    },
    {
      "cell_type": "code",
      "execution_count": 351,
      "id": "7596c465-3d85-4b72-a853-f2151bcd91df",
      "metadata": {
        "id": "7596c465-3d85-4b72-a853-f2151bcd91df",
        "outputId": "e158b23c-98b9-4196-dd21-120f985fe9bc",
        "colab": {
          "base_uri": "https://localhost:8080/",
          "height": 70
        }
      },
      "outputs": [
        {
          "output_type": "stream",
          "name": "stdout",
          "text": [
            "@VirginAmerica why are your first fares in May over three times more than other carriers when all seats are available to select???\n",
            "==================================================\n"
          ]
        },
        {
          "output_type": "execute_result",
          "data": {
            "text/plain": [
              "'VirginAmerica why are your first fares in May over three times more than other carriers when all seats are available to select'"
            ],
            "application/vnd.google.colaboratory.intrinsic+json": {
              "type": "string"
            }
          },
          "metadata": {},
          "execution_count": 351
        }
      ],
      "source": [
        "# Asigna a 'third_example' el texto del tuit en la posición 20 y lo imprime,\n",
        "# seguido de una línea divisoria para separar visualmente la salida.\n",
        "\n",
        "third_example = tweets['text'][20]\n",
        "print(third_example)\n",
        "print(f\"{'=' * 50}\")\n",
        "\n",
        "# Aplica la función 'remove_punct' para eliminar signos de puntuación del texto y muestra el resultado limpio.\n",
        "remove_punct(third_example)\n"
      ]
    },
    {
      "cell_type": "markdown",
      "id": "853a4b83-f503-4405-aedd-66bbc088e3e7",
      "metadata": {
        "id": "853a4b83-f503-4405-aedd-66bbc088e3e7"
      },
      "source": [
        "Let's give it a try with another tweet. What have you noticed?"
      ]
    },
    {
      "cell_type": "code",
      "execution_count": 352,
      "id": "5b3c2f60-fc92-4326-bad6-5ad04be50476",
      "metadata": {
        "id": "5b3c2f60-fc92-4326-bad6-5ad04be50476",
        "colab": {
          "base_uri": "https://localhost:8080/",
          "height": 70
        },
        "outputId": "0697d03c-6670-43a7-914f-542d6201a8df"
      },
      "outputs": [
        {
          "output_type": "stream",
          "name": "stdout",
          "text": [
            "@VirginAmerica trying to add my boy Prince to my ressie. SF this Thursday @VirginAmerica from LAX http://t.co/GsB2J3c4gM\n",
            "==================================================\n"
          ]
        },
        {
          "output_type": "execute_result",
          "data": {
            "text/plain": [
              "'VirginAmerica trying to add my boy Prince to my ressie SF this Thursday VirginAmerica from LAX httptcoGsB2J3c4gM'"
            ],
            "application/vnd.google.colaboratory.intrinsic+json": {
              "type": "string"
            }
          },
          "metadata": {},
          "execution_count": 352
        }
      ],
      "source": [
        "# Imprime el texto del tuit en la posición 100 y una línea divisoria para claridad visual.\n",
        "print(tweets['text'][100])\n",
        "print(f\"{'=' * 50}\")\n",
        "\n",
        "# Aplica la función 'remove_punct' para eliminar los signos de puntuación del tuit mostrado,\n",
        "# facilitando su análisis posterior.\n",
        "remove_punct(tweets['text'][100])\n"
      ]
    },
    {
      "cell_type": "markdown",
      "id": "1af02ce5-b674-4cb4-8e08-7d7416963f9c",
      "metadata": {
        "id": "1af02ce5-b674-4cb4-8e08-7d7416963f9c"
      },
      "source": [
        "What about the following example?"
      ]
    },
    {
      "cell_type": "code",
      "execution_count": 353,
      "id": "6f8c3947-e6b8-42fe-8a58-15e4b6c60005",
      "metadata": {
        "id": "6f8c3947-e6b8-42fe-8a58-15e4b6c60005",
        "colab": {
          "base_uri": "https://localhost:8080/",
          "height": 36
        },
        "outputId": "1b9e0900-5c21-4e35-acf8-6e8d9d2e9c40"
      },
      "outputs": [
        {
          "output_type": "execute_result",
          "data": {
            "text/plain": [
              "'Weve got quite a bit of punctuation here dont we Python DLab'"
            ],
            "application/vnd.google.colaboratory.intrinsic+json": {
              "type": "string"
            }
          },
          "metadata": {},
          "execution_count": 353
        }
      ],
      "source": [
        "# Define un texto de ejemplo que contiene contracciones, signos de puntuación y símbolos especiales.\n",
        "contraction_text = \"We've got quite a bit of punctuation here, don't we?!? #Python @D-Lab.\"\n",
        "\n",
        "# Aplica la función 'remove_punct' para eliminar todos los signos de puntuación del texto de ejemplo,\n",
        "# dejando solo las letras, números y espacios.\n",
        "remove_punct(contraction_text)\n"
      ]
    },
    {
      "cell_type": "markdown",
      "id": "62574c66-db3f-4500-9c3b-cea2f3eb2a30",
      "metadata": {
        "id": "62574c66-db3f-4500-9c3b-cea2f3eb2a30"
      },
      "source": [
        "⚠️ **Warning:** In many cases, we want to remove punctuation marks **after** tokenization, which we will discuss in a minute. This tells us that the **order** of preprocessing is a matter of importance!"
      ]
    },
    {
      "cell_type": "markdown",
      "id": "58c6b85e-58e7-4f56-9b4a-b60c85b394ba",
      "metadata": {
        "id": "58c6b85e-58e7-4f56-9b4a-b60c85b394ba"
      },
      "source": [
        "## 🥊 Challenge 1: Preprocessing with Multiple Steps\n",
        "\n",
        "So far we've learned a few preprocessing operations, let's put them together in a function! This function would be a handy one to refer to if you happen to work with some messy English text data, and you want to preprocess it with a single function.\n",
        "\n",
        "The example text data for challenge 1 is shown below. Write a function to:\n",
        "- Lowercase the text\n",
        "- Remove punctuation marks\n",
        "- Remove extra whitespace characters\n",
        "\n",
        "Feel free to recycle the codes we've used above!"
      ]
    },
    {
      "cell_type": "code",
      "execution_count": 354,
      "id": "deb10cba-239e-4856-b56d-7d5eb850c9b9",
      "metadata": {
        "id": "deb10cba-239e-4856-b56d-7d5eb850c9b9",
        "colab": {
          "base_uri": "https://localhost:8080/"
        },
        "outputId": "1faac6fd-18b7-41fb-b283-ed0d9acac3e4"
      },
      "outputs": [
        {
          "output_type": "stream",
          "name": "stdout",
          "text": [
            "\n",
            "\n",
            "This is a text file that has some extra blankspace at the start and end. Blankspace is a catch-all term for spaces, tabs, newlines, and a bunch of other things that computers distinguish but to us all look like spaces, tabs and newlines.\n",
            "\n",
            "\n",
            "The Python method called \"strip\" only catches blankspace at the start and end of a string. But it won't catch it in       the middle,\t\tfor example,\n",
            "\n",
            "in this sentence.\t\tOnce again, regular expressions will\n",
            "\n",
            "help\t\tus    with this.\n",
            "\n",
            "\n",
            "\n"
          ]
        }
      ],
      "source": [
        "# Define la ruta del archivo de texto 'example1.txt' y lo abre en modo lectura.\n",
        "challenge1_path = 'ejercicio1/data/example1.txt'\n",
        "\n",
        "# Lee todo el contenido del archivo y lo guarda en la variable 'challenge1'.\n",
        "with open(challenge1_path, 'r') as file:\n",
        "    challenge1 = file.read()\n",
        "\n",
        "# Imprime el contenido completo del archivo para visualizarlo.\n",
        "print(challenge1)\n"
      ]
    },
    {
      "cell_type": "code",
      "execution_count": 355,
      "id": "e2480823-65dd-4f52-a7b3-6d9b10d87912",
      "metadata": {
        "scrolled": true,
        "id": "e2480823-65dd-4f52-a7b3-6d9b10d87912"
      },
      "outputs": [],
      "source": [
        "def clean_text(text):\n",
        "    \"\"\"\n",
        "    Función que limpia un texto aplicando varias transformaciones:\n",
        "    1. Convierte el texto a minúsculas.\n",
        "    2. Elimina los signos de puntuación usando la función 'remove_punct'.\n",
        "    3. Remueve espacios en blanco extra, dejando solo un espacio simple entre palabras.\n",
        "    \"\"\"\n",
        "\n",
        "    # Paso 1: Convertir todo el texto a minúsculas para uniformidad\n",
        "    text = text.lower()\n",
        "\n",
        "    # Paso 2: Eliminar signos de puntuación\n",
        "    text = remove_punct(text)\n",
        "\n",
        "    # Paso 3: Reemplazar múltiples espacios en blanco por un solo espacio\n",
        "    text = re.sub(r'\\s+', ' ', text).strip()\n",
        "\n",
        "    return text\n"
      ]
    },
    {
      "cell_type": "code",
      "execution_count": 356,
      "id": "dc603506-0adb-45d7-bb6f-62958c054fdd",
      "metadata": {
        "scrolled": true,
        "id": "dc603506-0adb-45d7-bb6f-62958c054fdd"
      },
      "outputs": [],
      "source": [
        "# Uncomment to apply the above function to challenge 1 text\n",
        "# clean_text(challenge1)"
      ]
    },
    {
      "cell_type": "markdown",
      "id": "67c159cb-8eaa-4c30-b8ff-38a712d2bb0f",
      "metadata": {
        "id": "67c159cb-8eaa-4c30-b8ff-38a712d2bb0f"
      },
      "source": [
        "## Task-specific Processes\n",
        "\n",
        "Now that we understand common preprocessing operations, there are still a few additional operations to consider. Our text data might require further normalization depending on the language, source, and content of the data.\n",
        "\n",
        "For example, if we are working with financial documents, we might want to standardize monetary symbols by converting them to digits. It our tweets data, there are numerous hashtags and URLs. These can be replaced with placeholders to simplify the subsequent analysis."
      ]
    },
    {
      "cell_type": "markdown",
      "id": "c2936cea-74e9-40c2-bfbe-6ba8129330de",
      "metadata": {
        "id": "c2936cea-74e9-40c2-bfbe-6ba8129330de"
      },
      "source": [
        "### 🎬 **Demo**: Remove Hashtags and URLs\n",
        "\n",
        "Although URLs, hashtags, and numbers are informative in their own right, oftentimes we don't necessarily care about the exact meaning of each of them.\n",
        "\n",
        "While we could remove them completely, it's often informative to know that there **exists** a URL or a hashtag. In practice, we replace individual URLs and hashtags with a \"symbol\" that preserves the fact these structures exist in the text. It's standard to just use the strings \"URL\" and \"HASHTAG.\"\n",
        "\n",
        "Since these types of text often follow a regular structure, they're an apt case for using regular expressions. Let's apply these patterns to the tweets data."
      ]
    },
    {
      "cell_type": "code",
      "execution_count": 357,
      "id": "03c0dc37-a013-4f0a-b72f-a1f64dc6c1bd",
      "metadata": {
        "id": "03c0dc37-a013-4f0a-b72f-a1f64dc6c1bd",
        "colab": {
          "base_uri": "https://localhost:8080/"
        },
        "outputId": "0584f35f-4b15-4624-91f0-a27567779cf0"
      },
      "outputs": [
        {
          "output_type": "stream",
          "name": "stdout",
          "text": [
            "@VirginAmerica @virginmedia I'm flying your #fabulous #Seductive skies again! U take all the #stress away from travel http://t.co/ahlXHhKiyn\n"
          ]
        }
      ],
      "source": [
        "# Asigna a la variable 'url_tweet' el texto del tuit en la posición 13,\n",
        "# y luego lo imprime para visualizar el contenido de ese tuit específico.\n",
        "url_tweet = tweets['text'][13]\n",
        "print(url_tweet)\n"
      ]
    },
    {
      "cell_type": "code",
      "execution_count": 358,
      "id": "4ef61bea-ea11-468d-8176-a2f63659d204",
      "metadata": {
        "id": "4ef61bea-ea11-468d-8176-a2f63659d204",
        "colab": {
          "base_uri": "https://localhost:8080/",
          "height": 36
        },
        "outputId": "92b42722-bceb-499d-c444-f15eee28b180"
      },
      "outputs": [
        {
          "output_type": "execute_result",
          "data": {
            "text/plain": [
              "\"@VirginAmerica @virginmedia I'm flying your #fabulous #Seductive skies again! U take all the #stress away from travel  URL \""
            ],
            "application/vnd.google.colaboratory.intrinsic+json": {
              "type": "string"
            }
          },
          "metadata": {},
          "execution_count": 358
        }
      ],
      "source": [
        "# Define un patrón de expresión regular para detectar URLs en un texto,\n",
        "# incluyendo protocolos como http, https y ftp.\n",
        "\n",
        "url_pattern = r'(http|ftp|https):\\/\\/([\\w_-]+(?:(?:\\.[\\w_-]+)+))([\\w.,@?^=%&:\\/~+#-]*[\\w@?^=%&\\/~+#-])'\n",
        "\n",
        "# Define el texto de reemplazo que sustituirá las URLs encontradas por la cadena ' URL '.\n",
        "url_repl = ' URL '\n",
        "\n",
        "# Utiliza re.sub para buscar todas las coincidencias de URLs en 'url_tweet' y reemplazarlas por ' URL '.\n",
        "re.sub(url_pattern, url_repl, url_tweet)\n"
      ]
    },
    {
      "cell_type": "code",
      "execution_count": 359,
      "id": "ea8e0f2a-460e-4088-aa89-dc2a8bc6f7fe",
      "metadata": {
        "id": "ea8e0f2a-460e-4088-aa89-dc2a8bc6f7fe",
        "colab": {
          "base_uri": "https://localhost:8080/",
          "height": 36
        },
        "outputId": "3fd7f6c7-08da-4957-e20d-6d79decb5a8e"
      },
      "outputs": [
        {
          "output_type": "execute_result",
          "data": {
            "text/plain": [
              "\"@VirginAmerica @virginmedia I'm flying your HASHTAG  HASHTAG  skies again! U take all the HASHTAG  away from travel http://t.co/ahlXHhKiyn\""
            ],
            "application/vnd.google.colaboratory.intrinsic+json": {
              "type": "string"
            }
          },
          "metadata": {},
          "execution_count": 359
        }
      ],
      "source": [
        "# Define un patrón de expresión regular para detectar hashtags en un texto,\n",
        "# que puede comenzar con el símbolo '#' o su variante japonesa '＃', precedido por inicio de línea o espacio.\n",
        "\n",
        "hashtag_pattern = r'(?:^|\\s)[＃#]{1}(\\w+)'\n",
        "\n",
        "# Define el texto de reemplazo que sustituirá los hashtags encontrados por la cadena ' HASHTAG '.\n",
        "hashtag_repl = ' HASHTAG '\n",
        "\n",
        "# Utiliza re.sub para buscar todas las coincidencias de hashtags en 'url_tweet' y reemplazarlas por ' HASHTAG '.\n",
        "re.sub(hashtag_pattern, hashtag_repl, url_tweet)\n"
      ]
    },
    {
      "cell_type": "markdown",
      "id": "71d68d49-4923-49c0-9113-b844dc7546b9",
      "metadata": {
        "id": "71d68d49-4923-49c0-9113-b844dc7546b9"
      },
      "source": [
        "<a id='section2'></a>\n",
        "\n",
        "# Tokenization\n",
        "\n",
        "## Tokenizers Before LLMs\n",
        "\n",
        "One of the most important steps in text analysis is tokenization. This is the process of breaking a long sequence of text into word tokens. With these tokens available, we are ready to perform word-level analysis. For instance, we can filter out tokens that don't contribute to the core meaning of the text.\n",
        "\n",
        "In this section, we'll introduce how to perform tokenization using `nltk`, `spaCy`, and a Large Language Model (`bert`). The purpose is to expose you to different NLP packages, help you understand their functionalities, and demonstrate how to access key functions in each package.\n",
        "\n",
        "### `nltk`\n",
        "\n",
        "The first package we'll be using is called **Natural Language Toolkit**, or `nltk`.\n",
        "\n",
        "Let's install a couple modules from the package."
      ]
    },
    {
      "cell_type": "code",
      "execution_count": 360,
      "id": "441d81f8-361e-4273-bd36-91a272f4a38a",
      "metadata": {
        "scrolled": true,
        "id": "441d81f8-361e-4273-bd36-91a272f4a38a"
      },
      "outputs": [],
      "source": [
        "# Importa la librería NLTK (Natural Language Toolkit), que proporciona herramientas para el procesamiento y análisis de texto en lenguaje natural.\n",
        "import nltk\n"
      ]
    },
    {
      "cell_type": "code",
      "execution_count": 361,
      "id": "64b327cc-5c77-4fdc-9aaf-17d7f0761237",
      "metadata": {
        "id": "64b327cc-5c77-4fdc-9aaf-17d7f0761237"
      },
      "outputs": [],
      "source": [
        "# Estas líneas, al descomentarse, descargan recursos esenciales de NLTK:\n",
        "# - 'wordnet': base de datos léxica para sinónimos y relaciones entre palabras.\n",
        "# - 'stopwords': lista de palabras comunes (como \"el\", \"y\") que suelen eliminarse en análisis de texto.\n",
        "# - 'punkt': modelo para la tokenización, es decir, para dividir el texto en oraciones y palabras.\n"
      ]
    },
    {
      "cell_type": "markdown",
      "id": "6e79b699-c3a5-489f-9b3c-95653aba34d6",
      "metadata": {
        "id": "6e79b699-c3a5-489f-9b3c-95653aba34d6"
      },
      "source": [
        "`nltk` has a function called `word_tokenize`. It requires one argument, which is the text to be tokenized, and it returns a list of tokens for us."
      ]
    },
    {
      "cell_type": "code",
      "execution_count": 362,
      "id": "7b5d6944-c641-4fac-a239-5947a496371c",
      "metadata": {
        "id": "7b5d6944-c641-4fac-a239-5947a496371c",
        "colab": {
          "base_uri": "https://localhost:8080/"
        },
        "outputId": "10445764-924c-4a22-b9d5-c63669e02498"
      },
      "outputs": [
        {
          "output_type": "stream",
          "name": "stdout",
          "text": [
            "@VirginAmerica Really missed a prime opportunity for Men Without Hats parody, there. https://t.co/mWpG7grEZP\n"
          ]
        }
      ],
      "source": [
        "# Importa la función 'word_tokenize' de NLTK, que permite dividir un texto en palabras o tokens.\n",
        "\n",
        "from nltk.tokenize import word_tokenize\n",
        "\n",
        "# Asigna a la variable 'text' el contenido del tuit en la posición 7 y lo imprime para visualizarlo.\n",
        "text = tweets['text'][7]\n",
        "print(text)\n"
      ]
    },
    {
      "cell_type": "code",
      "source": [
        "import nltk\n",
        "# Descarga el recurso 'punkt' de NLTK, necesario para la tokenización de texto en oraciones y palabras.\n",
        "nltk.download('punkt')\n"
      ],
      "metadata": {
        "colab": {
          "base_uri": "https://localhost:8080/"
        },
        "id": "6oDrSNTSe8YJ",
        "outputId": "58958520-43f0-4e00-821e-c7880eea6a03"
      },
      "id": "6oDrSNTSe8YJ",
      "execution_count": 363,
      "outputs": [
        {
          "output_type": "stream",
          "name": "stderr",
          "text": [
            "[nltk_data] Downloading package punkt_tab to /root/nltk_data...\n",
            "[nltk_data]   Package punkt_tab is already up-to-date!\n"
          ]
        },
        {
          "output_type": "execute_result",
          "data": {
            "text/plain": [
              "True"
            ]
          },
          "metadata": {},
          "execution_count": 363
        }
      ]
    },
    {
      "cell_type": "markdown",
      "source": [
        "import nltk\n",
        "nltk.download('punkt_tab')"
      ],
      "metadata": {
        "id": "95fde2a3-e4e2-4e61-ad54-e4d5d0a6ba71"
      },
      "id": "95fde2a3-e4e2-4e61-ad54-e4d5d0a6ba71"
    },
    {
      "cell_type": "code",
      "source": [
        "# Aplica la función 'word_tokenize' de NLTK para dividir el texto almacenado en 'text'\n",
        "# en una lista de tokens (palabras y signos de puntuación separados).\n",
        "nltk_tokens = word_tokenize(text)\n",
        "\n",
        "# Muestra la lista resultante de tokens.\n",
        "nltk_tokens\n"
      ],
      "metadata": {
        "colab": {
          "base_uri": "https://localhost:8080/"
        },
        "id": "gIWp2ytQfbX1",
        "outputId": "cf708eb9-1e84-4b3e-e76b-830426b4d73e"
      },
      "id": "gIWp2ytQfbX1",
      "execution_count": 364,
      "outputs": [
        {
          "output_type": "execute_result",
          "data": {
            "text/plain": [
              "['@',\n",
              " 'VirginAmerica',\n",
              " 'Really',\n",
              " 'missed',\n",
              " 'a',\n",
              " 'prime',\n",
              " 'opportunity',\n",
              " 'for',\n",
              " 'Men',\n",
              " 'Without',\n",
              " 'Hats',\n",
              " 'parody',\n",
              " ',',\n",
              " 'there',\n",
              " '.',\n",
              " 'https',\n",
              " ':',\n",
              " '//t.co/mWpG7grEZP']"
            ]
          },
          "metadata": {},
          "execution_count": 364
        }
      ]
    },
    {
      "cell_type": "markdown",
      "id": "80ead039-7721-4b22-8590-0d7824631675",
      "metadata": {
        "id": "80ead039-7721-4b22-8590-0d7824631675"
      },
      "source": [
        "Here we are, with a list of tokens identified by `nltk`. Let's take a minute to inspect them!\n",
        "\n",
        "🔔 **Question**: Do word boundaries decided by `nltk` make sense to you? Pay attention to the twitter handle and the URL in the example tweet.\n",
        "\n",
        "You may feel that accessing functions in `nltk` is pretty straightforward. The function we used above was imported from the `nltk.tokenize` module, which as the name suggests, primarily does the job of tokenization.\n",
        "\n",
        "Underlyingly, `nltk` has [a collection of modules](https://www.nltk.org/api/nltk.html) that fulfill different purposes, to name a few:\n",
        "\n",
        "| NLTK module   | Fucntion                  | Link                                                         |\n",
        "|---------------|---------------------------|--------------------------------------------------------------|\n",
        "| nltk.tokenize | Tokenization              | [Documentation](https://www.nltk.org/api/nltk.tokenize.html) |\n",
        "| nltk.corpus   | Retrieve built-in corpora | [Documentation](https://www.nltk.org/nltk_data/)             |\n",
        "| nltk.tag      | Part-of-speech tagging    | [Documentation](https://www.nltk.org/api/nltk.tag.html)      |\n",
        "| nltk.stem     | Stemming                  | [Documentation](https://www.nltk.org/api/nltk.stem.html)     |\n",
        "| ...           | ...                       | ...                                                          |\n",
        "\n",
        "Let's import `stopwords` from the `nltk.corpus` module, which hosts a range of built-in corpora."
      ]
    },
    {
      "cell_type": "code",
      "execution_count": 365,
      "id": "84bbfced-8803-41ca-9cae-49bdadf8c000",
      "metadata": {
        "id": "84bbfced-8803-41ca-9cae-49bdadf8c000"
      },
      "outputs": [],
      "source": [
        "# Importa la lista predefinida de palabras vacías (stop words) del corpus de NLTK,\n",
        "# que son palabras comunes (como \"el\", \"de\", \"y\") que suelen eliminarse en análisis de texto.\n",
        "from nltk.corpus import stopwords"
      ]
    },
    {
      "cell_type": "markdown",
      "id": "dee971a1-1189-4cb6-8317-4836f54c3ae2",
      "metadata": {
        "id": "dee971a1-1189-4cb6-8317-4836f54c3ae2"
      },
      "source": [
        "Let's specificy that we want to retrieve English stop words. The function simply returns a list of stop words, mostly function words, that `nltk` identifies."
      ]
    },
    {
      "cell_type": "code",
      "source": [
        "import nltk\n",
        "# Descarga el conjunto de palabras vacías ('stopwords') de NLTK,\n",
        "# necesario para filtrar palabras comunes en el procesamiento de texto.\n",
        "nltk.download('stopwords')\n"
      ],
      "metadata": {
        "colab": {
          "base_uri": "https://localhost:8080/"
        },
        "id": "WamCaU0pfzvF",
        "outputId": "b3ccb595-d929-4ebf-f720-d9b3aae4c41d"
      },
      "id": "WamCaU0pfzvF",
      "execution_count": 366,
      "outputs": [
        {
          "output_type": "stream",
          "name": "stderr",
          "text": [
            "[nltk_data] Downloading package stopwords to /root/nltk_data...\n",
            "[nltk_data]   Package stopwords is already up-to-date!\n"
          ]
        },
        {
          "output_type": "execute_result",
          "data": {
            "text/plain": [
              "True"
            ]
          },
          "metadata": {},
          "execution_count": 366
        }
      ]
    },
    {
      "cell_type": "code",
      "execution_count": 367,
      "id": "6009e1df-b720-4d22-a162-7fd250a58672",
      "metadata": {
        "id": "6009e1df-b720-4d22-a162-7fd250a58672",
        "colab": {
          "base_uri": "https://localhost:8080/"
        },
        "outputId": "a3fe19f1-3e82-4c72-dbc6-668b2fae426b"
      },
      "outputs": [
        {
          "output_type": "execute_result",
          "data": {
            "text/plain": [
              "['a', 'about', 'above', 'after', 'again', 'against', 'ain', 'all', 'am', 'an']"
            ]
          },
          "metadata": {},
          "execution_count": 367
        }
      ],
      "source": [
        "# Obtiene la lista de palabras vacías en inglés del paquete 'stopwords' de NLTK\n",
        "stop = stopwords.words('english')\n",
        "\n",
        "# Muestra las primeras 10 palabras vacías de la lista para tener una idea de su contenido.\n",
        "stop[:10]\n"
      ]
    },
    {
      "cell_type": "markdown",
      "id": "4c3ec908-de6c-42c5-a370-f1b1df0032b3",
      "metadata": {
        "id": "4c3ec908-de6c-42c5-a370-f1b1df0032b3"
      },
      "source": [
        "### `spaCy`\n",
        "Other than `nltk`, we have another widely-used package called `spaCy`.\n",
        "\n",
        "`spaCy` has its own processing pipeline. It takes in a string of text, runs the `nlp` pipeline on it, and stores the processed text and its annotations in an object called `doc`. The `nlp` pipeline always performs tokenization, as well as [other text analysis components](https://spacy.io/usage/processing-pipelines#custom-components) requested by the user. These components are pretty similar to modules in `nltk`."
      ]
    },
    {
      "cell_type": "markdown",
      "id": "c6a0facd-4b75-41ac-920c-5ea044f7ae2e",
      "metadata": {
        "id": "c6a0facd-4b75-41ac-920c-5ea044f7ae2e"
      },
      "source": [
        "<img src='https://github.com/sauls98/Python-NLP-Fundamentals_Grupo_4/blob/main/images/spacy.png?raw=1' alt=\"spacy pipeline\" width=\"700\">"
      ]
    },
    {
      "cell_type": "markdown",
      "id": "c3ef1eaf-2790-4928-b094-943f2803c6a0",
      "metadata": {
        "id": "c3ef1eaf-2790-4928-b094-943f2803c6a0"
      },
      "source": [
        "Note that we always start by initializing the `nlp` pipeline, depending on the language of the text. Here, we are loading a pretrained language model for English: `en_core_web_sm`. The name suggests that it is a lightweight model trained on some text data (e.g., blogs); see model descriptions [here](https://spacy.io/models/en#en_core_web_sm).\n",
        "\n",
        "This is the first time we encounter the concept of **pretraining**, though you may have heard it elsewhere. In the context of NLP, pretraining means that the model has been trained on a vast amount of data. As a result, it comes with a certain \"knowledge\" of word structure and grammar of the language.\n",
        "\n",
        "Therefore, when we apply the model to our own data, we can expect it to be reasonably accurate in performing various annotation tasks, e.g., tagging a word's part of speech, identifying the syntactic head of a phrase, and etc.\n",
        "\n",
        "Let's dive in! We'll first need to load the pretrained language model we installed earlier."
      ]
    },
    {
      "cell_type": "code",
      "execution_count": 368,
      "id": "524dfc02-aa8f-4888-9f81-74a570db72b7",
      "metadata": {
        "id": "524dfc02-aa8f-4888-9f81-74a570db72b7"
      },
      "outputs": [],
      "source": [
        "# Importa la librería spaCy y carga el modelo de lenguaje en inglés pequeño ('en_core_web_sm'),\n",
        "# que incluye herramientas para procesamiento de texto como tokenización, etiquetado y análisis sintáctico.\n",
        "import spacy\n",
        "nlp = spacy.load('en_core_web_sm')\n"
      ]
    },
    {
      "cell_type": "markdown",
      "id": "57d669c3-2f5a-41b6-893b-ea1d438b3a48",
      "metadata": {
        "id": "57d669c3-2f5a-41b6-893b-ea1d438b3a48"
      },
      "source": [
        "The `nlp` pipeline, by default, includes a set of components, which we can access via the `.pipe_names` attribute.\n",
        "\n",
        "You may notice that it dosen't include the tokenizer. Don't worry! Tokenizer is a special component that the pipeline always includes."
      ]
    },
    {
      "cell_type": "code",
      "execution_count": 369,
      "id": "6d581ca5-43f8-4ef9-b099-2fc92c324581",
      "metadata": {
        "id": "6d581ca5-43f8-4ef9-b099-2fc92c324581",
        "colab": {
          "base_uri": "https://localhost:8080/"
        },
        "outputId": "bd745fd7-755a-4c5e-970f-c37a6717c210"
      },
      "outputs": [
        {
          "output_type": "execute_result",
          "data": {
            "text/plain": [
              "['tok2vec', 'tagger', 'parser', 'attribute_ruler', 'lemmatizer', 'ner']"
            ]
          },
          "metadata": {},
          "execution_count": 369
        }
      ],
      "source": [
        "# Muestra los nombres de los componentes que forman la tubería (pipeline) del modelo NLP cargado,\n",
        "# como tokenizador, etiquetador de partes de la oración, reconocedor de entidades, etc.\n",
        "nlp.pipe_names\n"
      ]
    },
    {
      "cell_type": "markdown",
      "id": "d1e37f91-d174-4101-bfc6-2859cb0fe5cc",
      "metadata": {
        "id": "d1e37f91-d174-4101-bfc6-2859cb0fe5cc"
      },
      "source": [
        "Let's run the `nlp` pipeline on our example tweet data, and assign it to a variable `doc`."
      ]
    },
    {
      "cell_type": "code",
      "execution_count": 370,
      "id": "618e8558-625d-4546-8109-63f9bae9790f",
      "metadata": {
        "id": "618e8558-625d-4546-8109-63f9bae9790f"
      },
      "outputs": [],
      "source": [
        "# Aplica el procesamiento del pipeline de spaCy al texto del tuit en la posición 7,\n",
        "# generando un objeto 'doc' que contiene tokens y anotaciones lingüísticas.\n",
        "doc = nlp(tweets['text'][7])\n"
      ]
    },
    {
      "cell_type": "markdown",
      "id": "54325d60-5c5c-488d-baf2-7eed4de2c031",
      "metadata": {
        "id": "54325d60-5c5c-488d-baf2-7eed4de2c031"
      },
      "source": [
        "Under the hood, the `doc` object contains the tokens (created by the tokenizer) and their annotations (created by other components), which are [linguistic features](\n",
        "https://spacy.io/usage/linguistic-features) useful for text analysis. We retrieve the token and its annotations by accessing corresponding attributes.\n",
        "\n",
        "| Attribute      | Annotation                              | Link                                                                      |\n",
        "|----------------|-----------------------------------------|---------------------------------------------------------------------------|\n",
        "| token.text     | The token in verbatim text              | [Documentation](https://spacy.io/api/token#attributes)                    |\n",
        "| token.is_stop  | Whether the token is a stop word        | [Documentation](https://spacy.io/api/attributes#_title)                   |\n",
        "| token.is_punct | Whether the token is a punctuation mark | [Documentation](https://spacy.io/api/attributes#_title)                   |\n",
        "| token.lemma_   | The base form of the token              | [Documentation](https://spacy.io/usage/linguistic-features#lemmatization) |\n",
        "| token.pos_     | The simple POS-tag of the token         | [Documentation](https://spacy.io/usage/linguistic-features#pos-tagging)   |\n",
        "| ...            | ...                                     | ...                                                                       |"
      ]
    },
    {
      "cell_type": "markdown",
      "id": "2e9f23c8-a157-44a7-a6ec-6894aec1a595",
      "metadata": {
        "id": "2e9f23c8-a157-44a7-a6ec-6894aec1a595"
      },
      "source": [
        "Let's first get the tokens themselves! We'll iterate over the `doc` object and retrieve the text of each token."
      ]
    },
    {
      "cell_type": "code",
      "execution_count": 371,
      "id": "4c71efee-e6cf-46c4-9198-593304f6560d",
      "metadata": {
        "id": "4c71efee-e6cf-46c4-9198-593304f6560d",
        "colab": {
          "base_uri": "https://localhost:8080/"
        },
        "outputId": "fd06ef12-2ccc-4ba5-da12-c0e430296672"
      },
      "outputs": [
        {
          "output_type": "execute_result",
          "data": {
            "text/plain": [
              "['@VirginAmerica',\n",
              " 'Really',\n",
              " 'missed',\n",
              " 'a',\n",
              " 'prime',\n",
              " 'opportunity',\n",
              " 'for',\n",
              " 'Men',\n",
              " 'Without',\n",
              " 'Hats',\n",
              " 'parody',\n",
              " ',',\n",
              " 'there',\n",
              " '.',\n",
              " 'https://t.co/mWpG7grEZP']"
            ]
          },
          "metadata": {},
          "execution_count": 371
        }
      ],
      "source": [
        "# Extrae el texto literal de cada token en el objeto 'doc' generado por spaCy\n",
        "# y crea una lista con esos textos.\n",
        "spacy_tokens = [token.text for token in doc]\n",
        "\n",
        "# Muestra la lista de tokens extraídos.\n",
        "spacy_tokens\n"
      ]
    },
    {
      "cell_type": "code",
      "execution_count": 372,
      "id": "f4fc23f0-c699-45e6-ad62-e131036d601f",
      "metadata": {
        "id": "f4fc23f0-c699-45e6-ad62-e131036d601f",
        "colab": {
          "base_uri": "https://localhost:8080/"
        },
        "outputId": "164105f9-757e-47ff-fa53-40df8e7591de"
      },
      "outputs": [
        {
          "output_type": "execute_result",
          "data": {
            "text/plain": [
              "['@',\n",
              " 'VirginAmerica',\n",
              " 'Really',\n",
              " 'missed',\n",
              " 'a',\n",
              " 'prime',\n",
              " 'opportunity',\n",
              " 'for',\n",
              " 'Men',\n",
              " 'Without',\n",
              " 'Hats',\n",
              " 'parody',\n",
              " ',',\n",
              " 'there',\n",
              " '.',\n",
              " 'https',\n",
              " ':',\n",
              " '//t.co/mWpG7grEZP']"
            ]
          },
          "metadata": {},
          "execution_count": 372
        }
      ],
      "source": [
        "# Muestra la lista de tokens obtenidos previamente con el tokenizador de NLTK.\n",
        "nltk_tokens\n"
      ]
    },
    {
      "cell_type": "markdown",
      "id": "a0ace59e-40e0-42b3-9f2b-d30ac94dccab",
      "metadata": {
        "id": "a0ace59e-40e0-42b3-9f2b-d30ac94dccab"
      },
      "source": [
        "🔔 **Question**: Let's pause for a minute to compare the tokens generated by `nltk` and `spaCy`. What have you noticed?\n",
        "\n",
        "Remember we can also access various annotations of these okens. For instance, one annotation `spaCy` offers is that it conveniently encodes whether a token is a stop word."
      ]
    },
    {
      "cell_type": "code",
      "execution_count": 373,
      "id": "626af687-e986-4c97-af86-edf7dbd22c3e",
      "metadata": {
        "id": "626af687-e986-4c97-af86-edf7dbd22c3e",
        "colab": {
          "base_uri": "https://localhost:8080/"
        },
        "outputId": "e1d73223-3339-4a31-8ec4-5cb0427c97ae"
      },
      "outputs": [
        {
          "output_type": "execute_result",
          "data": {
            "text/plain": [
              "[False,\n",
              " True,\n",
              " False,\n",
              " True,\n",
              " False,\n",
              " False,\n",
              " True,\n",
              " False,\n",
              " True,\n",
              " False,\n",
              " False,\n",
              " False,\n",
              " True,\n",
              " False,\n",
              " False]"
            ]
          },
          "metadata": {},
          "execution_count": 373
        }
      ],
      "source": [
        "# Extrae para cada token en 'doc' la anotación 'is_stop', que indica si es una palabra vacía (stop word).\n",
        "spacy_stops = [token.is_stop for token in doc]\n",
        "\n",
        "# Muestra la lista de valores booleanos donde True significa que el token es una stop word.\n",
        "spacy_stops\n"
      ]
    },
    {
      "cell_type": "markdown",
      "id": "3b6548b6-7e89-4f42-b8cb-bf7c93b34eb4",
      "metadata": {
        "id": "3b6548b6-7e89-4f42-b8cb-bf7c93b34eb4"
      },
      "source": [
        "## 🥊 Challenge 2: Remove Stop Words\n",
        "\n",
        "We have known how `nltk` and `spaCy` work as NLP packages. We've also demostrated how to identify stop words with each package.\n",
        "\n",
        "Let's write **two** functions to remove stop words from our text data.\n",
        "\n",
        "- Complete the function for stop words removal using `nltk`\n",
        "    - The starter code requires two arguments: the raw text input and a list of predefined stop words\n",
        "- Complete the function for stop words removal using `spaCy`\n",
        "    - The starter code requires one argument: the raw text input\n",
        "\n",
        "A friendly reminder before we dive in: both functions take raw text as input—that's a signal to perform tokenization on the raw text first!"
      ]
    },
    {
      "cell_type": "code",
      "execution_count": 374,
      "id": "b24b5370-392f-420d-8c9e-78146d0fca29",
      "metadata": {
        "id": "b24b5370-392f-420d-8c9e-78146d0fca29",
        "colab": {
          "base_uri": "https://localhost:8080/"
        },
        "outputId": "08c0de16-572b-477e-bd3c-010ff8f05a95"
      },
      "outputs": [
        {
          "output_type": "stream",
          "name": "stderr",
          "text": [
            "[nltk_data] Downloading package punkt to /root/nltk_data...\n",
            "[nltk_data]   Package punkt is already up-to-date!\n"
          ]
        }
      ],
      "source": [
        "import nltk\n",
        "from nltk.tokenize import word_tokenize\n",
        "\n",
        "# Asegúrate de tener los recursos necesarios descargados\n",
        "nltk.download('punkt')\n",
        "\n",
        "def remove_stopword_nltk(raw_text, stopword):\n",
        "    \"\"\"\n",
        "    Función que elimina las palabras vacías (stopwords) de un texto dado utilizando NLTK.\n",
        "\n",
        "    Paso 1: Tokeniza el texto de entrada en palabras usando word_tokenize.\n",
        "    Paso 2: Filtra los tokens, eliminando aquellos que estén en la lista de stopwords (ignorando mayúsculas/minúsculas).\n",
        "    Devuelve la lista de tokens filtrados sin las stopwords.\n",
        "    \"\"\"\n",
        "    # Tokenización del texto\n",
        "    tokens = word_tokenize(raw_text)\n",
        "\n",
        "    # Filtrado para eliminar stopwords\n",
        "    filtered_tokens = [token for token in tokens if token.lower() not in stopword]\n",
        "\n",
        "    return filtered_tokens\n"
      ]
    },
    {
      "cell_type": "code",
      "execution_count": 375,
      "id": "65b5bbda-0af5-49a9-8f5e-77d61ab217e7",
      "metadata": {
        "id": "65b5bbda-0af5-49a9-8f5e-77d61ab217e7"
      },
      "outputs": [],
      "source": [
        "import spacy\n",
        "\n",
        "# Carga el modelo de lenguaje en inglés de spaCy, que incluye herramientas para análisis de texto.\n",
        "nlp = spacy.load(\"en_core_web_sm\")\n",
        "\n",
        "def remove_stopword_spacy(raw_text):\n",
        "    \"\"\"\n",
        "    Función que elimina las palabras vacías (stopwords) de un texto usando spaCy.\n",
        "\n",
        "    Paso 1: Procesa el texto con el pipeline de spaCy para obtener un objeto 'doc' con tokens anotados.\n",
        "    Paso 2: Filtra los tokens, excluyendo aquellos marcados como palabras vacías (stop words).\n",
        "    Devuelve una lista con los tokens filtrados sin las stopwords.\n",
        "    \"\"\"\n",
        "    # Procesa el texto\n",
        "    doc = nlp(raw_text)\n",
        "\n",
        "    # Filtra tokens que no son stopwords\n",
        "    filtered_tokens = [token.text for token in doc if not token.is_stop]\n",
        "\n",
        "    return filtered_tokens\n"
      ]
    },
    {
      "cell_type": "code",
      "execution_count": 376,
      "id": "f4c3b0da-2223-4d7f-9014-696498e804e6",
      "metadata": {
        "id": "f4c3b0da-2223-4d7f-9014-696498e804e6"
      },
      "outputs": [],
      "source": [
        "# remove_stopword_nltk(text, stop)"
      ]
    },
    {
      "cell_type": "code",
      "execution_count": 377,
      "id": "f83538ba-6bf1-49ca-90ec-b6532b1ffcb3",
      "metadata": {
        "id": "f83538ba-6bf1-49ca-90ec-b6532b1ffcb3"
      },
      "outputs": [],
      "source": [
        "# remove_stopword_spacy(text)"
      ]
    },
    {
      "cell_type": "markdown",
      "id": "d3a6b1ec-87cc-4a08-a5dd-0210a9c56f0b",
      "metadata": {
        "id": "d3a6b1ec-87cc-4a08-a5dd-0210a9c56f0b"
      },
      "source": [
        "## 🎬 **Demo**: Powerful Features from `spaCy`\n",
        "\n",
        "`spaCy`'s nlp pipeline includes a number of linguistic annotations, which could be very useful for text analysis.\n",
        "\n",
        "For instance, we can access more annotations such as the lemma, the part-of-speech tag and its meaning, and whether the token looks like URLs."
      ]
    },
    {
      "cell_type": "code",
      "execution_count": 378,
      "id": "eb6c7d93-51a3-4fb8-8321-cb672f4f1b8f",
      "metadata": {
        "id": "eb6c7d93-51a3-4fb8-8321-cb672f4f1b8f",
        "colab": {
          "base_uri": "https://localhost:8080/"
        },
        "outputId": "03478e14-e484-4f4c-ea59-4d1818084300"
      },
      "outputs": [
        {
          "output_type": "stream",
          "name": "stdout",
          "text": [
            "@VirginAmerica           | @VirginAmerica           | PROPN        | proper noun  | 0            |\n",
            "Really                   | really                   | ADV          | adverb       | 0            |\n",
            "missed                   | miss                     | VERB         | verb         | 0            |\n",
            "a                        | a                        | DET          | determiner   | 0            |\n",
            "prime                    | prime                    | ADJ          | adjective    | 0            |\n",
            "opportunity              | opportunity              | NOUN         | noun         | 0            |\n",
            "for                      | for                      | ADP          | adposition   | 0            |\n",
            "Men                      | man                      | NOUN         | noun         | 0            |\n",
            "Without                  | without                  | ADP          | adposition   | 0            |\n",
            "Hats                     | Hats                     | PROPN        | proper noun  | 0            |\n",
            "parody                   | parody                   | NOUN         | noun         | 0            |\n",
            ",                        | ,                        | PUNCT        | punctuation  | 0            |\n",
            "there                    | there                    | ADV          | adverb       | 0            |\n",
            ".                        | .                        | PUNCT        | punctuation  | 0            |\n",
            "https://t.co/mWpG7grEZP  | https://t.co/mWpG7grEZP  | PROPN        | proper noun  | 1            |\n"
          ]
        }
      ],
      "source": [
        "# Recorre cada token en el objeto 'doc' generado por spaCy e imprime sus características:\n",
        "# - Texto original del token\n",
        "# - Lema (forma base o raíz del token)\n",
        "# - Parte de la oración (POS tag)\n",
        "# - Explicación legible de la parte de la oración\n",
        "# - Indicador booleano que muestra si el token parece ser una URL\n",
        "for token in doc:\n",
        "    print(f\"{token.text:<24} | {token.lemma_:<24} | {token.pos_:<12} | {spacy.explain(token.pos_):<12} | {token.like_url:<12} |\")\n"
      ]
    },
    {
      "cell_type": "markdown",
      "id": "17388e0c-88b6-4cd9-8d2b-adb7f10b5330",
      "metadata": {
        "id": "17388e0c-88b6-4cd9-8d2b-adb7f10b5330"
      },
      "source": [
        "As you can imagine, it is typical for this dataset to contain place names and airport codes. It would be cool if we are able to identify them and extract them from tweets."
      ]
    },
    {
      "cell_type": "code",
      "execution_count": 379,
      "id": "cb489f78-fbb2-497b-a36d-3400c00c9b9d",
      "metadata": {
        "id": "cb489f78-fbb2-497b-a36d-3400c00c9b9d",
        "outputId": "28ffc4f3-e7e3-4f85-bb3b-67ce9f07ea38",
        "colab": {
          "base_uri": "https://localhost:8080/"
        }
      },
      "outputs": [
        {
          "output_type": "stream",
          "name": "stdout",
          "text": [
            "@JetBlue Vegas, San Francisco, Baltimore, San Diego and Philadelphia so far! I'm a very frequent business traveler.\n",
            "==================================================\n",
            "@VirginAmerica Flying LAX to SFO and after looking at the awesome movie lineup I actually wish I was on a long haul.\n"
          ]
        }
      ],
      "source": [
        "# Asigna y muestra dos tuits de ejemplo: uno en la posición 8273 que probablemente contiene nombres de ciudades,\n",
        "# y otro en la posición 502 que probablemente contiene códigos de aeropuertos.\n",
        "# Se imprime una línea divisoria para separar visualmente ambos textos.\n",
        "tweet_city = tweets['text'][8273]\n",
        "tweet_airport = tweets['text'][502]\n",
        "print(tweet_city)\n",
        "print(f\"{'=' * 50}\")\n",
        "print(tweet_airport)\n"
      ]
    },
    {
      "cell_type": "markdown",
      "id": "013990a5-5e07-4a45-9427-fcd33840d3b8",
      "metadata": {
        "id": "013990a5-5e07-4a45-9427-fcd33840d3b8"
      },
      "source": [
        "We can use the \"ner\" ([Named Entity Recognition](https://en.wikipedia.org/wiki/Named-entity_recognition)) component to identify entities and their categories."
      ]
    },
    {
      "cell_type": "code",
      "execution_count": 380,
      "id": "b9e63519-5991-49fa-9a5d-be9f9b408ad1",
      "metadata": {
        "id": "b9e63519-5991-49fa-9a5d-be9f9b408ad1",
        "colab": {
          "base_uri": "https://localhost:8080/"
        },
        "outputId": "228f275c-a0b9-4fe8-e12b-e02bfdc945d4"
      },
      "outputs": [
        {
          "output_type": "stream",
          "name": "stdout",
          "text": [
            "Vegas           | 9          | 14         | GPE       \n",
            "San Francisco   | 16         | 29         | GPE       \n",
            "Baltimore       | 31         | 40         | GPE       \n",
            "San Diego       | 42         | 51         | GPE       \n",
            "Philadelphia    | 56         | 68         | GPE       \n"
          ]
        }
      ],
      "source": [
        "# Procesa el texto del tuit con spaCy para identificar entidades nombradas (personas, lugares, organizaciones, etc.).\n",
        "# Luego recorre cada entidad encontrada e imprime:\n",
        "# - El texto de la entidad\n",
        "# - La posición inicial y final en caracteres dentro del texto original\n",
        "# - La etiqueta que clasifica el tipo de entidad (por ejemplo, ubicación, persona, organización).\n",
        "doc_city = nlp(tweet_city)\n",
        "for ent in doc_city.ents:\n",
        "    print(f\"{ent.text:<15} | {ent.start_char:<10} | {ent.end_char:<10} | {ent.label_:<10}\")\n"
      ]
    },
    {
      "cell_type": "markdown",
      "id": "7b933ed0-7018-450c-b0a6-fb76cb6d5be9",
      "metadata": {
        "id": "7b933ed0-7018-450c-b0a6-fb76cb6d5be9"
      },
      "source": [
        "We can also use `displacy` to highlight entities identified in the text, and at the same time, annotate the entity category.\n",
        "\n",
        "In the following example, we have four `GPE` (i.e., geopolitical entities, usually countries and cities) identified."
      ]
    },
    {
      "cell_type": "code",
      "execution_count": 381,
      "id": "7a5a5219-af1f-445c-a35b-7c49d739a91b",
      "metadata": {
        "id": "7a5a5219-af1f-445c-a35b-7c49d739a91b",
        "colab": {
          "base_uri": "https://localhost:8080/",
          "height": 52
        },
        "outputId": "131794c5-5a67-4c1a-c63b-dae2b59ee6a4"
      },
      "outputs": [
        {
          "output_type": "display_data",
          "data": {
            "text/plain": [
              "<IPython.core.display.HTML object>"
            ],
            "text/html": [
              "<span class=\"tex2jax_ignore\"><div class=\"entities\" style=\"line-height: 2.5; direction: ltr\">@JetBlue \n",
              "<mark class=\"entity\" style=\"background: #feca74; padding: 0.45em 0.6em; margin: 0 0.25em; line-height: 1; border-radius: 0.35em;\">\n",
              "    Vegas\n",
              "    <span style=\"font-size: 0.8em; font-weight: bold; line-height: 1; border-radius: 0.35em; vertical-align: middle; margin-left: 0.5rem\">GPE</span>\n",
              "</mark>\n",
              ", \n",
              "<mark class=\"entity\" style=\"background: #feca74; padding: 0.45em 0.6em; margin: 0 0.25em; line-height: 1; border-radius: 0.35em;\">\n",
              "    San Francisco\n",
              "    <span style=\"font-size: 0.8em; font-weight: bold; line-height: 1; border-radius: 0.35em; vertical-align: middle; margin-left: 0.5rem\">GPE</span>\n",
              "</mark>\n",
              ", \n",
              "<mark class=\"entity\" style=\"background: #feca74; padding: 0.45em 0.6em; margin: 0 0.25em; line-height: 1; border-radius: 0.35em;\">\n",
              "    Baltimore\n",
              "    <span style=\"font-size: 0.8em; font-weight: bold; line-height: 1; border-radius: 0.35em; vertical-align: middle; margin-left: 0.5rem\">GPE</span>\n",
              "</mark>\n",
              ", \n",
              "<mark class=\"entity\" style=\"background: #feca74; padding: 0.45em 0.6em; margin: 0 0.25em; line-height: 1; border-radius: 0.35em;\">\n",
              "    San Diego\n",
              "    <span style=\"font-size: 0.8em; font-weight: bold; line-height: 1; border-radius: 0.35em; vertical-align: middle; margin-left: 0.5rem\">GPE</span>\n",
              "</mark>\n",
              " and \n",
              "<mark class=\"entity\" style=\"background: #feca74; padding: 0.45em 0.6em; margin: 0 0.25em; line-height: 1; border-radius: 0.35em;\">\n",
              "    Philadelphia\n",
              "    <span style=\"font-size: 0.8em; font-weight: bold; line-height: 1; border-radius: 0.35em; vertical-align: middle; margin-left: 0.5rem\">GPE</span>\n",
              "</mark>\n",
              " so far! I'm a very frequent business traveler.</div></span>"
            ]
          },
          "metadata": {}
        }
      ],
      "source": [
        "# Importa la herramienta 'displacy' de spaCy para visualizar entidades nombradas.\n",
        "# Renderiza visualmente las entidades encontradas en 'doc_city' dentro del entorno Jupyter,\n",
        "# mostrando las entidades resaltadas en el texto.\n",
        "from spacy import displacy\n",
        "displacy.render(doc_city, style='ent', jupyter=True)\n"
      ]
    },
    {
      "cell_type": "markdown",
      "id": "f5d7953b-04a1-46d0-817a-db29edd8c83b",
      "metadata": {
        "id": "f5d7953b-04a1-46d0-817a-db29edd8c83b"
      },
      "source": [
        "Let's give it a try with another example."
      ]
    },
    {
      "cell_type": "code",
      "execution_count": 382,
      "id": "9246c7e3-8990-4d47-a355-deb63dbd1cc7",
      "metadata": {
        "id": "9246c7e3-8990-4d47-a355-deb63dbd1cc7",
        "colab": {
          "base_uri": "https://localhost:8080/"
        },
        "outputId": "10972884-81f3-45a6-9ab8-db4059f98da0"
      },
      "outputs": [
        {
          "output_type": "stream",
          "name": "stdout",
          "text": [
            "SFO             | 29         | 32         | ORG       \n"
          ]
        }
      ],
      "source": [
        "# Procesa el texto del tuit 'tweet_airport' con spaCy para detectar entidades nombradas.\n",
        "# Luego imprime cada entidad con su texto, posición inicial y final en caracteres,\n",
        "# y su etiqueta que indica el tipo de entidad (por ejemplo, código de aeropuerto, organización, etc.).\n",
        "doc_airport = nlp(tweet_airport)\n",
        "for ent in doc_airport.ents:\n",
        "     print(f\"{ent.text:<15} | {ent.start_char:<10} | {ent.end_char:<10} | {ent.label_:<10}\")\n"
      ]
    },
    {
      "cell_type": "markdown",
      "id": "1df38472-3193-44c5-9b2f-e311ce9d42e0",
      "metadata": {
        "id": "1df38472-3193-44c5-9b2f-e311ce9d42e0"
      },
      "source": [
        "Interesting that airport codes are identified as `ORG`—organizations, and the tweet handle as `CARDINAL`."
      ]
    },
    {
      "cell_type": "code",
      "execution_count": 383,
      "id": "7e4bf382-4c57-4b78-a37f-fc1f6cb1d565",
      "metadata": {
        "id": "7e4bf382-4c57-4b78-a37f-fc1f6cb1d565",
        "colab": {
          "base_uri": "https://localhost:8080/",
          "height": 52
        },
        "outputId": "d9bb7147-4b46-43d6-e72e-4536dcd67738"
      },
      "outputs": [
        {
          "output_type": "display_data",
          "data": {
            "text/plain": [
              "<IPython.core.display.HTML object>"
            ],
            "text/html": [
              "<span class=\"tex2jax_ignore\"><div class=\"entities\" style=\"line-height: 2.5; direction: ltr\">@VirginAmerica Flying LAX to \n",
              "<mark class=\"entity\" style=\"background: #7aecec; padding: 0.45em 0.6em; margin: 0 0.25em; line-height: 1; border-radius: 0.35em;\">\n",
              "    SFO\n",
              "    <span style=\"font-size: 0.8em; font-weight: bold; line-height: 1; border-radius: 0.35em; vertical-align: middle; margin-left: 0.5rem\">ORG</span>\n",
              "</mark>\n",
              " and after looking at the awesome movie lineup I actually wish I was on a long haul.</div></span>"
            ]
          },
          "metadata": {}
        }
      ],
      "source": [
        "# Visualiza gráficamente las entidades nombradas detectadas en el texto 'doc_airport'\n",
        "# usando la herramienta 'displacy' de spaCy dentro de un entorno Jupyter,\n",
        "# resaltando las entidades en el texto original.\n",
        "displacy.render(doc_airport, style='ent', jupyter=True)\n"
      ]
    },
    {
      "cell_type": "markdown",
      "id": "467d6f28-effc-4fe1-90e9-47c89dc5492d",
      "metadata": {
        "id": "467d6f28-effc-4fe1-90e9-47c89dc5492d"
      },
      "source": [
        "## Tokenizers Since LLMs\n",
        "\n",
        "So far, we've seen what tokenization looks like with two widely-used NLP packages. They work quite well in some settings, but not others. Recall that `nltk` struggles with URLs. Now, imagine the data we have is even messier, containing misspellings, recently coined words, foreign names, and etc (collectively called \"out of vocabulary\" or OOV words). In such circumstances, we might need a more powerful model to handle these complexities.\n",
        "\n",
        "In fact, tokenization schemes change substantially with **Large Language Models** (LLMs), which are models trained on an enormous amount of data from mixed sources. With that magnitude of data, LLMs are better at chunking a longer sequence into tokens and tokens into **subtokens**. These subtokens can be morphological units of a word, such as an affix, but they can also be parts of a word where the model sets a \"meaningful\" boundary.\n",
        "\n",
        "In this section, we will demonstrate tokenization in **BERT** (Bidirectional Encoder Representations from Transformers), which utilizes a tokenization algorithm called [**WordPiece**](https://huggingface.co/learn/nlp-course/en/chapter6/6).\n",
        "\n",
        "We will load the tokenizer of BERT from the package `transformers`, which hosts a number of Transformer-based LLMs (e.g., BERT). We won't go into the architecture of Transformer in this workshop, but feel free to check out the D-lab workshop on [GPT Fundamentals](https://github.com/dlab-berkeley/GPT-Fundamentals)!"
      ]
    },
    {
      "cell_type": "markdown",
      "id": "b5e1509b-5b9e-456d-909f-a6b5099c48c8",
      "metadata": {
        "id": "b5e1509b-5b9e-456d-909f-a6b5099c48c8"
      },
      "source": [
        "### WordPiece Tokenization\n",
        "\n",
        "Note that BERT comes in a variety of versions. The one we will explore today is `bert-base-uncased`. This model has a moderate size (referred to as `base`) and is case-insensitive, meaning the input text will be lowercased by default."
      ]
    },
    {
      "cell_type": "code",
      "execution_count": 384,
      "id": "7927226c-d04e-4117-9c49-3d355611b209",
      "metadata": {
        "scrolled": true,
        "id": "7927226c-d04e-4117-9c49-3d355611b209"
      },
      "outputs": [],
      "source": [
        "# Importa el tokenizador BERT desde la librería transformers.\n",
        "from transformers import BertTokenizer\n",
        "\n",
        "# Inicializa el tokenizador BERT preentrenado en minúsculas ('bert-base-uncased'),\n",
        "# que convierte texto en tokens compatibles con el modelo BERT.\n",
        "tokenizer = BertTokenizer.from_pretrained('bert-base-uncased')\n"
      ]
    },
    {
      "cell_type": "markdown",
      "id": "128cfb38-274e-4d75-9d14-8744020fe49c",
      "metadata": {
        "id": "128cfb38-274e-4d75-9d14-8744020fe49c"
      },
      "source": [
        "The tokenizer has multiple functions, as we will see in a minute. Now we want to access the `.tokenize()` function from the tokenizer.\n",
        "\n",
        "Let's tokenize an example tweet below. What have you noticed?"
      ]
    },
    {
      "cell_type": "code",
      "execution_count": 385,
      "id": "62649193-bb00-4ae8-9102-bce3d1dfb6c8",
      "metadata": {
        "id": "62649193-bb00-4ae8-9102-bce3d1dfb6c8",
        "colab": {
          "base_uri": "https://localhost:8080/"
        },
        "outputId": "8a3733b9-6fb8-459b-93b4-a036d81545de"
      },
      "outputs": [
        {
          "output_type": "stream",
          "name": "stdout",
          "text": [
            "Text: @VirginAmerica Just DM'd. Same issue persisting.\n",
            "==================================================\n",
            "Tokens: ['@', 'virgin', '##ame', '##rica', 'just', 'd', '##m', \"'\", 'd', '.', 'same', 'issue', 'persist', '##ing', '.']\n",
            "Number of tokens: 15\n"
          ]
        }
      ],
      "source": [
        "# Selecciona un tuit de ejemplo en la posición 194 del DataFrame y lo imprime.\n",
        "text = tweets['text'][194]\n",
        "print(f\"Text: {text}\")\n",
        "print(f\"{'=' * 50}\")\n",
        "\n",
        "# Aplica el tokenizador BERT para dividir el texto en tokens compatibles con el modelo,\n",
        "# imprime la lista de tokens y la cantidad total de tokens generados.\n",
        "tokens = tokenizer.tokenize(text)\n",
        "print(f\"Tokens: {tokens}\")\n",
        "print(f\"Number of tokens: {len(tokens)}\")\n"
      ]
    },
    {
      "cell_type": "markdown",
      "id": "bc4f780e-207c-4d3d-b1b6-063c6d118945",
      "metadata": {
        "id": "bc4f780e-207c-4d3d-b1b6-063c6d118945"
      },
      "source": [
        "The double \"hashtag\" symbols (`##`) refer to a subword token—a segment separated from the previous token.\n",
        "\n",
        "🔔 **Question**: Do these subwords make sense to you?\n",
        "\n",
        "One significant development with LLMs is that each token is assigned an ID from its vocabulary. Our computer does not understand text in its raw form, so each token is translated into an ID. These IDs are the inputs that the model accesses and operates on.\n",
        "\n",
        "Tokens and IDs can be converted bidirectionally, for example:"
      ]
    },
    {
      "cell_type": "code",
      "execution_count": 386,
      "id": "3112a63d-82b6-4fc0-a904-ab86f8740653",
      "metadata": {
        "id": "3112a63d-82b6-4fc0-a904-ab86f8740653",
        "colab": {
          "base_uri": "https://localhost:8080/"
        },
        "outputId": "874061bb-c281-45df-9ac5-773ba7468652"
      },
      "outputs": [
        {
          "output_type": "stream",
          "name": "stdout",
          "text": [
            "ID of just is: 2074\n",
            "Token 2074 is: just\n"
          ]
        }
      ],
      "source": [
        "# Obtiene el ID numérico asociado al token 'just' en el vocabulario del tokenizador BERT e imprime su valor.\n",
        "print(f\"ID of just is: {tokenizer.vocab['just']}\")\n",
        "\n",
        "# Decodifica e imprime el token correspondiente al ID 2074 del vocabulario del tokenizador.\n",
        "print(f\"Token 2074 is: {tokenizer.decode([2074])}\")\n"
      ]
    },
    {
      "cell_type": "markdown",
      "id": "2b9fd13d-f26e-480c-b43e-2b5fbc4898cd",
      "metadata": {
        "id": "2b9fd13d-f26e-480c-b43e-2b5fbc4898cd"
      },
      "source": [
        "Let's convert tokens to input IDs."
      ]
    },
    {
      "cell_type": "code",
      "execution_count": 387,
      "id": "8d125e1d-2560-4136-829c-b1c11e34636c",
      "metadata": {
        "id": "8d125e1d-2560-4136-829c-b1c11e34636c",
        "colab": {
          "base_uri": "https://localhost:8080/"
        },
        "outputId": "89e4a724-b2ef-4c3b-c51f-c82b8a1730d9"
      },
      "outputs": [
        {
          "output_type": "stream",
          "name": "stdout",
          "text": [
            "Number of input IDs: 15\n",
            "Input IDs of text: [1030, 6261, 14074, 14735, 2074, 1040, 2213, 1005, 1040, 1012, 2168, 3277, 29486, 2075, 1012]\n"
          ]
        }
      ],
      "source": [
        "# Convierte la lista de tokens generada por el tokenizador BERT en una lista de IDs numéricos,\n",
        "# que representan la entrada codificada que usará el modelo.\n",
        "input_ids = tokenizer.convert_tokens_to_ids(tokens)\n",
        "\n",
        "# Imprime la cantidad total de IDs generados y la lista completa de esos IDs.\n",
        "print(f\"Number of input IDs: {len(input_ids)}\")\n",
        "print(f\"Input IDs of text: {input_ids}\")\n"
      ]
    },
    {
      "cell_type": "markdown",
      "id": "f25a1a14-a6db-414b-a1a8-c6be73c81a15",
      "metadata": {
        "id": "f25a1a14-a6db-414b-a1a8-c6be73c81a15"
      },
      "source": [
        "### Special Tokens\n",
        "\n",
        "In addition to the tokens and subtokens discussed above, BERT also makes use of three special tokens: `SEP`, `CLS`, and `UNK`. The `SEP` token acts as a sentence terminator, commonly known as an `EOS` (End of Sentence) token. The `UNK` token represents any token that is not found in the vocabulary, hence \"unknown\" tokens. The `CLS` token is added to the beginning of the sentence. It originates from text classification tasks (e.g., spam detection), where reseachers found it useful to have a token that aggregates the information of the entire sentence for classification purposes.\n",
        "\n",
        "When we apply `tokenizer()` directly to our text data, we are asking BERT to **encode** the text for us. This involves multiple steps:\n",
        "- Tokenize the text\n",
        "- Add special tokens\n",
        "- Convert tokens to input IDs\n",
        "- Other model-specific processes\n",
        "  \n",
        "Let's print them out."
      ]
    },
    {
      "cell_type": "code",
      "execution_count": 388,
      "id": "21479c25-7a9a-4fac-ba09-1812575b8170",
      "metadata": {
        "id": "21479c25-7a9a-4fac-ba09-1812575b8170",
        "colab": {
          "base_uri": "https://localhost:8080/"
        },
        "outputId": "2e401bde-ad39-46eb-a04e-f2e38aacbfb5"
      },
      "outputs": [
        {
          "output_type": "stream",
          "name": "stdout",
          "text": [
            "Number of input IDs: 17\n",
            "IDs from tokenizer: [101, 1030, 6261, 14074, 14735, 2074, 1040, 2213, 1005, 1040, 1012, 2168, 3277, 29486, 2075, 1012, 102]\n"
          ]
        }
      ],
      "source": [
        "# Obtiene directamente la lista de IDs de entrada para el texto proporcionado\n",
        "# usando el método del tokenizador que prepara la entrada para el modelo BERT.\n",
        "input_ids_from_tokenizer = tokenizer(text)['input_ids']\n",
        "\n",
        "# Imprime la cantidad de IDs y la lista completa de IDs generada automáticamente.\n",
        "print(f\"Number of input IDs: {len(input_ids_from_tokenizer)}\")\n",
        "print(f\"IDs from tokenizer: {input_ids_from_tokenizer}\")\n"
      ]
    },
    {
      "cell_type": "markdown",
      "id": "bb6ea98e-7374-488a-a804-46cab166125c",
      "metadata": {
        "id": "bb6ea98e-7374-488a-a804-46cab166125c"
      },
      "source": [
        "It looks like we have two more tokens added: 101 and 102.\n",
        "\n",
        "Let's convert them to texts!"
      ]
    },
    {
      "cell_type": "code",
      "execution_count": 389,
      "id": "82a18dc1-ca0d-4d5b-8ac6-f56cb44bf8e3",
      "metadata": {
        "id": "82a18dc1-ca0d-4d5b-8ac6-f56cb44bf8e3",
        "colab": {
          "base_uri": "https://localhost:8080/"
        },
        "outputId": "61f23487-0ae7-4000-8faf-596ab8a98df2"
      },
      "outputs": [
        {
          "output_type": "stream",
          "name": "stdout",
          "text": [
            "The 101st token: [CLS]\n",
            "The 102nd token: [SEP]\n"
          ]
        }
      ],
      "source": [
        "# Convierte los IDs de tokens 101 y 102 de vuelta a sus representaciones textuales\n",
        "# usando el tokenizador BERT y los imprime para visualización.\n",
        "print(f\"The 101st token: {tokenizer.convert_ids_to_tokens(101)}\")\n",
        "print(f\"The 102nd token: {tokenizer.convert_ids_to_tokens(102)}\")\n"
      ]
    },
    {
      "cell_type": "markdown",
      "id": "b16d4e10-e96c-432a-a6c9-2c992d00fcde",
      "metadata": {
        "id": "b16d4e10-e96c-432a-a6c9-2c992d00fcde"
      },
      "source": [
        "As you can see, our text example is now a list of vocabulary IDs. In addtion to that, BERT adds the sentence terminator `SEP` and the beginning `CLS` token to the original text. BERT's tokenizer encodes tons of texts likewise; and afterwards, they are ready for further processes."
      ]
    },
    {
      "cell_type": "markdown",
      "id": "ac56be32-2a5f-441e-8283-de3e60705c0b",
      "metadata": {
        "id": "ac56be32-2a5f-441e-8283-de3e60705c0b"
      },
      "source": [
        "## 🥊 Challenge 3: Find the Word Boundary\n",
        "\n",
        "Now that we know tokenization in BERT often returns subwords. Let's try a few more examples.\n",
        "\n",
        "- What do you think is the correct boundary for splitting the following words into subwords?\n",
        "- What other examples have you tested?"
      ]
    },
    {
      "cell_type": "code",
      "execution_count": 390,
      "id": "f1140b19-398c-44dd-829c-c922b0e6f7eb",
      "metadata": {
        "id": "f1140b19-398c-44dd-829c-c922b0e6f7eb"
      },
      "outputs": [],
      "source": [
        "def get_tokens(string):\n",
        "    '''Tokenize the input string with BERT'''\n",
        "    # Usa el tokenizador BERT para dividir la cadena de entrada en tokens compatibles con BERT\n",
        "    tokens = tokenizer.tokenize(string)\n",
        "    # Imprime la lista de tokens resultante\n",
        "    return print(tokens)\n"
      ]
    },
    {
      "cell_type": "code",
      "execution_count": 393,
      "id": "0c07c71e-5be2-4d91-9c6f-26de4145307d",
      "metadata": {
        "id": "0c07c71e-5be2-4d91-9c6f-26de4145307d",
        "colab": {
          "base_uri": "https://localhost:8080/"
        },
        "outputId": "c35069aa-40dc-4169-f1fb-99f7c7afe1bb"
      },
      "outputs": [
        {
          "output_type": "stream",
          "name": "stdout",
          "text": [
            "['dl', '##ab']\n",
            "['co', '##vid']\n",
            "['hug', '##ga', '##ble']\n",
            "['37', '##8']\n"
          ]
        }
      ],
      "source": [
        "# Abbreviations\n",
        "get_tokens('dlab')\n",
        "\n",
        "# OOV\n",
        "get_tokens('covid')\n",
        "\n",
        "# Prefix\n",
        "get_tokens('huggable')\n",
        "\n",
        "# Digits\n",
        "get_tokens('378')\n",
        "\n",
        "# Se prueba la función 'get_tokens' con diferentes tipos de palabras para observar cómo las tokeniza BERT:\n",
        "# - Abreviaciones o acrónimos (ejemplo: 'dlab')\n",
        "# - Palabras fuera del vocabulario preentrenado (Out-Of-Vocabulary, OOV) (ejemplo: 'covid')\n",
        "# - Palabras con prefijos (ejemplo: 'huggable')\n",
        "# - Números (ejemplo: '378')\n",
        "# Puedes agregar tu propio ejemplo llamando a 'get_tokens' con otra palabra o frase.\n",
        "\n",
        "\n",
        "\n",
        "# Este notebook está dedicado a los conceptos y técnicas fundamentales de preprocesamiento de texto\n",
        "# para tareas de Procesamiento de Lenguaje Natural (NLP).\n",
        "#\n",
        "# Objetivos y contenido principal:\n",
        "#\n",
        "# - Carga y exploración de datos textuales: Se trabaja con conjuntos de datos reales, principalmente tuits,\n",
        "#   para mostrar cómo manipular textos en Python.\n",
        "#\n",
        "# - Limpieza de texto: Se abordan técnicas para eliminar caracteres no deseados, como signos de puntuación\n",
        "#   y espacios en blanco adicionales, que pueden afectar la calidad del análisis.\n",
        "#\n",
        "# - Tokenización: Se enseñan métodos para dividir el texto en unidades significativas, como palabras o tokens,\n",
        "#   utilizando librerías como NLTK y spaCy.\n",
        "#\n",
        "# - Eliminación de stopwords: Se explica cómo identificar y remover palabras comunes que no aportan significado\n",
        "#   relevante, ayudando a concentrarse en términos importantes.\n",
        "#\n",
        "# - Normalización: Se muestran pasos para convertir el texto a minúsculas y manejar contracciones o variaciones\n",
        "#   para uniformizar los datos.\n",
        "#\n",
        "# - Visualización y análisis: Se incluyen ejemplos prácticos para visualizar tokens, etiquetas gramaticales y\n",
        "#   entidades nombradas, facilitando la comprensión de la estructura del lenguaje.\n",
        "#\n",
        "# En conjunto, este notebook proporciona una base sólida para preparar textos antes de aplicar modelos más avanzados\n",
        "# de NLP, garantizando que los datos sean limpios, consistentes y listos para el análisis o modelado.\n"
      ]
    },
    {
      "cell_type": "markdown",
      "id": "4acb7cb9-6e60-4e0a-8cc6-21d57237e835",
      "metadata": {
        "id": "4acb7cb9-6e60-4e0a-8cc6-21d57237e835"
      },
      "source": [
        "We will wrap up Part 1 with this (hopefully) thought-provoking challenge. LLMs often come with a much more sophisticated tokenization scheme, but there is ongoing discussion about their limitations in real-world applications. The reference section includes a few blog posts discussing this problem. Feel free to explore further if this sounds like an interesting question to you!"
      ]
    },
    {
      "cell_type": "markdown",
      "id": "d7943ed9-70de-4f4a-b1bb-b2896d05e618",
      "metadata": {
        "id": "d7943ed9-70de-4f4a-b1bb-b2896d05e618"
      },
      "source": [
        "## References\n",
        "\n",
        "1. A tutorial introducing the tokenization scheme in BERT: [The huggingface NLP course on wordpiece tokenization](https://huggingface.co/learn/nlp-course/chapter6/6?fw=pt)\n",
        "2. A specific example of \"failure\" in tokenization: [Weaknesses of wordpiece tokenization: Findings from the front lines of NLP at VMware.](https://medium.com/@rickbattle/weaknesses-of-wordpiece-tokenization-eb20e37fec99)\n",
        "3. How does BERT decide boundaries between subtokens: [Subword tokenization in BERT](https://tinkerd.net/blog/machine-learning/bert-tokenization/#subword-tokenization)"
      ]
    },
    {
      "cell_type": "markdown",
      "id": "ce0812a7-f033-46ed-bc7b-67109c369e6c",
      "metadata": {
        "id": "ce0812a7-f033-46ed-bc7b-67109c369e6c"
      },
      "source": [
        "<div class=\"alert alert-success\">\n",
        "\n",
        "## ❗ Key Points\n",
        "\n",
        "* Preprocessing includes multiple steps, some of them are more common to text data regardlessly, and some are task-specific.\n",
        "* Both `nltk` and `spaCy` could be used for tokenization and stop word removal. The latter is more powerful in providing various linguistic annotations.\n",
        "* Tokenization works differently in BERT, which often involves breaking down a whole word into subwords.\n",
        "\n",
        "</div>"
      ]
    }
  ],
  "metadata": {
    "kernelspec": {
      "display_name": "Python 3 (ipykernel)",
      "language": "python",
      "name": "python3"
    },
    "language_info": {
      "codemirror_mode": {
        "name": "ipython",
        "version": 3
      },
      "file_extension": ".py",
      "mimetype": "text/x-python",
      "name": "python",
      "nbconvert_exporter": "python",
      "pygments_lexer": "ipython3",
      "version": "3.11.4"
    },
    "colab": {
      "provenance": []
    }
  },
  "nbformat": 4,
  "nbformat_minor": 5
}