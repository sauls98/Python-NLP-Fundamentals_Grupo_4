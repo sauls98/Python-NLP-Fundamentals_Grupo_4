{
  "cells": [
    {
      "cell_type": "markdown",
      "id": "d3e7ea21-6437-48e8-a9e4-3bdc05f709c9",
      "metadata": {
        "id": "d3e7ea21-6437-48e8-a9e4-3bdc05f709c9"
      },
      "source": [
        "# Python Text Analysis: Preprocessing\n",
        "\n",
        "* * *\n",
        "\n",
        "<div class=\"alert alert-success\">  \n",
        "    \n",
        "### Learning Objectives\n",
        "    \n",
        "* Learn common steps for preprocessing text data, as well as specific operations for preprocessing Twitter data.\n",
        "* Know commonly used NLP packages and what they are capable of.\n",
        "* Understand tokenizers, and how they have changed since the advent of Large Language Models.\n",
        "</div>\n",
        "\n",
        "### Icons Used in This Notebook\n",
        "🔔 **Question**: A quick question to help you understand what's going on.<br>\n",
        "🥊 **Challenge**: Interactive excersise. We'll work through these in the workshop!<br>\n",
        "⚠️ **Warning:** Heads-up about tricky stuff or common mistakes.<br>\n",
        "🎬 **Demo**: Showing off something more advanced – so you know what Python can be used for!<br>\n",
        "\n",
        "### Sections\n",
        "1. [Preprocessing](#section1)\n",
        "2. [Tokenization](#section2)\n",
        "\n",
        "In this three-part workshop series, we'll learn the building blocks for performing text analysis in Python. These techniques lie in the domain of Natural Language Processing (NLP). NLP is a field that deals with identifying and extracting patterns of language, primarily in written texts. Throughout the workshop series, we'll interact with various packages for performing text analysis: starting from simple string methods to specific NLP packages, such as `nltk`, `spaCy`, and more recent ones on Large Language Models (`BERT`).\n",
        "\n",
        "Now, let's have these packages properly installed before diving into the materials."
      ]
    },
    {
      "cell_type": "code",
      "execution_count": 15,
      "id": "d442e4c7-e926-493d-a64e-516616ad915a",
      "metadata": {
        "id": "d442e4c7-e926-493d-a64e-516616ad915a"
      },
      "outputs": [],
      "source": [
        "# Uncomment the following lines to install packages/model\n",
        "# %pip install NLTK\n",
        "# %pip install transformers\n",
        "# %pip install spaCy\n",
        "# !python -m spacy download en_core_web_sm"
      ]
    },
    {
      "cell_type": "markdown",
      "id": "df5b8f8e-4e69-426e-a202-ec48b325e89a",
      "metadata": {
        "id": "df5b8f8e-4e69-426e-a202-ec48b325e89a"
      },
      "source": [
        "<a id='section1'></a>\n",
        "\n",
        "# Preprocessing\n",
        "\n",
        "In Part 1 of this workshop, we'll address the first step of text analysis. Our goal is to convert the raw, messy text data into a consistent format. This process is often called **preprocessing**, **text cleaning**, or **text normalization**.\n",
        "\n",
        "You'll notice that at the end of preprocessing, our data is still in a format that we can read and understand. In Parts 2 and 3, we will begin our foray into converting the text data into a numerical representation—a format that can be more readily handled by computers.\n",
        "\n",
        "🔔 **Question**: Let's pause for a minute to reflect on **your** previous experiences working on text data.\n",
        "- What is the format of the text data you have interacted with (plain text, CSV, or XML)?\n",
        "- Where does it come from (structured corpus, scraped from the web, survey data)?\n",
        "- Is it messy (i.e., is the data formatted consistently)?"
      ]
    },
    {
      "cell_type": "markdown",
      "id": "4b35911a-3b3f-4a48-a7d1-9882aab04851",
      "metadata": {
        "id": "4b35911a-3b3f-4a48-a7d1-9882aab04851"
      },
      "source": [
        "## Common Processes\n",
        "\n",
        "Preprocessing is not something we can accomplish with a single line of code. We often start by familiarizing ourselves with the data, and along the way, we gain a clearer understanding of the granularity of preprocessing we want to apply.\n",
        "\n",
        "Typically, we begin by applying a set of commonly used processes to clean the data. These operations don't substantially alter the form or meaning of the data; they serve as a standardized procedure to reshape the data into a consistent format.\n",
        "\n",
        "The following processes, for examples, are commonly applied to preprocess English texts of various genres. These operations can be done using built-in Python functions, such as `string` methods, and Regular Expressions.\n",
        "- Lowercase the text\n",
        "- Remove punctuation marks\n",
        "- Remove extra whitespace characters\n",
        "- Remove stop words\n",
        "\n",
        "After the initial processing, we may choose to perform task-specific processes, the specifics of which often depend on the downstream task we want to perform and the nature of the text data (i.e., its stylistic and linguistic features).  \n",
        "\n",
        "Before we jump into these operations, let's take a look at our data!"
      ]
    },
    {
      "cell_type": "markdown",
      "id": "ec5d7350-9a1e-4db9-b828-a87fe1676d8d",
      "metadata": {
        "id": "ec5d7350-9a1e-4db9-b828-a87fe1676d8d"
      },
      "source": [
        "### Import the Text Data\n",
        "\n",
        "The text data we'll be working with is a CSV file. It contains tweets about U.S. airlines, scrapped from Feb 2015.\n",
        "\n",
        "Let's read the file `airline_tweets.csv` into dataframe with `pandas`."
      ]
    },
    {
      "cell_type": "code",
      "execution_count": 16,
      "id": "3d1ff64b-53ad-4eca-b846-3fda20085c43",
      "metadata": {
        "id": "3d1ff64b-53ad-4eca-b846-3fda20085c43",
        "outputId": "bb3aa4ef-784a-4a67-a328-1f94d71ba9b3",
        "colab": {
          "base_uri": "https://localhost:8080/",
          "height": 339
        }
      },
      "outputs": [
        {
          "output_type": "error",
          "ename": "FileNotFoundError",
          "evalue": "[Errno 2] No such file or directory: '../data/airline_tweets.csv'",
          "traceback": [
            "\u001b[0;31m---------------------------------------------------------------------------\u001b[0m",
            "\u001b[0;31mFileNotFoundError\u001b[0m                         Traceback (most recent call last)",
            "\u001b[0;32m/tmp/ipython-input-16-1378166650.py\u001b[0m in \u001b[0;36m<cell line: 0>\u001b[0;34m()\u001b[0m\n\u001b[1;32m      6\u001b[0m \u001b[0;34m\u001b[0m\u001b[0m\n\u001b[1;32m      7\u001b[0m \u001b[0;31m# Specify the separator\u001b[0m\u001b[0;34m\u001b[0m\u001b[0;34m\u001b[0m\u001b[0m\n\u001b[0;32m----> 8\u001b[0;31m \u001b[0mtweets\u001b[0m \u001b[0;34m=\u001b[0m \u001b[0mpd\u001b[0m\u001b[0;34m.\u001b[0m\u001b[0mread_csv\u001b[0m\u001b[0;34m(\u001b[0m\u001b[0mcsv_path\u001b[0m\u001b[0;34m,\u001b[0m \u001b[0msep\u001b[0m\u001b[0;34m=\u001b[0m\u001b[0;34m','\u001b[0m\u001b[0;34m)\u001b[0m\u001b[0;34m\u001b[0m\u001b[0;34m\u001b[0m\u001b[0m\n\u001b[0m",
            "\u001b[0;32m/usr/local/lib/python3.11/dist-packages/pandas/io/parsers/readers.py\u001b[0m in \u001b[0;36mread_csv\u001b[0;34m(filepath_or_buffer, sep, delimiter, header, names, index_col, usecols, dtype, engine, converters, true_values, false_values, skipinitialspace, skiprows, skipfooter, nrows, na_values, keep_default_na, na_filter, verbose, skip_blank_lines, parse_dates, infer_datetime_format, keep_date_col, date_parser, date_format, dayfirst, cache_dates, iterator, chunksize, compression, thousands, decimal, lineterminator, quotechar, quoting, doublequote, escapechar, comment, encoding, encoding_errors, dialect, on_bad_lines, delim_whitespace, low_memory, memory_map, float_precision, storage_options, dtype_backend)\u001b[0m\n\u001b[1;32m   1024\u001b[0m     \u001b[0mkwds\u001b[0m\u001b[0;34m.\u001b[0m\u001b[0mupdate\u001b[0m\u001b[0;34m(\u001b[0m\u001b[0mkwds_defaults\u001b[0m\u001b[0;34m)\u001b[0m\u001b[0;34m\u001b[0m\u001b[0;34m\u001b[0m\u001b[0m\n\u001b[1;32m   1025\u001b[0m \u001b[0;34m\u001b[0m\u001b[0m\n\u001b[0;32m-> 1026\u001b[0;31m     \u001b[0;32mreturn\u001b[0m \u001b[0m_read\u001b[0m\u001b[0;34m(\u001b[0m\u001b[0mfilepath_or_buffer\u001b[0m\u001b[0;34m,\u001b[0m \u001b[0mkwds\u001b[0m\u001b[0;34m)\u001b[0m\u001b[0;34m\u001b[0m\u001b[0;34m\u001b[0m\u001b[0m\n\u001b[0m\u001b[1;32m   1027\u001b[0m \u001b[0;34m\u001b[0m\u001b[0m\n\u001b[1;32m   1028\u001b[0m \u001b[0;34m\u001b[0m\u001b[0m\n",
            "\u001b[0;32m/usr/local/lib/python3.11/dist-packages/pandas/io/parsers/readers.py\u001b[0m in \u001b[0;36m_read\u001b[0;34m(filepath_or_buffer, kwds)\u001b[0m\n\u001b[1;32m    618\u001b[0m \u001b[0;34m\u001b[0m\u001b[0m\n\u001b[1;32m    619\u001b[0m     \u001b[0;31m# Create the parser.\u001b[0m\u001b[0;34m\u001b[0m\u001b[0;34m\u001b[0m\u001b[0m\n\u001b[0;32m--> 620\u001b[0;31m     \u001b[0mparser\u001b[0m \u001b[0;34m=\u001b[0m \u001b[0mTextFileReader\u001b[0m\u001b[0;34m(\u001b[0m\u001b[0mfilepath_or_buffer\u001b[0m\u001b[0;34m,\u001b[0m \u001b[0;34m**\u001b[0m\u001b[0mkwds\u001b[0m\u001b[0;34m)\u001b[0m\u001b[0;34m\u001b[0m\u001b[0;34m\u001b[0m\u001b[0m\n\u001b[0m\u001b[1;32m    621\u001b[0m \u001b[0;34m\u001b[0m\u001b[0m\n\u001b[1;32m    622\u001b[0m     \u001b[0;32mif\u001b[0m \u001b[0mchunksize\u001b[0m \u001b[0;32mor\u001b[0m \u001b[0miterator\u001b[0m\u001b[0;34m:\u001b[0m\u001b[0;34m\u001b[0m\u001b[0;34m\u001b[0m\u001b[0m\n",
            "\u001b[0;32m/usr/local/lib/python3.11/dist-packages/pandas/io/parsers/readers.py\u001b[0m in \u001b[0;36m__init__\u001b[0;34m(self, f, engine, **kwds)\u001b[0m\n\u001b[1;32m   1618\u001b[0m \u001b[0;34m\u001b[0m\u001b[0m\n\u001b[1;32m   1619\u001b[0m         \u001b[0mself\u001b[0m\u001b[0;34m.\u001b[0m\u001b[0mhandles\u001b[0m\u001b[0;34m:\u001b[0m \u001b[0mIOHandles\u001b[0m \u001b[0;34m|\u001b[0m \u001b[0;32mNone\u001b[0m \u001b[0;34m=\u001b[0m \u001b[0;32mNone\u001b[0m\u001b[0;34m\u001b[0m\u001b[0;34m\u001b[0m\u001b[0m\n\u001b[0;32m-> 1620\u001b[0;31m         \u001b[0mself\u001b[0m\u001b[0;34m.\u001b[0m\u001b[0m_engine\u001b[0m \u001b[0;34m=\u001b[0m \u001b[0mself\u001b[0m\u001b[0;34m.\u001b[0m\u001b[0m_make_engine\u001b[0m\u001b[0;34m(\u001b[0m\u001b[0mf\u001b[0m\u001b[0;34m,\u001b[0m \u001b[0mself\u001b[0m\u001b[0;34m.\u001b[0m\u001b[0mengine\u001b[0m\u001b[0;34m)\u001b[0m\u001b[0;34m\u001b[0m\u001b[0;34m\u001b[0m\u001b[0m\n\u001b[0m\u001b[1;32m   1621\u001b[0m \u001b[0;34m\u001b[0m\u001b[0m\n\u001b[1;32m   1622\u001b[0m     \u001b[0;32mdef\u001b[0m \u001b[0mclose\u001b[0m\u001b[0;34m(\u001b[0m\u001b[0mself\u001b[0m\u001b[0;34m)\u001b[0m \u001b[0;34m->\u001b[0m \u001b[0;32mNone\u001b[0m\u001b[0;34m:\u001b[0m\u001b[0;34m\u001b[0m\u001b[0;34m\u001b[0m\u001b[0m\n",
            "\u001b[0;32m/usr/local/lib/python3.11/dist-packages/pandas/io/parsers/readers.py\u001b[0m in \u001b[0;36m_make_engine\u001b[0;34m(self, f, engine)\u001b[0m\n\u001b[1;32m   1878\u001b[0m                 \u001b[0;32mif\u001b[0m \u001b[0;34m\"b\"\u001b[0m \u001b[0;32mnot\u001b[0m \u001b[0;32min\u001b[0m \u001b[0mmode\u001b[0m\u001b[0;34m:\u001b[0m\u001b[0;34m\u001b[0m\u001b[0;34m\u001b[0m\u001b[0m\n\u001b[1;32m   1879\u001b[0m                     \u001b[0mmode\u001b[0m \u001b[0;34m+=\u001b[0m \u001b[0;34m\"b\"\u001b[0m\u001b[0;34m\u001b[0m\u001b[0;34m\u001b[0m\u001b[0m\n\u001b[0;32m-> 1880\u001b[0;31m             self.handles = get_handle(\n\u001b[0m\u001b[1;32m   1881\u001b[0m                 \u001b[0mf\u001b[0m\u001b[0;34m,\u001b[0m\u001b[0;34m\u001b[0m\u001b[0;34m\u001b[0m\u001b[0m\n\u001b[1;32m   1882\u001b[0m                 \u001b[0mmode\u001b[0m\u001b[0;34m,\u001b[0m\u001b[0;34m\u001b[0m\u001b[0;34m\u001b[0m\u001b[0m\n",
            "\u001b[0;32m/usr/local/lib/python3.11/dist-packages/pandas/io/common.py\u001b[0m in \u001b[0;36mget_handle\u001b[0;34m(path_or_buf, mode, encoding, compression, memory_map, is_text, errors, storage_options)\u001b[0m\n\u001b[1;32m    871\u001b[0m         \u001b[0;32mif\u001b[0m \u001b[0mioargs\u001b[0m\u001b[0;34m.\u001b[0m\u001b[0mencoding\u001b[0m \u001b[0;32mand\u001b[0m \u001b[0;34m\"b\"\u001b[0m \u001b[0;32mnot\u001b[0m \u001b[0;32min\u001b[0m \u001b[0mioargs\u001b[0m\u001b[0;34m.\u001b[0m\u001b[0mmode\u001b[0m\u001b[0;34m:\u001b[0m\u001b[0;34m\u001b[0m\u001b[0;34m\u001b[0m\u001b[0m\n\u001b[1;32m    872\u001b[0m             \u001b[0;31m# Encoding\u001b[0m\u001b[0;34m\u001b[0m\u001b[0;34m\u001b[0m\u001b[0m\n\u001b[0;32m--> 873\u001b[0;31m             handle = open(\n\u001b[0m\u001b[1;32m    874\u001b[0m                 \u001b[0mhandle\u001b[0m\u001b[0;34m,\u001b[0m\u001b[0;34m\u001b[0m\u001b[0;34m\u001b[0m\u001b[0m\n\u001b[1;32m    875\u001b[0m                 \u001b[0mioargs\u001b[0m\u001b[0;34m.\u001b[0m\u001b[0mmode\u001b[0m\u001b[0;34m,\u001b[0m\u001b[0;34m\u001b[0m\u001b[0;34m\u001b[0m\u001b[0m\n",
            "\u001b[0;31mFileNotFoundError\u001b[0m: [Errno 2] No such file or directory: '../data/airline_tweets.csv'"
          ]
        }
      ],
      "source": [
        "# Import pandas\n",
        "import pandas as pd\n",
        "\n",
        "# File path to data\n",
        "csv_path = '/data/airline_tweets.csv'\n",
        "\n",
        "# Specify the separator\n",
        "tweets = pd.read_csv(csv_path, sep=',')"
      ]
    },
    {
      "cell_type": "code",
      "execution_count": null,
      "id": "e397ac6a-c2ba-4cce-8700-b36b38026c9d",
      "metadata": {
        "id": "e397ac6a-c2ba-4cce-8700-b36b38026c9d"
      },
      "outputs": [],
      "source": [
        "# Show the first five rows\n",
        "tweets.head()"
      ]
    },
    {
      "cell_type": "markdown",
      "id": "ae3b339f-45cf-465d-931c-05f9096fd510",
      "metadata": {
        "id": "ae3b339f-45cf-465d-931c-05f9096fd510"
      },
      "source": [
        "The dataframe has one row per tweet. The text of tweet is shown in the `text` column.\n",
        "- `text` (`str`): the text of the tweet.\n",
        "\n",
        "Other metadata we are interested in include:\n",
        "- `airline_sentiment` (`str`): the sentiment of the tweet, labeled as \"neutral,\" \"positive,\" or \"negative.\"\n",
        "- `airline` (`str`): the airline that is tweeted about.\n",
        "- `retweet count` (`int`): how many times the tweet was retweeted."
      ]
    },
    {
      "cell_type": "markdown",
      "id": "302c695b-4bd1-4151-9cb9-ef5253eb16df",
      "metadata": {
        "id": "302c695b-4bd1-4151-9cb9-ef5253eb16df"
      },
      "source": [
        "Let's take a look at some of the tweets:"
      ]
    },
    {
      "cell_type": "code",
      "execution_count": null,
      "id": "b690daab-7be5-4b8f-8af0-a91fdec4ec4f",
      "metadata": {
        "id": "b690daab-7be5-4b8f-8af0-a91fdec4ec4f"
      },
      "outputs": [],
      "source": [
        "print(tweets['text'].iloc[0])\n",
        "print(tweets['text'].iloc[1])\n",
        "print(tweets['text'].iloc[2])"
      ]
    },
    {
      "cell_type": "markdown",
      "id": "8adc05fa-ad30-4402-ab56-086bcb09a166",
      "metadata": {
        "id": "8adc05fa-ad30-4402-ab56-086bcb09a166"
      },
      "source": [
        "🔔 **Question**: What have you noticed? What are the stylistic features of tweets?"
      ]
    },
    {
      "cell_type": "markdown",
      "id": "c3460393-00a6-461c-b02a-9e98f9b5d1af",
      "metadata": {
        "id": "c3460393-00a6-461c-b02a-9e98f9b5d1af"
      },
      "source": [
        "### Lowercasing\n",
        "\n",
        "While we acknowledge that a word's casing is informative, we often don't work in contexts where we can properly utilize this information.\n",
        "\n",
        "More often, the subsequent analysis we perform is **case-insensitive**. For instance, in frequency analysis, we want to account for various forms of the same word. Lowercasing the text data aids in this process and simplifies our analysis.\n",
        "\n",
        "We can easily achieve lowercasing with the string method [`.lower()`](https://docs.python.org/3/library/stdtypes.html#str.lower); see [documentation](https://docs.python.org/3/library/stdtypes.html#string-methods) for more useful functions.\n",
        "\n",
        "Let's apply it to the following example:"
      ]
    },
    {
      "cell_type": "code",
      "execution_count": null,
      "id": "58a95d90-3ef1-4bff-9cfe-d447ed99f252",
      "metadata": {
        "id": "58a95d90-3ef1-4bff-9cfe-d447ed99f252"
      },
      "outputs": [],
      "source": [
        "# Print the first example\n",
        "first_example = tweets['text'][108]\n",
        "print(first_example)"
      ]
    },
    {
      "cell_type": "code",
      "execution_count": null,
      "id": "c66d91c0-6eed-4591-95fc-cd2eae2e0d41",
      "metadata": {
        "id": "c66d91c0-6eed-4591-95fc-cd2eae2e0d41"
      },
      "outputs": [],
      "source": [
        "# Check if all characters are in lowercase\n",
        "print(first_example.islower())\n",
        "print(f\"{'=' * 50}\")\n",
        "\n",
        "# Convert it to lowercase\n",
        "print(first_example.lower())\n",
        "print(f\"{'=' * 50}\")\n",
        "\n",
        "# Convert it to uppercase\n",
        "print(first_example.upper())"
      ]
    },
    {
      "cell_type": "markdown",
      "id": "7bf0d8c8-bd6c-47ef-b305-09ac61d07d4d",
      "metadata": {
        "id": "7bf0d8c8-bd6c-47ef-b305-09ac61d07d4d"
      },
      "source": [
        "### Remove Extra Whitespace Characters\n",
        "\n",
        "Sometimes we might come across texts with extraneous whitespace, such as spaces, tabs, and newline characters, which is particularly common when the text is scrapped from web pages. Before we dive into the details, let's briefly introduce Regular Expressions (regex) and the `re` package.\n",
        "\n",
        "Regular expressions are a powerful way of searching for specific string patterns in large corpora. They have an infamously steep learning curve, but they can be very efficient when we get a handle on them. Many NLP packages heavily rely on regex under the hood. Regex testers, such as [regex101](https://regex101.com), are useful tools in both understanding and creating regex expressions.\n",
        "\n",
        "Our goal in this workshop is not to provide a deep (or even shallow) dive into regex; instead, we want to expose you to them so that you are better prepared to do deep dives in the future!\n",
        "\n",
        "The following example is a poem by William Wordsworth. Like many poems, the text may contain extra line breaks (i.e., newline characters, `\\n`) that we want to remove."
      ]
    },
    {
      "cell_type": "code",
      "execution_count": null,
      "id": "d1bd73f1-a30f-4269-a05e-47cfff7b496f",
      "metadata": {
        "id": "d1bd73f1-a30f-4269-a05e-47cfff7b496f"
      },
      "outputs": [],
      "source": [
        "# File path to the poem\n",
        "text_path = '../data/poem_wordsworth.txt'\n",
        "\n",
        "# Read the poem in\n",
        "with open(text_path, 'r') as file:\n",
        "    text = file.read()\n",
        "    file.close()"
      ]
    },
    {
      "cell_type": "markdown",
      "id": "7a693dd9-9706-40b3-863f-f568020245f7",
      "metadata": {
        "id": "7a693dd9-9706-40b3-863f-f568020245f7"
      },
      "source": [
        "As you can see, the poem is formatted as a continuous string of text with line breaks placed at the end of each line, making it difficult to read."
      ]
    },
    {
      "cell_type": "code",
      "execution_count": null,
      "id": "7e78a75a-8e15-4bcb-a416-783aa7f60ef3",
      "metadata": {
        "id": "7e78a75a-8e15-4bcb-a416-783aa7f60ef3"
      },
      "outputs": [],
      "source": [
        "text"
      ]
    },
    {
      "cell_type": "markdown",
      "id": "47cce993-c315-4aaa-87fe-149de8607f65",
      "metadata": {
        "id": "47cce993-c315-4aaa-87fe-149de8607f65"
      },
      "source": [
        "One handy function we can use to display the poem properly is `.splitlines()`. As the name suggests, it splits a long text sequence into a list of lines whenever there is a newline character.   "
      ]
    },
    {
      "cell_type": "code",
      "execution_count": null,
      "id": "ddeade7a-065d-49e6-bdd3-87a8ea8f6e6e",
      "metadata": {
        "id": "ddeade7a-065d-49e6-bdd3-87a8ea8f6e6e"
      },
      "outputs": [],
      "source": [
        "# Split the single string into a list of lines\n",
        "text.splitlines()"
      ]
    },
    {
      "cell_type": "markdown",
      "id": "44d3825b-0857-44e1-bf6a-d8c7a9032704",
      "metadata": {
        "id": "44d3825b-0857-44e1-bf6a-d8c7a9032704"
      },
      "source": [
        "Let's return to our tweet data for an example."
      ]
    },
    {
      "cell_type": "code",
      "execution_count": null,
      "id": "53a81ea9-65c4-474a-8530-35393555d1be",
      "metadata": {
        "id": "53a81ea9-65c4-474a-8530-35393555d1be"
      },
      "outputs": [],
      "source": [
        "# Print the second example\n",
        "second_example = tweets['text'][5]\n",
        "second_example"
      ]
    },
    {
      "cell_type": "markdown",
      "id": "aef55865-36fd-4c06-a765-530cf3b53096",
      "metadata": {
        "id": "aef55865-36fd-4c06-a765-530cf3b53096"
      },
      "source": [
        "In this case, we don't really want to split the tweet into a list of strings. We still expect a single string of text but would like to remove the line break completely from the string.\n",
        "\n",
        "The string method `.strip()` effectively does the job of stripping away spaces at both ends of the text. However, it won't work in our example as the newline character is in the middle of the string."
      ]
    },
    {
      "cell_type": "code",
      "execution_count": null,
      "id": "b933503b-4370-4dc4-b287-6dc2f9cdb1d4",
      "metadata": {
        "id": "b933503b-4370-4dc4-b287-6dc2f9cdb1d4"
      },
      "outputs": [],
      "source": [
        "# Strip only removed blankspace at both ends\n",
        "second_example.strip()"
      ]
    },
    {
      "cell_type": "markdown",
      "id": "b99b80b4-804f-460f-a2d5-adbd654902b3",
      "metadata": {
        "id": "b99b80b4-804f-460f-a2d5-adbd654902b3"
      },
      "source": [
        "This is where regex could be really helpful."
      ]
    },
    {
      "cell_type": "code",
      "execution_count": null,
      "id": "ceac9714-7053-4b2e-affb-71f8c3d2dcd9",
      "metadata": {
        "id": "ceac9714-7053-4b2e-affb-71f8c3d2dcd9"
      },
      "outputs": [],
      "source": [
        "import re"
      ]
    },
    {
      "cell_type": "markdown",
      "id": "d5f08d20-ba81-4e48-9e2a-5728148005b3",
      "metadata": {
        "id": "d5f08d20-ba81-4e48-9e2a-5728148005b3"
      },
      "source": [
        "Now, with regex, we are essentially calling it to match a pattern that we have identified in the text data, and we want to do some operations to the matched part—extract it, replace it with something else, or remove it completely. Therefore, the way regex works could be unpacked into the following steps:\n",
        "\n",
        "- Identify and write the pattern in regex (`r'PATTERN'`)\n",
        "- Write the replacement for the pattern (`'REPLACEMENT'`)\n",
        "- Call the specific regex function (e.g., `re.sub()`)\n",
        "\n",
        "In our example, the pattern we are looking for is `\\s`, which is the regex short name for any whitespace character (`\\n` and `\\t` included). We also add a quantifier `+` to the end: `\\s+`. It means we'd like to capture one or more occurences of the whitespace character."
      ]
    },
    {
      "cell_type": "code",
      "execution_count": null,
      "id": "1248d227-1149-4014-94a5-c05592a27a7e",
      "metadata": {
        "id": "1248d227-1149-4014-94a5-c05592a27a7e"
      },
      "outputs": [],
      "source": [
        "# Write a pattern in regex\n",
        "blankspace_pattern = r'\\s+'"
      ]
    },
    {
      "cell_type": "markdown",
      "id": "cc075c2e-1a1d-4393-a3ea-8ad7c118364b",
      "metadata": {
        "id": "cc075c2e-1a1d-4393-a3ea-8ad7c118364b"
      },
      "source": [
        "The replacement for one or more whitespace characters is exactly one single whitespace, which is the canonical word boundary in English. Any additional whitespace will be reduced to a single whitespace."
      ]
    },
    {
      "cell_type": "code",
      "execution_count": null,
      "id": "c55cb2f1-f4ca-4b79-900c-f65ec303ddac",
      "metadata": {
        "id": "c55cb2f1-f4ca-4b79-900c-f65ec303ddac"
      },
      "outputs": [],
      "source": [
        "# Write a replacement for the pattern identfied\n",
        "blankspace_repl = ' '"
      ]
    },
    {
      "cell_type": "markdown",
      "id": "bc12e3d1-728a-429b-9c83-4dcc88590bc4",
      "metadata": {
        "id": "bc12e3d1-728a-429b-9c83-4dcc88590bc4"
      },
      "source": [
        "Lastly, let's put everything together using the function [`re.sub()`](https://docs.python.org/3.11/library/re.html#re.sub), which means we want to substitute a pattern with a replacement. The function takes in three arguments—the pattern, the replacement, and the string to which we want to apply the function."
      ]
    },
    {
      "cell_type": "code",
      "execution_count": null,
      "id": "5249b24b-7111-4569-be29-c40efa5e148e",
      "metadata": {
        "id": "5249b24b-7111-4569-be29-c40efa5e148e"
      },
      "outputs": [],
      "source": [
        "# Replace whitespace(s) with ' '\n",
        "clean_text = re.sub(pattern = blankspace_pattern,\n",
        "                    repl = blankspace_repl,\n",
        "                    string = second_example)\n",
        "print(clean_text)"
      ]
    },
    {
      "cell_type": "markdown",
      "id": "a895fbe3-a034-4124-94af-72a528913c51",
      "metadata": {
        "id": "a895fbe3-a034-4124-94af-72a528913c51"
      },
      "source": [
        "Ta-da! The newline character is no longer there."
      ]
    },
    {
      "cell_type": "markdown",
      "id": "7087dc0c-5fef-4f1c-8662-7cbc8a978f34",
      "metadata": {
        "id": "7087dc0c-5fef-4f1c-8662-7cbc8a978f34"
      },
      "source": [
        "### Remove Punctuation Marks\n",
        "\n",
        "Sometimes we are only interested in analyzing **alphanumeric characters** (i.e., the letters and numbers), in which case we might want to remove punctuation marks.\n",
        "\n",
        "The `string` module contains a list of predefined punctuation marks. Let's print them out."
      ]
    },
    {
      "cell_type": "code",
      "execution_count": 17,
      "id": "70e8502b-b703-45e0-8852-0c3210363440",
      "metadata": {
        "id": "70e8502b-b703-45e0-8852-0c3210363440",
        "outputId": "74d0329d-6627-47f6-e777-dd4718e5d66e",
        "colab": {
          "base_uri": "https://localhost:8080/"
        }
      },
      "outputs": [
        {
          "output_type": "stream",
          "name": "stdout",
          "text": [
            "!\"#$%&'()*+,-./:;<=>?@[\\]^_`{|}~\n"
          ]
        }
      ],
      "source": [
        "# Load in a predefined list of punctuation marks\n",
        "from string import punctuation\n",
        "print(punctuation)"
      ]
    },
    {
      "cell_type": "markdown",
      "id": "91119c9e-431c-42cb-afea-f7e607698929",
      "metadata": {
        "id": "91119c9e-431c-42cb-afea-f7e607698929"
      },
      "source": [
        "In practice, to remove these punctuation characters, we can simply iterate over the text and remove characters found in the list, such as shown below in the `remove_punct` function."
      ]
    },
    {
      "cell_type": "code",
      "execution_count": 18,
      "id": "237d868d-339d-4bbe-9a3b-20fa5fbdf231",
      "metadata": {
        "id": "237d868d-339d-4bbe-9a3b-20fa5fbdf231"
      },
      "outputs": [],
      "source": [
        "def remove_punct(text):\n",
        "    '''Remove punctuation marks in input text'''\n",
        "\n",
        "    # Select characters not in puncutaion\n",
        "    no_punct = []\n",
        "    for char in text:\n",
        "        if char not in punctuation:\n",
        "            no_punct.append(char)\n",
        "\n",
        "    # Join the characters into a string\n",
        "    text_no_punct = ''.join(no_punct)\n",
        "\n",
        "    return text_no_punct"
      ]
    },
    {
      "cell_type": "markdown",
      "id": "d4fc768b-c2dd-4386-8212-483c4485e4be",
      "metadata": {
        "id": "d4fc768b-c2dd-4386-8212-483c4485e4be"
      },
      "source": [
        "Let's apply the function to the example below."
      ]
    },
    {
      "cell_type": "code",
      "execution_count": 19,
      "id": "7596c465-3d85-4b72-a853-f2151bcd91df",
      "metadata": {
        "id": "7596c465-3d85-4b72-a853-f2151bcd91df",
        "outputId": "cada6d2c-02ce-4789-bca4-3a296d28b541",
        "colab": {
          "base_uri": "https://localhost:8080/",
          "height": 211
        }
      },
      "outputs": [
        {
          "output_type": "error",
          "ename": "NameError",
          "evalue": "name 'tweets' is not defined",
          "traceback": [
            "\u001b[0;31m---------------------------------------------------------------------------\u001b[0m",
            "\u001b[0;31mNameError\u001b[0m                                 Traceback (most recent call last)",
            "\u001b[0;32m/tmp/ipython-input-19-2086677816.py\u001b[0m in \u001b[0;36m<cell line: 0>\u001b[0;34m()\u001b[0m\n\u001b[1;32m      1\u001b[0m \u001b[0;31m# Print the third example\u001b[0m\u001b[0;34m\u001b[0m\u001b[0;34m\u001b[0m\u001b[0m\n\u001b[0;32m----> 2\u001b[0;31m \u001b[0mthird_example\u001b[0m \u001b[0;34m=\u001b[0m \u001b[0mtweets\u001b[0m\u001b[0;34m[\u001b[0m\u001b[0;34m'text'\u001b[0m\u001b[0;34m]\u001b[0m\u001b[0;34m[\u001b[0m\u001b[0;36m20\u001b[0m\u001b[0;34m]\u001b[0m\u001b[0;34m\u001b[0m\u001b[0;34m\u001b[0m\u001b[0m\n\u001b[0m\u001b[1;32m      3\u001b[0m \u001b[0mprint\u001b[0m\u001b[0;34m(\u001b[0m\u001b[0mthird_example\u001b[0m\u001b[0;34m)\u001b[0m\u001b[0;34m\u001b[0m\u001b[0;34m\u001b[0m\u001b[0m\n\u001b[1;32m      4\u001b[0m \u001b[0mprint\u001b[0m\u001b[0;34m(\u001b[0m\u001b[0;34mf\"{'=' * 50}\"\u001b[0m\u001b[0;34m)\u001b[0m\u001b[0;34m\u001b[0m\u001b[0;34m\u001b[0m\u001b[0m\n\u001b[1;32m      5\u001b[0m \u001b[0;34m\u001b[0m\u001b[0m\n",
            "\u001b[0;31mNameError\u001b[0m: name 'tweets' is not defined"
          ]
        }
      ],
      "source": [
        "# Print the third example\n",
        "third_example = tweets['text'][20]\n",
        "print(third_example)\n",
        "print(f\"{'=' * 50}\")\n",
        "\n",
        "# Apply the function\n",
        "remove_punct(third_example)"
      ]
    },
    {
      "cell_type": "markdown",
      "id": "853a4b83-f503-4405-aedd-66bbc088e3e7",
      "metadata": {
        "id": "853a4b83-f503-4405-aedd-66bbc088e3e7"
      },
      "source": [
        "Let's give it a try with another tweet. What have you noticed?"
      ]
    },
    {
      "cell_type": "code",
      "execution_count": null,
      "id": "5b3c2f60-fc92-4326-bad6-5ad04be50476",
      "metadata": {
        "id": "5b3c2f60-fc92-4326-bad6-5ad04be50476"
      },
      "outputs": [],
      "source": [
        "# Print another tweet\n",
        "print(tweets['text'][100])\n",
        "print(f\"{'=' * 50}\")\n",
        "\n",
        "# Apply the function\n",
        "remove_punct(tweets['text'][100])"
      ]
    },
    {
      "cell_type": "markdown",
      "id": "1af02ce5-b674-4cb4-8e08-7d7416963f9c",
      "metadata": {
        "id": "1af02ce5-b674-4cb4-8e08-7d7416963f9c"
      },
      "source": [
        "What about the following example?"
      ]
    },
    {
      "cell_type": "code",
      "execution_count": null,
      "id": "6f8c3947-e6b8-42fe-8a58-15e4b6c60005",
      "metadata": {
        "id": "6f8c3947-e6b8-42fe-8a58-15e4b6c60005"
      },
      "outputs": [],
      "source": [
        "# Print a text with contraction\n",
        "contraction_text = \"We've got quite a bit of punctuation here, don't we?!? #Python @D-Lab.\"\n",
        "\n",
        "# Apply the function\n",
        "remove_punct(contraction_text)"
      ]
    },
    {
      "cell_type": "markdown",
      "id": "62574c66-db3f-4500-9c3b-cea2f3eb2a30",
      "metadata": {
        "id": "62574c66-db3f-4500-9c3b-cea2f3eb2a30"
      },
      "source": [
        "⚠️ **Warning:** In many cases, we want to remove punctuation marks **after** tokenization, which we will discuss in a minute. This tells us that the **order** of preprocessing is a matter of importance!"
      ]
    },
    {
      "cell_type": "markdown",
      "id": "58c6b85e-58e7-4f56-9b4a-b60c85b394ba",
      "metadata": {
        "id": "58c6b85e-58e7-4f56-9b4a-b60c85b394ba"
      },
      "source": [
        "## 🥊 Challenge 1: Preprocessing with Multiple Steps\n",
        "\n",
        "So far we've learned a few preprocessing operations, let's put them together in a function! This function would be a handy one to refer to if you happen to work with some messy English text data, and you want to preprocess it with a single function.\n",
        "\n",
        "The example text data for challenge 1 is shown below. Write a function to:\n",
        "- Lowercase the text\n",
        "- Remove punctuation marks\n",
        "- Remove extra whitespace characters\n",
        "\n",
        "Feel free to recycle the codes we've used above!"
      ]
    },
    {
      "cell_type": "code",
      "execution_count": null,
      "id": "deb10cba-239e-4856-b56d-7d5eb850c9b9",
      "metadata": {
        "id": "deb10cba-239e-4856-b56d-7d5eb850c9b9"
      },
      "outputs": [],
      "source": [
        "challenge1_path = '../data/example1.txt'\n",
        "\n",
        "with open(challenge1_path, 'r') as file:\n",
        "    challenge1 = file.read()\n",
        "\n",
        "print(challenge1)"
      ]
    },
    {
      "cell_type": "code",
      "execution_count": null,
      "id": "e2480823-65dd-4f52-a7b3-6d9b10d87912",
      "metadata": {
        "scrolled": true,
        "id": "e2480823-65dd-4f52-a7b3-6d9b10d87912"
      },
      "outputs": [],
      "source": [
        "def clean_text(text):\n",
        "\n",
        "    # Step 1: Lowercase\n",
        "    text = ...\n",
        "\n",
        "    # Step 2: Use remove_punct to remove punctuation marks\n",
        "    text = ...\n",
        "\n",
        "    # Step 3: Remove extra whitespace characters\n",
        "    text = ...\n",
        "\n",
        "    return text"
      ]
    },
    {
      "cell_type": "code",
      "execution_count": null,
      "id": "dc603506-0adb-45d7-bb6f-62958c054fdd",
      "metadata": {
        "scrolled": true,
        "id": "dc603506-0adb-45d7-bb6f-62958c054fdd"
      },
      "outputs": [],
      "source": [
        "# Uncomment to apply the above function to challenge 1 text\n",
        "# clean_text(challenge1)"
      ]
    },
    {
      "cell_type": "markdown",
      "id": "67c159cb-8eaa-4c30-b8ff-38a712d2bb0f",
      "metadata": {
        "id": "67c159cb-8eaa-4c30-b8ff-38a712d2bb0f"
      },
      "source": [
        "## Task-specific Processes\n",
        "\n",
        "Now that we understand common preprocessing operations, there are still a few additional operations to consider. Our text data might require further normalization depending on the language, source, and content of the data.\n",
        "\n",
        "For example, if we are working with financial documents, we might want to standardize monetary symbols by converting them to digits. It our tweets data, there are numerous hashtags and URLs. These can be replaced with placeholders to simplify the subsequent analysis."
      ]
    },
    {
      "cell_type": "markdown",
      "id": "c2936cea-74e9-40c2-bfbe-6ba8129330de",
      "metadata": {
        "id": "c2936cea-74e9-40c2-bfbe-6ba8129330de"
      },
      "source": [
        "### 🎬 **Demo**: Remove Hashtags and URLs\n",
        "\n",
        "Although URLs, hashtags, and numbers are informative in their own right, oftentimes we don't necessarily care about the exact meaning of each of them.\n",
        "\n",
        "While we could remove them completely, it's often informative to know that there **exists** a URL or a hashtag. In practice, we replace individual URLs and hashtags with a \"symbol\" that preserves the fact these structures exist in the text. It's standard to just use the strings \"URL\" and \"HASHTAG.\"\n",
        "\n",
        "Since these types of text often follow a regular structure, they're an apt case for using regular expressions. Let's apply these patterns to the tweets data."
      ]
    },
    {
      "cell_type": "code",
      "execution_count": null,
      "id": "03c0dc37-a013-4f0a-b72f-a1f64dc6c1bd",
      "metadata": {
        "id": "03c0dc37-a013-4f0a-b72f-a1f64dc6c1bd"
      },
      "outputs": [],
      "source": [
        "# Print the example tweet\n",
        "url_tweet = tweets['text'][13]\n",
        "print(url_tweet)"
      ]
    },
    {
      "cell_type": "code",
      "execution_count": null,
      "id": "4ef61bea-ea11-468d-8176-a2f63659d204",
      "metadata": {
        "id": "4ef61bea-ea11-468d-8176-a2f63659d204"
      },
      "outputs": [],
      "source": [
        "# URL\n",
        "url_pattern = r'(http|ftp|https):\\/\\/([\\w_-]+(?:(?:\\.[\\w_-]+)+))([\\w.,@?^=%&:\\/~+#-]*[\\w@?^=%&\\/~+#-])'\n",
        "url_repl = ' URL '\n",
        "re.sub(url_pattern, url_repl, url_tweet)"
      ]
    },
    {
      "cell_type": "code",
      "execution_count": null,
      "id": "ea8e0f2a-460e-4088-aa89-dc2a8bc6f7fe",
      "metadata": {
        "id": "ea8e0f2a-460e-4088-aa89-dc2a8bc6f7fe"
      },
      "outputs": [],
      "source": [
        "# Hashtag\n",
        "hashtag_pattern = r'(?:^|\\s)[＃#]{1}(\\w+)'\n",
        "hashtag_repl = ' HASHTAG '\n",
        "re.sub(hashtag_pattern, hashtag_repl, url_tweet)"
      ]
    },
    {
      "cell_type": "markdown",
      "id": "71d68d49-4923-49c0-9113-b844dc7546b9",
      "metadata": {
        "id": "71d68d49-4923-49c0-9113-b844dc7546b9"
      },
      "source": [
        "<a id='section2'></a>\n",
        "\n",
        "# Tokenization\n",
        "\n",
        "## Tokenizers Before LLMs\n",
        "\n",
        "One of the most important steps in text analysis is tokenization. This is the process of breaking a long sequence of text into word tokens. With these tokens available, we are ready to perform word-level analysis. For instance, we can filter out tokens that don't contribute to the core meaning of the text.\n",
        "\n",
        "In this section, we'll introduce how to perform tokenization using `nltk`, `spaCy`, and a Large Language Model (`bert`). The purpose is to expose you to different NLP packages, help you understand their functionalities, and demonstrate how to access key functions in each package.\n",
        "\n",
        "### `nltk`\n",
        "\n",
        "The first package we'll be using is called **Natural Language Toolkit**, or `nltk`.\n",
        "\n",
        "Let's install a couple modules from the package."
      ]
    },
    {
      "cell_type": "code",
      "execution_count": null,
      "id": "441d81f8-361e-4273-bd36-91a272f4a38a",
      "metadata": {
        "scrolled": true,
        "id": "441d81f8-361e-4273-bd36-91a272f4a38a"
      },
      "outputs": [],
      "source": [
        "import nltk"
      ]
    },
    {
      "cell_type": "code",
      "execution_count": null,
      "id": "64b327cc-5c77-4fdc-9aaf-17d7f0761237",
      "metadata": {
        "id": "64b327cc-5c77-4fdc-9aaf-17d7f0761237"
      },
      "outputs": [],
      "source": [
        "# Uncomment the following lines to install these modules\n",
        "# nltk.download('wordnet')\n",
        "# nltk.download('stopwords')\n",
        "# nltk.download('punkt')"
      ]
    },
    {
      "cell_type": "markdown",
      "id": "6e79b699-c3a5-489f-9b3c-95653aba34d6",
      "metadata": {
        "id": "6e79b699-c3a5-489f-9b3c-95653aba34d6"
      },
      "source": [
        "`nltk` has a function called `word_tokenize`. It requires one argument, which is the text to be tokenized, and it returns a list of tokens for us."
      ]
    },
    {
      "cell_type": "code",
      "execution_count": null,
      "id": "7b5d6944-c641-4fac-a239-5947a496371c",
      "metadata": {
        "id": "7b5d6944-c641-4fac-a239-5947a496371c"
      },
      "outputs": [],
      "source": [
        "# Load word_tokenize\n",
        "from nltk.tokenize import word_tokenize\n",
        "\n",
        "# Print the example\n",
        "text = tweets['text'][7]\n",
        "print(text)"
      ]
    },
    {
      "cell_type": "code",
      "execution_count": null,
      "id": "95fde2a3-e4e2-4e61-ad54-e4d5d0a6ba71",
      "metadata": {
        "id": "95fde2a3-e4e2-4e61-ad54-e4d5d0a6ba71"
      },
      "outputs": [],
      "source": [
        "# Apply the NLTK tokenizer\n",
        "nltk_tokens = word_tokenize(text)\n",
        "nltk_tokens"
      ]
    },
    {
      "cell_type": "markdown",
      "id": "80ead039-7721-4b22-8590-0d7824631675",
      "metadata": {
        "id": "80ead039-7721-4b22-8590-0d7824631675"
      },
      "source": [
        "Here we are, with a list of tokens identified by `nltk`. Let's take a minute to inspect them!\n",
        "\n",
        "🔔 **Question**: Do word boundaries decided by `nltk` make sense to you? Pay attention to the twitter handle and the URL in the example tweet.\n",
        "\n",
        "You may feel that accessing functions in `nltk` is pretty straightforward. The function we used above was imported from the `nltk.tokenize` module, which as the name suggests, primarily does the job of tokenization.\n",
        "\n",
        "Underlyingly, `nltk` has [a collection of modules](https://www.nltk.org/api/nltk.html) that fulfill different purposes, to name a few:\n",
        "\n",
        "| NLTK module   | Fucntion                  | Link                                                         |\n",
        "|---------------|---------------------------|--------------------------------------------------------------|\n",
        "| nltk.tokenize | Tokenization              | [Documentation](https://www.nltk.org/api/nltk.tokenize.html) |\n",
        "| nltk.corpus   | Retrieve built-in corpora | [Documentation](https://www.nltk.org/nltk_data/)             |\n",
        "| nltk.tag      | Part-of-speech tagging    | [Documentation](https://www.nltk.org/api/nltk.tag.html)      |\n",
        "| nltk.stem     | Stemming                  | [Documentation](https://www.nltk.org/api/nltk.stem.html)     |\n",
        "| ...           | ...                       | ...                                                          |\n",
        "\n",
        "Let's import `stopwords` from the `nltk.corpus` module, which hosts a range of built-in corpora."
      ]
    },
    {
      "cell_type": "code",
      "execution_count": null,
      "id": "84bbfced-8803-41ca-9cae-49bdadf8c000",
      "metadata": {
        "id": "84bbfced-8803-41ca-9cae-49bdadf8c000"
      },
      "outputs": [],
      "source": [
        "# Load predefined stop words from nltk\n",
        "from nltk.corpus import stopwords"
      ]
    },
    {
      "cell_type": "markdown",
      "id": "dee971a1-1189-4cb6-8317-4836f54c3ae2",
      "metadata": {
        "id": "dee971a1-1189-4cb6-8317-4836f54c3ae2"
      },
      "source": [
        "Let's specificy that we want to retrieve English stop words. The function simply returns a list of stop words, mostly function words, that `nltk` identifies."
      ]
    },
    {
      "cell_type": "code",
      "execution_count": null,
      "id": "6009e1df-b720-4d22-a162-7fd250a58672",
      "metadata": {
        "id": "6009e1df-b720-4d22-a162-7fd250a58672"
      },
      "outputs": [],
      "source": [
        "# Print the first 10 stopwords\n",
        "stop = stopwords.words('english')\n",
        "stop[:10]"
      ]
    },
    {
      "cell_type": "markdown",
      "id": "4c3ec908-de6c-42c5-a370-f1b1df0032b3",
      "metadata": {
        "id": "4c3ec908-de6c-42c5-a370-f1b1df0032b3"
      },
      "source": [
        "### `spaCy`\n",
        "Other than `nltk`, we have another widely-used package called `spaCy`.\n",
        "\n",
        "`spaCy` has its own processing pipeline. It takes in a string of text, runs the `nlp` pipeline on it, and stores the processed text and its annotations in an object called `doc`. The `nlp` pipeline always performs tokenization, as well as [other text analysis components](https://spacy.io/usage/processing-pipelines#custom-components) requested by the user. These components are pretty similar to modules in `nltk`."
      ]
    },
    {
      "cell_type": "markdown",
      "id": "c6a0facd-4b75-41ac-920c-5ea044f7ae2e",
      "metadata": {
        "id": "c6a0facd-4b75-41ac-920c-5ea044f7ae2e"
      },
      "source": [
        "<img src='https://github.com/sauls98/Python-NLP-Fundamentals_Grupo_4/blob/main/images/spacy.png?raw=1' alt=\"spacy pipeline\" width=\"700\">"
      ]
    },
    {
      "cell_type": "markdown",
      "id": "c3ef1eaf-2790-4928-b094-943f2803c6a0",
      "metadata": {
        "id": "c3ef1eaf-2790-4928-b094-943f2803c6a0"
      },
      "source": [
        "Note that we always start by initializing the `nlp` pipeline, depending on the language of the text. Here, we are loading a pretrained language model for English: `en_core_web_sm`. The name suggests that it is a lightweight model trained on some text data (e.g., blogs); see model descriptions [here](https://spacy.io/models/en#en_core_web_sm).\n",
        "\n",
        "This is the first time we encounter the concept of **pretraining**, though you may have heard it elsewhere. In the context of NLP, pretraining means that the model has been trained on a vast amount of data. As a result, it comes with a certain \"knowledge\" of word structure and grammar of the language.\n",
        "\n",
        "Therefore, when we apply the model to our own data, we can expect it to be reasonably accurate in performing various annotation tasks, e.g., tagging a word's part of speech, identifying the syntactic head of a phrase, and etc.\n",
        "\n",
        "Let's dive in! We'll first need to load the pretrained language model we installed earlier."
      ]
    },
    {
      "cell_type": "code",
      "execution_count": null,
      "id": "524dfc02-aa8f-4888-9f81-74a570db72b7",
      "metadata": {
        "id": "524dfc02-aa8f-4888-9f81-74a570db72b7"
      },
      "outputs": [],
      "source": [
        "import spacy\n",
        "nlp = spacy.load('en_core_web_sm')"
      ]
    },
    {
      "cell_type": "markdown",
      "id": "57d669c3-2f5a-41b6-893b-ea1d438b3a48",
      "metadata": {
        "id": "57d669c3-2f5a-41b6-893b-ea1d438b3a48"
      },
      "source": [
        "The `nlp` pipeline, by default, includes a set of components, which we can access via the `.pipe_names` attribute.\n",
        "\n",
        "You may notice that it dosen't include the tokenizer. Don't worry! Tokenizer is a special component that the pipeline always includes."
      ]
    },
    {
      "cell_type": "code",
      "execution_count": null,
      "id": "6d581ca5-43f8-4ef9-b099-2fc92c324581",
      "metadata": {
        "id": "6d581ca5-43f8-4ef9-b099-2fc92c324581"
      },
      "outputs": [],
      "source": [
        "# Retrieve components included in NLP pipeline\n",
        "nlp.pipe_names"
      ]
    },
    {
      "cell_type": "markdown",
      "id": "d1e37f91-d174-4101-bfc6-2859cb0fe5cc",
      "metadata": {
        "id": "d1e37f91-d174-4101-bfc6-2859cb0fe5cc"
      },
      "source": [
        "Let's run the `nlp` pipeline on our example tweet data, and assign it to a variable `doc`."
      ]
    },
    {
      "cell_type": "code",
      "execution_count": null,
      "id": "618e8558-625d-4546-8109-63f9bae9790f",
      "metadata": {
        "id": "618e8558-625d-4546-8109-63f9bae9790f"
      },
      "outputs": [],
      "source": [
        "# Apply the pipeline to example tweet\n",
        "doc = nlp(tweets['text'][7])"
      ]
    },
    {
      "cell_type": "markdown",
      "id": "54325d60-5c5c-488d-baf2-7eed4de2c031",
      "metadata": {
        "id": "54325d60-5c5c-488d-baf2-7eed4de2c031"
      },
      "source": [
        "Under the hood, the `doc` object contains the tokens (created by the tokenizer) and their annotations (created by other components), which are [linguistic features](\n",
        "https://spacy.io/usage/linguistic-features) useful for text analysis. We retrieve the token and its annotations by accessing corresponding attributes.\n",
        "\n",
        "| Attribute      | Annotation                              | Link                                                                      |\n",
        "|----------------|-----------------------------------------|---------------------------------------------------------------------------|\n",
        "| token.text     | The token in verbatim text              | [Documentation](https://spacy.io/api/token#attributes)                    |\n",
        "| token.is_stop  | Whether the token is a stop word        | [Documentation](https://spacy.io/api/attributes#_title)                   |\n",
        "| token.is_punct | Whether the token is a punctuation mark | [Documentation](https://spacy.io/api/attributes#_title)                   |\n",
        "| token.lemma_   | The base form of the token              | [Documentation](https://spacy.io/usage/linguistic-features#lemmatization) |\n",
        "| token.pos_     | The simple POS-tag of the token         | [Documentation](https://spacy.io/usage/linguistic-features#pos-tagging)   |\n",
        "| ...            | ...                                     | ...                                                                       |"
      ]
    },
    {
      "cell_type": "markdown",
      "id": "2e9f23c8-a157-44a7-a6ec-6894aec1a595",
      "metadata": {
        "id": "2e9f23c8-a157-44a7-a6ec-6894aec1a595"
      },
      "source": [
        "Let's first get the tokens themselves! We'll iterate over the `doc` object and retrieve the text of each token."
      ]
    },
    {
      "cell_type": "code",
      "execution_count": null,
      "id": "4c71efee-e6cf-46c4-9198-593304f6560d",
      "metadata": {
        "id": "4c71efee-e6cf-46c4-9198-593304f6560d"
      },
      "outputs": [],
      "source": [
        "# Get the verbatim texts of tokens\n",
        "spacy_tokens = [token.text for token in doc]\n",
        "spacy_tokens"
      ]
    },
    {
      "cell_type": "code",
      "execution_count": null,
      "id": "f4fc23f0-c699-45e6-ad62-e131036d601f",
      "metadata": {
        "id": "f4fc23f0-c699-45e6-ad62-e131036d601f"
      },
      "outputs": [],
      "source": [
        "# Get the NLTK tokens\n",
        "nltk_tokens"
      ]
    },
    {
      "cell_type": "markdown",
      "id": "a0ace59e-40e0-42b3-9f2b-d30ac94dccab",
      "metadata": {
        "id": "a0ace59e-40e0-42b3-9f2b-d30ac94dccab"
      },
      "source": [
        "🔔 **Question**: Let's pause for a minute to compare the tokens generated by `nltk` and `spaCy`. What have you noticed?\n",
        "\n",
        "Remember we can also access various annotations of these okens. For instance, one annotation `spaCy` offers is that it conveniently encodes whether a token is a stop word."
      ]
    },
    {
      "cell_type": "code",
      "execution_count": null,
      "id": "626af687-e986-4c97-af86-edf7dbd22c3e",
      "metadata": {
        "id": "626af687-e986-4c97-af86-edf7dbd22c3e"
      },
      "outputs": [],
      "source": [
        "# Retrieve the is_stop annotation\n",
        "spacy_stops = [token.is_stop for token in doc]\n",
        "\n",
        "# The results are boolean values\n",
        "spacy_stops"
      ]
    },
    {
      "cell_type": "markdown",
      "id": "3b6548b6-7e89-4f42-b8cb-bf7c93b34eb4",
      "metadata": {
        "id": "3b6548b6-7e89-4f42-b8cb-bf7c93b34eb4"
      },
      "source": [
        "## 🥊 Challenge 2: Remove Stop Words\n",
        "\n",
        "We have known how `nltk` and `spaCy` work as NLP packages. We've also demostrated how to identify stop words with each package.\n",
        "\n",
        "Let's write **two** functions to remove stop words from our text data.\n",
        "\n",
        "- Complete the function for stop words removal using `nltk`\n",
        "    - The starter code requires two arguments: the raw text input and a list of predefined stop words\n",
        "- Complete the function for stop words removal using `spaCy`\n",
        "    - The starter code requires one argument: the raw text input\n",
        "\n",
        "A friendly reminder before we dive in: both functions take raw text as input—that's a signal to perform tokenization on the raw text first!"
      ]
    },
    {
      "cell_type": "code",
      "execution_count": null,
      "id": "b24b5370-392f-420d-8c9e-78146d0fca29",
      "metadata": {
        "id": "b24b5370-392f-420d-8c9e-78146d0fca29"
      },
      "outputs": [],
      "source": [
        "def remove_stopword_nltk(raw_text, stopword):\n",
        "\n",
        "    # Step 1: Tokenization with nltk\n",
        "    # YOUR CODE HERE\n",
        "\n",
        "    # Step 2: Filter out tokens in the stop word list\n",
        "    # YOUR CODE HERE"
      ]
    },
    {
      "cell_type": "code",
      "execution_count": null,
      "id": "65b5bbda-0af5-49a9-8f5e-77d61ab217e7",
      "metadata": {
        "id": "65b5bbda-0af5-49a9-8f5e-77d61ab217e7"
      },
      "outputs": [],
      "source": [
        "def remove_stopword_spacy(raw_text):\n",
        "\n",
        "    # Step 1: Apply the nlp pipeline\n",
        "    # YOUR CODE HERE\n",
        "\n",
        "    # Step 2: Filter out tokens that are stop words\n",
        "    # YOUR CODE HERE"
      ]
    },
    {
      "cell_type": "code",
      "execution_count": null,
      "id": "f4c3b0da-2223-4d7f-9014-696498e804e6",
      "metadata": {
        "id": "f4c3b0da-2223-4d7f-9014-696498e804e6"
      },
      "outputs": [],
      "source": [
        "# remove_stopword_nltk(text, stop)"
      ]
    },
    {
      "cell_type": "code",
      "execution_count": null,
      "id": "f83538ba-6bf1-49ca-90ec-b6532b1ffcb3",
      "metadata": {
        "id": "f83538ba-6bf1-49ca-90ec-b6532b1ffcb3"
      },
      "outputs": [],
      "source": [
        "# remove_stopword_spacy(text)"
      ]
    },
    {
      "cell_type": "markdown",
      "id": "d3a6b1ec-87cc-4a08-a5dd-0210a9c56f0b",
      "metadata": {
        "id": "d3a6b1ec-87cc-4a08-a5dd-0210a9c56f0b"
      },
      "source": [
        "## 🎬 **Demo**: Powerful Features from `spaCy`\n",
        "\n",
        "`spaCy`'s nlp pipeline includes a number of linguistic annotations, which could be very useful for text analysis.\n",
        "\n",
        "For instance, we can access more annotations such as the lemma, the part-of-speech tag and its meaning, and whether the token looks like URLs."
      ]
    },
    {
      "cell_type": "code",
      "execution_count": null,
      "id": "eb6c7d93-51a3-4fb8-8321-cb672f4f1b8f",
      "metadata": {
        "id": "eb6c7d93-51a3-4fb8-8321-cb672f4f1b8f"
      },
      "outputs": [],
      "source": [
        "# Print tokens and their annotations\n",
        "for token in doc:\n",
        "    print(f\"{token.text:<24} | {token.lemma_:<24} | {token.pos_:<12} | {spacy.explain(token.pos_):<12} | {token.like_url:<12} |\")"
      ]
    },
    {
      "cell_type": "markdown",
      "id": "17388e0c-88b6-4cd9-8d2b-adb7f10b5330",
      "metadata": {
        "id": "17388e0c-88b6-4cd9-8d2b-adb7f10b5330"
      },
      "source": [
        "As you can imagine, it is typical for this dataset to contain place names and airport codes. It would be cool if we are able to identify them and extract them from tweets."
      ]
    },
    {
      "cell_type": "code",
      "execution_count": 20,
      "id": "cb489f78-fbb2-497b-a36d-3400c00c9b9d",
      "metadata": {
        "id": "cb489f78-fbb2-497b-a36d-3400c00c9b9d",
        "outputId": "06208c7a-7dab-4b84-821d-8a7e8f7a6ea9",
        "colab": {
          "base_uri": "https://localhost:8080/",
          "height": 211
        }
      },
      "outputs": [
        {
          "output_type": "error",
          "ename": "NameError",
          "evalue": "name 'tweets' is not defined",
          "traceback": [
            "\u001b[0;31m---------------------------------------------------------------------------\u001b[0m",
            "\u001b[0;31mNameError\u001b[0m                                 Traceback (most recent call last)",
            "\u001b[0;32m/tmp/ipython-input-20-3518251411.py\u001b[0m in \u001b[0;36m<cell line: 0>\u001b[0;34m()\u001b[0m\n\u001b[1;32m      1\u001b[0m \u001b[0;31m# Print example tweets with place names and airport codes\u001b[0m\u001b[0;34m\u001b[0m\u001b[0;34m\u001b[0m\u001b[0m\n\u001b[0;32m----> 2\u001b[0;31m \u001b[0mtweet_city\u001b[0m \u001b[0;34m=\u001b[0m \u001b[0mtweets\u001b[0m\u001b[0;34m[\u001b[0m\u001b[0;34m'text'\u001b[0m\u001b[0;34m]\u001b[0m\u001b[0;34m[\u001b[0m\u001b[0;36m8273\u001b[0m\u001b[0;34m]\u001b[0m\u001b[0;34m\u001b[0m\u001b[0;34m\u001b[0m\u001b[0m\n\u001b[0m\u001b[1;32m      3\u001b[0m \u001b[0mtweet_airport\u001b[0m \u001b[0;34m=\u001b[0m \u001b[0mtweets\u001b[0m\u001b[0;34m[\u001b[0m\u001b[0;34m'text'\u001b[0m\u001b[0;34m]\u001b[0m\u001b[0;34m[\u001b[0m\u001b[0;36m502\u001b[0m\u001b[0;34m]\u001b[0m\u001b[0;34m\u001b[0m\u001b[0;34m\u001b[0m\u001b[0m\n\u001b[1;32m      4\u001b[0m \u001b[0mprint\u001b[0m\u001b[0;34m(\u001b[0m\u001b[0mtweet_city\u001b[0m\u001b[0;34m)\u001b[0m\u001b[0;34m\u001b[0m\u001b[0;34m\u001b[0m\u001b[0m\n\u001b[1;32m      5\u001b[0m \u001b[0mprint\u001b[0m\u001b[0;34m(\u001b[0m\u001b[0;34mf\"{'=' * 50}\"\u001b[0m\u001b[0;34m)\u001b[0m\u001b[0;34m\u001b[0m\u001b[0;34m\u001b[0m\u001b[0m\n",
            "\u001b[0;31mNameError\u001b[0m: name 'tweets' is not defined"
          ]
        }
      ],
      "source": [
        "# Print example tweets with place names and airport codes\n",
        "tweet_city = tweets['text'][8273]\n",
        "tweet_airport = tweets['text'][502]\n",
        "print(tweet_city)\n",
        "print(f\"{'=' * 50}\")\n",
        "print(tweet_airport)"
      ]
    },
    {
      "cell_type": "markdown",
      "id": "013990a5-5e07-4a45-9427-fcd33840d3b8",
      "metadata": {
        "id": "013990a5-5e07-4a45-9427-fcd33840d3b8"
      },
      "source": [
        "We can use the \"ner\" ([Named Entity Recognition](https://en.wikipedia.org/wiki/Named-entity_recognition)) component to identify entities and their categories."
      ]
    },
    {
      "cell_type": "code",
      "execution_count": null,
      "id": "b9e63519-5991-49fa-9a5d-be9f9b408ad1",
      "metadata": {
        "id": "b9e63519-5991-49fa-9a5d-be9f9b408ad1"
      },
      "outputs": [],
      "source": [
        "# Print entities identified from the text\n",
        "doc_city = nlp(tweet_city)\n",
        "for ent in doc_city.ents:\n",
        "    print(f\"{ent.text:<15} | {ent.start_char:<10} | {ent.end_char:<10} | {ent.label_:<10}\")"
      ]
    },
    {
      "cell_type": "markdown",
      "id": "7b933ed0-7018-450c-b0a6-fb76cb6d5be9",
      "metadata": {
        "id": "7b933ed0-7018-450c-b0a6-fb76cb6d5be9"
      },
      "source": [
        "We can also use `displacy` to highlight entities identified in the text, and at the same time, annotate the entity category.\n",
        "\n",
        "In the following example, we have four `GPE` (i.e., geopolitical entities, usually countries and cities) identified."
      ]
    },
    {
      "cell_type": "code",
      "execution_count": null,
      "id": "7a5a5219-af1f-445c-a35b-7c49d739a91b",
      "metadata": {
        "id": "7a5a5219-af1f-445c-a35b-7c49d739a91b"
      },
      "outputs": [],
      "source": [
        "# Visualize the identified entities\n",
        "from spacy import displacy\n",
        "displacy.render(doc_city, style='ent', jupyter=True)"
      ]
    },
    {
      "cell_type": "markdown",
      "id": "f5d7953b-04a1-46d0-817a-db29edd8c83b",
      "metadata": {
        "id": "f5d7953b-04a1-46d0-817a-db29edd8c83b"
      },
      "source": [
        "Let's give it a try with another example."
      ]
    },
    {
      "cell_type": "code",
      "execution_count": null,
      "id": "9246c7e3-8990-4d47-a355-deb63dbd1cc7",
      "metadata": {
        "id": "9246c7e3-8990-4d47-a355-deb63dbd1cc7"
      },
      "outputs": [],
      "source": [
        "# Print entities identified from the text\n",
        "doc_airport = nlp(tweet_airport)\n",
        "for ent in doc_airport.ents:\n",
        "     print(f\"{ent.text:<15} | {ent.start_char:<10} | {ent.end_char:<10} | {ent.label_:<10}\")"
      ]
    },
    {
      "cell_type": "markdown",
      "id": "1df38472-3193-44c5-9b2f-e311ce9d42e0",
      "metadata": {
        "id": "1df38472-3193-44c5-9b2f-e311ce9d42e0"
      },
      "source": [
        "Interesting that airport codes are identified as `ORG`—organizations, and the tweet handle as `CARDINAL`."
      ]
    },
    {
      "cell_type": "code",
      "execution_count": null,
      "id": "7e4bf382-4c57-4b78-a37f-fc1f6cb1d565",
      "metadata": {
        "id": "7e4bf382-4c57-4b78-a37f-fc1f6cb1d565"
      },
      "outputs": [],
      "source": [
        "# Visualize the identified entities\n",
        "displacy.render(doc_airport, style='ent', jupyter=True)"
      ]
    },
    {
      "cell_type": "markdown",
      "id": "467d6f28-effc-4fe1-90e9-47c89dc5492d",
      "metadata": {
        "id": "467d6f28-effc-4fe1-90e9-47c89dc5492d"
      },
      "source": [
        "## Tokenizers Since LLMs\n",
        "\n",
        "So far, we've seen what tokenization looks like with two widely-used NLP packages. They work quite well in some settings, but not others. Recall that `nltk` struggles with URLs. Now, imagine the data we have is even messier, containing misspellings, recently coined words, foreign names, and etc (collectively called \"out of vocabulary\" or OOV words). In such circumstances, we might need a more powerful model to handle these complexities.\n",
        "\n",
        "In fact, tokenization schemes change substantially with **Large Language Models** (LLMs), which are models trained on an enormous amount of data from mixed sources. With that magnitude of data, LLMs are better at chunking a longer sequence into tokens and tokens into **subtokens**. These subtokens can be morphological units of a word, such as an affix, but they can also be parts of a word where the model sets a \"meaningful\" boundary.\n",
        "\n",
        "In this section, we will demonstrate tokenization in **BERT** (Bidirectional Encoder Representations from Transformers), which utilizes a tokenization algorithm called [**WordPiece**](https://huggingface.co/learn/nlp-course/en/chapter6/6).\n",
        "\n",
        "We will load the tokenizer of BERT from the package `transformers`, which hosts a number of Transformer-based LLMs (e.g., BERT). We won't go into the architecture of Transformer in this workshop, but feel free to check out the D-lab workshop on [GPT Fundamentals](https://github.com/dlab-berkeley/GPT-Fundamentals)!"
      ]
    },
    {
      "cell_type": "markdown",
      "id": "b5e1509b-5b9e-456d-909f-a6b5099c48c8",
      "metadata": {
        "id": "b5e1509b-5b9e-456d-909f-a6b5099c48c8"
      },
      "source": [
        "### WordPiece Tokenization\n",
        "\n",
        "Note that BERT comes in a variety of versions. The one we will explore today is `bert-base-uncased`. This model has a moderate size (referred to as `base`) and is case-insensitive, meaning the input text will be lowercased by default."
      ]
    },
    {
      "cell_type": "code",
      "execution_count": null,
      "id": "7927226c-d04e-4117-9c49-3d355611b209",
      "metadata": {
        "scrolled": true,
        "id": "7927226c-d04e-4117-9c49-3d355611b209"
      },
      "outputs": [],
      "source": [
        "# Load BERT tokenizer in\n",
        "from transformers import BertTokenizer\n",
        "\n",
        "# Initialize the tokenizer\n",
        "tokenizer = BertTokenizer.from_pretrained('bert-base-uncased')"
      ]
    },
    {
      "cell_type": "markdown",
      "id": "128cfb38-274e-4d75-9d14-8744020fe49c",
      "metadata": {
        "id": "128cfb38-274e-4d75-9d14-8744020fe49c"
      },
      "source": [
        "The tokenizer has multiple functions, as we will see in a minute. Now we want to access the `.tokenize()` function from the tokenizer.\n",
        "\n",
        "Let's tokenize an example tweet below. What have you noticed?"
      ]
    },
    {
      "cell_type": "code",
      "execution_count": null,
      "id": "62649193-bb00-4ae8-9102-bce3d1dfb6c8",
      "metadata": {
        "id": "62649193-bb00-4ae8-9102-bce3d1dfb6c8"
      },
      "outputs": [],
      "source": [
        "# Select an example tweet from dataframe\n",
        "text = tweets['text'][194]\n",
        "print(f\"Text: {text}\")\n",
        "print(f\"{'=' * 50}\")\n",
        "\n",
        "# Apply tokenizer\n",
        "tokens = tokenizer.tokenize(text)\n",
        "print(f\"Tokens: {tokens}\")\n",
        "print(f\"Number of tokens: {len(tokens)}\")"
      ]
    },
    {
      "cell_type": "markdown",
      "id": "bc4f780e-207c-4d3d-b1b6-063c6d118945",
      "metadata": {
        "id": "bc4f780e-207c-4d3d-b1b6-063c6d118945"
      },
      "source": [
        "The double \"hashtag\" symbols (`##`) refer to a subword token—a segment separated from the previous token.\n",
        "\n",
        "🔔 **Question**: Do these subwords make sense to you?\n",
        "\n",
        "One significant development with LLMs is that each token is assigned an ID from its vocabulary. Our computer does not understand text in its raw form, so each token is translated into an ID. These IDs are the inputs that the model accesses and operates on.\n",
        "\n",
        "Tokens and IDs can be converted bidirectionally, for example:"
      ]
    },
    {
      "cell_type": "code",
      "execution_count": null,
      "id": "3112a63d-82b6-4fc0-a904-ab86f8740653",
      "metadata": {
        "id": "3112a63d-82b6-4fc0-a904-ab86f8740653"
      },
      "outputs": [],
      "source": [
        "# Get the input ID of the word\n",
        "print(f\"ID of just is: {tokenizer.vocab['just']}\")\n",
        "\n",
        "# Get the text of the input ID\n",
        "print(f\"Token 2074 is: {tokenizer.decode([2074])}\")"
      ]
    },
    {
      "cell_type": "markdown",
      "id": "2b9fd13d-f26e-480c-b43e-2b5fbc4898cd",
      "metadata": {
        "id": "2b9fd13d-f26e-480c-b43e-2b5fbc4898cd"
      },
      "source": [
        "Let's convert tokens to input IDs."
      ]
    },
    {
      "cell_type": "code",
      "execution_count": null,
      "id": "8d125e1d-2560-4136-829c-b1c11e34636c",
      "metadata": {
        "id": "8d125e1d-2560-4136-829c-b1c11e34636c"
      },
      "outputs": [],
      "source": [
        "# Convert a list of tokens to a list of input IDs\n",
        "input_ids = tokenizer.convert_tokens_to_ids(tokens)\n",
        "print(f\"Number of input IDs: {len(input_ids)}\")\n",
        "print(f\"Input IDs of text: {input_ids}\")"
      ]
    },
    {
      "cell_type": "markdown",
      "id": "f25a1a14-a6db-414b-a1a8-c6be73c81a15",
      "metadata": {
        "id": "f25a1a14-a6db-414b-a1a8-c6be73c81a15"
      },
      "source": [
        "### Special Tokens\n",
        "\n",
        "In addition to the tokens and subtokens discussed above, BERT also makes use of three special tokens: `SEP`, `CLS`, and `UNK`. The `SEP` token acts as a sentence terminator, commonly known as an `EOS` (End of Sentence) token. The `UNK` token represents any token that is not found in the vocabulary, hence \"unknown\" tokens. The `CLS` token is added to the beginning of the sentence. It originates from text classification tasks (e.g., spam detection), where reseachers found it useful to have a token that aggregates the information of the entire sentence for classification purposes.\n",
        "\n",
        "When we apply `tokenizer()` directly to our text data, we are asking BERT to **encode** the text for us. This involves multiple steps:\n",
        "- Tokenize the text\n",
        "- Add special tokens\n",
        "- Convert tokens to input IDs\n",
        "- Other model-specific processes\n",
        "  \n",
        "Let's print them out."
      ]
    },
    {
      "cell_type": "code",
      "execution_count": null,
      "id": "21479c25-7a9a-4fac-ba09-1812575b8170",
      "metadata": {
        "id": "21479c25-7a9a-4fac-ba09-1812575b8170"
      },
      "outputs": [],
      "source": [
        "# Get the input IDs by providing the key\n",
        "input_ids_from_tokenizer = tokenizer(text)['input_ids']\n",
        "print(f\"Number of input IDs: {len(input_ids_from_tokenizer)}\")\n",
        "print(f\"IDs from tokenizer: {input_ids_from_tokenizer}\")"
      ]
    },
    {
      "cell_type": "markdown",
      "id": "bb6ea98e-7374-488a-a804-46cab166125c",
      "metadata": {
        "id": "bb6ea98e-7374-488a-a804-46cab166125c"
      },
      "source": [
        "It looks like we have two more tokens added: 101 and 102.\n",
        "\n",
        "Let's convert them to texts!"
      ]
    },
    {
      "cell_type": "code",
      "execution_count": null,
      "id": "82a18dc1-ca0d-4d5b-8ac6-f56cb44bf8e3",
      "metadata": {
        "id": "82a18dc1-ca0d-4d5b-8ac6-f56cb44bf8e3"
      },
      "outputs": [],
      "source": [
        "# Convert input IDs to texts\n",
        "print(f\"The 101st token: {tokenizer.convert_ids_to_tokens(101)}\")\n",
        "print(f\"The 102nd token: {tokenizer.convert_ids_to_tokens(102)}\")"
      ]
    },
    {
      "cell_type": "markdown",
      "id": "b16d4e10-e96c-432a-a6c9-2c992d00fcde",
      "metadata": {
        "id": "b16d4e10-e96c-432a-a6c9-2c992d00fcde"
      },
      "source": [
        "As you can see, our text example is now a list of vocabulary IDs. In addtion to that, BERT adds the sentence terminator `SEP` and the beginning `CLS` token to the original text. BERT's tokenizer encodes tons of texts likewise; and afterwards, they are ready for further processes."
      ]
    },
    {
      "cell_type": "markdown",
      "id": "ac56be32-2a5f-441e-8283-de3e60705c0b",
      "metadata": {
        "id": "ac56be32-2a5f-441e-8283-de3e60705c0b"
      },
      "source": [
        "## 🥊 Challenge 3: Find the Word Boundary\n",
        "\n",
        "Now that we know tokenization in BERT often returns subwords. Let's try a few more examples.\n",
        "\n",
        "- What do you think is the correct boundary for splitting the following words into subwords?\n",
        "- What other examples have you tested?"
      ]
    },
    {
      "cell_type": "code",
      "execution_count": null,
      "id": "f1140b19-398c-44dd-829c-c922b0e6f7eb",
      "metadata": {
        "id": "f1140b19-398c-44dd-829c-c922b0e6f7eb"
      },
      "outputs": [],
      "source": [
        "def get_tokens(string):\n",
        "    '''Tokenzie the input string with BERT'''\n",
        "    tokens = tokenizer.tokenize(string)\n",
        "    return print(tokens)"
      ]
    },
    {
      "cell_type": "code",
      "execution_count": null,
      "id": "0c07c71e-5be2-4d91-9c6f-26de4145307d",
      "metadata": {
        "id": "0c07c71e-5be2-4d91-9c6f-26de4145307d"
      },
      "outputs": [],
      "source": [
        "# Abbreviations\n",
        "get_tokens('dlab')\n",
        "\n",
        "# OOV\n",
        "get_tokens('covid')\n",
        "\n",
        "# Prefix\n",
        "get_tokens('huggable')\n",
        "\n",
        "# Digits\n",
        "get_tokens('378')\n",
        "\n",
        "# YOUR EXAMPLE"
      ]
    },
    {
      "cell_type": "markdown",
      "id": "4acb7cb9-6e60-4e0a-8cc6-21d57237e835",
      "metadata": {
        "id": "4acb7cb9-6e60-4e0a-8cc6-21d57237e835"
      },
      "source": [
        "We will wrap up Part 1 with this (hopefully) thought-provoking challenge. LLMs often come with a much more sophisticated tokenization scheme, but there is ongoing discussion about their limitations in real-world applications. The reference section includes a few blog posts discussing this problem. Feel free to explore further if this sounds like an interesting question to you!"
      ]
    },
    {
      "cell_type": "markdown",
      "id": "d7943ed9-70de-4f4a-b1bb-b2896d05e618",
      "metadata": {
        "id": "d7943ed9-70de-4f4a-b1bb-b2896d05e618"
      },
      "source": [
        "## References\n",
        "\n",
        "1. A tutorial introducing the tokenization scheme in BERT: [The huggingface NLP course on wordpiece tokenization](https://huggingface.co/learn/nlp-course/chapter6/6?fw=pt)\n",
        "2. A specific example of \"failure\" in tokenization: [Weaknesses of wordpiece tokenization: Findings from the front lines of NLP at VMware.](https://medium.com/@rickbattle/weaknesses-of-wordpiece-tokenization-eb20e37fec99)\n",
        "3. How does BERT decide boundaries between subtokens: [Subword tokenization in BERT](https://tinkerd.net/blog/machine-learning/bert-tokenization/#subword-tokenization)"
      ]
    },
    {
      "cell_type": "markdown",
      "id": "ce0812a7-f033-46ed-bc7b-67109c369e6c",
      "metadata": {
        "id": "ce0812a7-f033-46ed-bc7b-67109c369e6c"
      },
      "source": [
        "<div class=\"alert alert-success\">\n",
        "\n",
        "## ❗ Key Points\n",
        "\n",
        "* Preprocessing includes multiple steps, some of them are more common to text data regardlessly, and some are task-specific.\n",
        "* Both `nltk` and `spaCy` could be used for tokenization and stop word removal. The latter is more powerful in providing various linguistic annotations.\n",
        "* Tokenization works differently in BERT, which often involves breaking down a whole word into subwords.\n",
        "\n",
        "</div>"
      ]
    }
  ],
  "metadata": {
    "kernelspec": {
      "display_name": "Python 3 (ipykernel)",
      "language": "python",
      "name": "python3"
    },
    "language_info": {
      "codemirror_mode": {
        "name": "ipython",
        "version": 3
      },
      "file_extension": ".py",
      "mimetype": "text/x-python",
      "name": "python",
      "nbconvert_exporter": "python",
      "pygments_lexer": "ipython3",
      "version": "3.11.4"
    },
    "colab": {
      "provenance": []
    }
  },
  "nbformat": 4,
  "nbformat_minor": 5
}